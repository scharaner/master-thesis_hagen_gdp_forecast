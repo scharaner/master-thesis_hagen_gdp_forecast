{
 "cells": [
  {
   "cell_type": "code",
   "execution_count": 325,
   "id": "e2fde171",
   "metadata": {},
   "outputs": [],
   "source": [
    "import matplotlib.pyplot as plt\n",
    "import pandas as pd\n",
    "import numpy as np\n",
    "import matplotlib.dates as mdates\n",
    "import os\n",
    "from typing import Literal   \n",
    "\n",
    "from statsmodels.tsa.api import VAR\n",
    "import numpy as np\n",
    "from sklearn.metrics import mean_squared_error\n",
    "from sklearn.preprocessing import StandardScaler\n",
    "scaler = StandardScaler()"
   ]
  },
  {
   "cell_type": "code",
   "execution_count": 326,
   "id": "19200622",
   "metadata": {},
   "outputs": [],
   "source": [
    "import tf_keras as keras  \n",
    "from tf_keras import layers\n",
    "from tf_keras import Sequential\n",
    "import tensorflow_datasets as tfds\n",
    "import tensorflow_probability as tfp\n",
    "from tf_keras import Model\n",
    "from tf_keras.losses import MeanSquaredError\n",
    "from tf_keras.layers import LSTM, Dense, Input, Dropout\n",
    "from tf_keras.optimizers import Adam\n",
    "from sktime.forecasting.model_selection import ExpandingWindowSplitter\n",
    "from sklearn.ensemble import GradientBoostingRegressor\n",
    "from sklearn.ensemble import RandomForestRegressor\n",
    "from sktime.forecasting.compose import make_reduction\n",
    "from sktime.forecasting.base import ForecastingHorizon\n",
    "mse_loss = MeanSquaredError()\n",
    "\n",
    "# TensorFlow Probability\n",
    "tfd = tfp.distributions\n",
    "tfpl = tfp.layers\n",
    "\n"
   ]
  },
  {
   "cell_type": "code",
   "execution_count": null,
   "id": "19a5209a",
   "metadata": {},
   "outputs": [],
   "source": [
    "def load_de_eamd_qd(filepath: str = \"./Data/EA-MD-QD-04-2025/DEdata.xlsx\",\n",
    "                    sheet: str | int | None = None) -> pd.DataFrame:\n",
    "    \"\"\"\n",
    "    Liest die Excel‑Datei mit den EA‑MD/QD‑Daten ein.\n",
    "\n",
    "    Parameter\n",
    "    ----------\n",
    "    filepath : str\n",
    "        Pfad zur Excel‑Datei.\n",
    "    sheet : str | int | None\n",
    "        - None  ➜ alle Sheets werden eingelesen und als dict zurückgegeben\n",
    "        - str   ➜ Name des gewünschten Sheets\n",
    "        - int   ➜ Sheet‑Index (0‑basiert)\n",
    "\n",
    "    Returns\n",
    "    -------\n",
    "    pd.DataFrame | dict[str, pd.DataFrame]\n",
    "        DataFrame eines einzelnen Sheets oder Dict aller Sheets.\n",
    "    \"\"\"\n",
    "    if not os.path.exists(filepath):\n",
    "        raise FileNotFoundError(f\"Datei nicht gefunden: {filepath}\")\n",
    "    \n",
    "    print(f\"Lade Datei: {filepath}\")\n",
    "\n",
    "\n",
    "    data = pd.read_excel(filepath, sheet_name=sheet, engine=\"openpyxl\")\n",
    "\n",
    "    if isinstance(data, pd.DataFrame):\n",
    "        if \"Time\" in data.columns:\n",
    "            data[\"Time\"] = pd.to_datetime(data[\"Time\"], errors='coerce')\n",
    "            data.set_index(\"Time\", inplace=True)\n",
    "\n",
    "    print(\"Datei geladen\")\n",
    "\n",
    "    return data\n"
   ]
  },
  {
   "cell_type": "code",
   "execution_count": null,
   "id": "f9c334b4",
   "metadata": {},
   "outputs": [],
   "source": [
    "def apply_tcode(series: pd.Series, tcode: float) -> pd.Series:\n",
    "    \"\"\"Pure Stationierung ohne Resampling-Logik.\"\"\"\n",
    "    if tcode == 0:\n",
    "        return series\n",
    "    if tcode == 1:\n",
    "        return 100 * np.log(series)\n",
    "    if tcode in {2, 2.5}:\n",
    "        return 100 * np.log(series).diff()\n",
    "    if tcode == 3:\n",
    "        return np.log(series).diff(2)\n",
    "    if tcode == 4:\n",
    "        return series.diff()\n",
    "    if tcode == 5:\n",
    "        return series.diff(2)\n",
    "    if tcode == 4.5:\n",
    "        return series.diff()\n",
    "    raise ValueError(f\"TCode {tcode} unbekannt\")\n",
    "\n",
    "def transform_panel(\n",
    "    df_raw: pd.DataFrame,\n",
    "    meta_df: pd.DataFrame,\n",
    "    regime: Literal[\"TR\", \"TR1\", \"TR2\"] = \"TR1\",\n",
    "    monthly_to_quarterly: Literal[\"mean\", \"sum\", \"none\"] = \"mean\",\n",
    ") -> tuple[pd.DataFrame, pd.DataFrame]:\n",
    "    \"\"\"\n",
    "    Gibt ZWEI DataFrames zurück:\n",
    "      • df_q : Quartalsdaten (alle Reihen schon quartals‑taktend & stationär)\n",
    "      • df_m : Monatsdaten (stationär; nur Monatsreihen)\n",
    "    \"\"\"\n",
    "    if not isinstance(df_raw.index, (pd.DatetimeIndex, pd.PeriodIndex)):\n",
    "        df_raw = df_raw.copy()\n",
    "        df_raw.index = pd.to_datetime(df_raw.index)\n",
    "\n",
    "    q_dict, m_dict = {}, {}\n",
    "\n",
    "    for _, row in meta_df.iterrows():\n",
    "        name  = row[\"Name\"]\n",
    "        if name not in df_raw.columns:\n",
    "            continue\n",
    "\n",
    "        tcode = row.get(regime, np.nan)\n",
    "\n",
    "        freq = str(row[\"Frequency\"]).upper()\n",
    "\n",
    "        ser = df_raw[name]\n",
    "\n",
    "        if freq.startswith(\"Q\"):\n",
    "            ser = ser.resample(\"Q\").last()\n",
    "            ser = apply_tcode(ser, tcode)\n",
    "            q_dict[name] = ser\n",
    "\n",
    "        elif freq.startswith(\"M\"):\n",
    "            ser = apply_tcode(ser, tcode)\n",
    "\n",
    "            if monthly_to_quarterly != \"none\":\n",
    "                if tcode in {2.5, 4.5}:    \n",
    "                    ser = ser.resample(\"Q\").mean()\n",
    "                elif monthly_to_quarterly == \"sum\" and int(row[\"Aggregation\"]) == 1:\n",
    "                    ser = ser.resample(\"Q\").sum()\n",
    "                elif monthly_to_quarterly == \"mean\":\n",
    "                    ser = ser.resample(\"Q\").mean()\n",
    "\n",
    "            m_dict[name] = ser if monthly_to_quarterly == \"none\" else apply_tcode(df_raw[name], tcode)\n",
    "            q_dict[name] = ser\n",
    "\n",
    "    df_q = pd.concat(q_dict, axis=1).dropna(how=\"all\")\n",
    "    df_m = pd.concat(m_dict, axis=1).dropna(how=\"all\") if m_dict else pd.DataFrame()\n",
    "\n",
    "    return df_q, df_m"
   ]
  },
  {
   "cell_type": "markdown",
   "id": "ca674e0b",
   "metadata": {},
   "source": [
    "### Lade EU Weite Daten"
   ]
  },
  {
   "cell_type": "code",
   "execution_count": 233,
   "id": "9cb6f3cc",
   "metadata": {},
   "outputs": [
    {
     "name": "stdout",
     "output_type": "stream",
     "text": [
      "Lade Datei: ./Data/EA-MD-QD-04-2025/EAdata.xlsx\n",
      "Datei geladen\n",
      "Lade Datei: ./Data/EA-MD-QD-04-2025/EAdata.xlsx\n",
      "Datei geladen\n"
     ]
    }
   ],
   "source": [
    "df_EU = load_de_eamd_qd(filepath=\"./Data/EA-MD-QD-04-2025/EAdata.xlsx\", sheet=\"data\")\n",
    "meta_df_EU = load_de_eamd_qd(filepath=\"./Data/EA-MD-QD-04-2025/EAdata.xlsx\", sheet=\"info\")"
   ]
  },
  {
   "cell_type": "code",
   "execution_count": 234,
   "id": "ffce6b8f",
   "metadata": {},
   "outputs": [
    {
     "name": "stderr",
     "output_type": "stream",
     "text": [
      "/var/folders/01/0kkk3sm55p5_dtxnk5www9r00000gn/T/ipykernel_41382/2036466473.py:52: FutureWarning: 'Q' is deprecated and will be removed in a future version, please use 'QE' instead.\n",
      "  ser = ser.resample(\"Q\").last()\n",
      "/var/folders/01/0kkk3sm55p5_dtxnk5www9r00000gn/T/ipykernel_41382/2036466473.py:52: FutureWarning: 'Q' is deprecated and will be removed in a future version, please use 'QE' instead.\n",
      "  ser = ser.resample(\"Q\").last()\n",
      "/var/folders/01/0kkk3sm55p5_dtxnk5www9r00000gn/T/ipykernel_41382/2036466473.py:63: FutureWarning: 'Q' is deprecated and will be removed in a future version, please use 'QE' instead.\n",
      "  ser = ser.resample(\"Q\").mean()\n",
      "/var/folders/01/0kkk3sm55p5_dtxnk5www9r00000gn/T/ipykernel_41382/2036466473.py:67: FutureWarning: 'Q' is deprecated and will be removed in a future version, please use 'QE' instead.\n",
      "  ser = ser.resample(\"Q\").mean()\n"
     ]
    }
   ],
   "source": [
    "df_q_EU, df_m_EU = transform_panel(df_EU, meta_df_EU)"
   ]
  },
  {
   "cell_type": "code",
   "execution_count": 235,
   "id": "5c661892",
   "metadata": {},
   "outputs": [],
   "source": [
    "df_q_EU.rename(columns={\"GDP_EA\": \"GDP\", \"UNETOT_EA\": \"UNETOT\",\n",
    "                                  \"HICPNEF_EA\": \"HICPNEF\",\n",
    "                                  \"EMP_EA\": \"EMP\", \"LTIRT_EACC\": \"LTIRT\",\n",
    "                                  \"SHIX_EA\": \"SHIX\"}, inplace=True)\n",
    "\n",
    "df_m_EU.rename(columns={\"GDP_EA\": \"GDP\", \"UNETOT_EA\": \"UNETOT\",\n",
    "                                   \"HICPNEF_EA\": \"HICPNEF\",\n",
    "                                  \"EMP_EA\": \"EMP\", \"LTIRT_EACC\": \"LTIRT\",\n",
    "                                  \"SHIX_EA\": \"SHIX\"}, inplace=True)"
   ]
  },
  {
   "cell_type": "code",
   "execution_count": 236,
   "id": "1a82e975",
   "metadata": {},
   "outputs": [],
   "source": [
    "cols_to_standardize = [\"GDP\", \"UNETOT\",  \"HICPNEF\", \"IRT3M_EACC\", \"EMP\", \"LTIRT\", \"SHIX\", \"M2_EACC\"]"
   ]
  },
  {
   "cell_type": "code",
   "execution_count": 237,
   "id": "8519993a",
   "metadata": {},
   "outputs": [],
   "source": [
    "## werden benötigt um die bei den anderen ds anzuhängen  \n",
    "columns_to_add = ['IRT3M_EACC', 'M2_EACC']\n",
    "Euro_Area_data_q = df_q_EU[columns_to_add]\n",
    "Euro_Area_data_m = df_m_EU[columns_to_add]"
   ]
  },
  {
   "cell_type": "code",
   "execution_count": 238,
   "id": "3e438750",
   "metadata": {},
   "outputs": [],
   "source": [
    "df_q_EU[cols_to_standardize] = scaler.fit_transform(df_q_EU[cols_to_standardize])                                       "
   ]
  },
  {
   "cell_type": "markdown",
   "id": "d6647dc7",
   "metadata": {},
   "source": [
    "### Lade Deutschen Datensatz"
   ]
  },
  {
   "cell_type": "code",
   "execution_count": 125,
   "id": "54d7470a",
   "metadata": {},
   "outputs": [
    {
     "name": "stdout",
     "output_type": "stream",
     "text": [
      "Lade Datei: ./Data/EA-MD-QD-04-2025/DEdata.xlsx\n",
      "Datei geladen\n",
      "Lade Datei: ./Data/EA-MD-QD-04-2025/DEdata.xlsx\n",
      "Datei geladen\n"
     ]
    }
   ],
   "source": [
    "df_DE = load_de_eamd_qd(filepath=\"./Data/EA-MD-QD-04-2025/DEdata.xlsx\", sheet=\"data\")\n",
    "meta_df_DE = load_de_eamd_qd(filepath=\"./Data/EA-MD-QD-04-2025/DEdata.xlsx\", sheet=\"info\")"
   ]
  },
  {
   "cell_type": "code",
   "execution_count": 126,
   "id": "85c58c36",
   "metadata": {},
   "outputs": [
    {
     "name": "stderr",
     "output_type": "stream",
     "text": [
      "/var/folders/01/0kkk3sm55p5_dtxnk5www9r00000gn/T/ipykernel_41382/2036466473.py:52: FutureWarning: 'Q' is deprecated and will be removed in a future version, please use 'QE' instead.\n",
      "  ser = ser.resample(\"Q\").last()\n",
      "/var/folders/01/0kkk3sm55p5_dtxnk5www9r00000gn/T/ipykernel_41382/2036466473.py:52: FutureWarning: 'Q' is deprecated and will be removed in a future version, please use 'QE' instead.\n",
      "  ser = ser.resample(\"Q\").last()\n",
      "/var/folders/01/0kkk3sm55p5_dtxnk5www9r00000gn/T/ipykernel_41382/2036466473.py:63: FutureWarning: 'Q' is deprecated and will be removed in a future version, please use 'QE' instead.\n",
      "  ser = ser.resample(\"Q\").mean()\n",
      "/var/folders/01/0kkk3sm55p5_dtxnk5www9r00000gn/T/ipykernel_41382/2036466473.py:67: FutureWarning: 'Q' is deprecated and will be removed in a future version, please use 'QE' instead.\n",
      "  ser = ser.resample(\"Q\").mean()\n"
     ]
    }
   ],
   "source": [
    "df_q_DE, df_m_DE = transform_panel(df_DE, meta_df_DE)"
   ]
  },
  {
   "cell_type": "code",
   "execution_count": 127,
   "id": "f4405a7a",
   "metadata": {},
   "outputs": [],
   "source": [
    "df_q_DE.rename(columns={\"GDP_DE\": \"GDP\", \"UNETOT_DE\": \"UNETOT\",\n",
    "                                  \"HICPNEF_DE\": \"HICPNEF\",\n",
    "                                  \"EMP_DE\": \"EMP\", \"LTIRT_DE\": \"LTIRT\",\n",
    "                                  \"SHIX_DE\": \"SHIX\"}, inplace=True)\n",
    "\n",
    "df_q_DE.rename(columns={\"GDP_DE\": \"GDP\", \"UNETOT_DE\": \"UNETOT\",\n",
    "                                   \"HICPNEF_DE\": \"HICPNEF\",\n",
    "                                  \"EMP_DE\": \"EMP\", \"LTIRT_DE\": \"LTIRT\",\n",
    "                                  \"SHIX_DE\": \"SHIX\"}, inplace=True)"
   ]
  },
  {
   "cell_type": "code",
   "execution_count": 128,
   "id": "5e8fd8b3",
   "metadata": {},
   "outputs": [],
   "source": [
    "df_q_DE = df_q_DE.join(Euro_Area_data_q, how='left')  \n",
    "df_m_DE = df_m_DE.join(Euro_Area_data_m, how='left')\n",
    "df_q_DE[cols_to_standardize] = scaler.fit_transform(df_q_DE[cols_to_standardize])                                       "
   ]
  },
  {
   "cell_type": "code",
   "execution_count": 75,
   "id": "a3c4fc91",
   "metadata": {},
   "outputs": [
    {
     "data": {
      "text/html": [
       "<div>\n",
       "<style scoped>\n",
       "    .dataframe tbody tr th:only-of-type {\n",
       "        vertical-align: middle;\n",
       "    }\n",
       "\n",
       "    .dataframe tbody tr th {\n",
       "        vertical-align: top;\n",
       "    }\n",
       "\n",
       "    .dataframe thead th {\n",
       "        text-align: right;\n",
       "    }\n",
       "</style>\n",
       "<table border=\"1\" class=\"dataframe\">\n",
       "  <thead>\n",
       "    <tr style=\"text-align: right;\">\n",
       "      <th></th>\n",
       "      <th>GDP</th>\n",
       "      <th>UNETOT</th>\n",
       "      <th>HICPNEF</th>\n",
       "      <th>IRT3M_EACC</th>\n",
       "      <th>EMP</th>\n",
       "      <th>LTIRT</th>\n",
       "      <th>SHIX</th>\n",
       "      <th>M2_EACC</th>\n",
       "    </tr>\n",
       "    <tr>\n",
       "      <th>Time</th>\n",
       "      <th></th>\n",
       "      <th></th>\n",
       "      <th></th>\n",
       "      <th></th>\n",
       "      <th></th>\n",
       "      <th></th>\n",
       "      <th></th>\n",
       "      <th></th>\n",
       "    </tr>\n",
       "  </thead>\n",
       "  <tbody>\n",
       "    <tr>\n",
       "      <th>2000-03-31</th>\n",
       "      <td>NaN</td>\n",
       "      <td>-0.050000</td>\n",
       "      <td>-0.238774</td>\n",
       "      <td>0.403900</td>\n",
       "      <td>NaN</td>\n",
       "      <td>-0.210000</td>\n",
       "      <td>7.361947</td>\n",
       "      <td>0.335308</td>\n",
       "    </tr>\n",
       "    <tr>\n",
       "      <th>2000-06-30</th>\n",
       "      <td>0.770210</td>\n",
       "      <td>-0.033333</td>\n",
       "      <td>-0.046340</td>\n",
       "      <td>0.526633</td>\n",
       "      <td>0.353657</td>\n",
       "      <td>-0.090000</td>\n",
       "      <td>-3.310582</td>\n",
       "      <td>0.175773</td>\n",
       "    </tr>\n",
       "    <tr>\n",
       "      <th>2000-09-30</th>\n",
       "      <td>0.060880</td>\n",
       "      <td>-0.033333</td>\n",
       "      <td>0.271414</td>\n",
       "      <td>0.255400</td>\n",
       "      <td>0.125012</td>\n",
       "      <td>-0.033333</td>\n",
       "      <td>-1.202225</td>\n",
       "      <td>0.326457</td>\n",
       "    </tr>\n",
       "    <tr>\n",
       "      <th>2000-12-31</th>\n",
       "      <td>-0.426908</td>\n",
       "      <td>-0.066667</td>\n",
       "      <td>0.059150</td>\n",
       "      <td>0.133767</td>\n",
       "      <td>-0.016659</td>\n",
       "      <td>-0.143333</td>\n",
       "      <td>-4.204748</td>\n",
       "      <td>0.115508</td>\n",
       "    </tr>\n",
       "    <tr>\n",
       "      <th>2001-03-31</th>\n",
       "      <td>2.131516</td>\n",
       "      <td>-0.033333</td>\n",
       "      <td>0.251987</td>\n",
       "      <td>-0.188933</td>\n",
       "      <td>-0.286418</td>\n",
       "      <td>-0.196667</td>\n",
       "      <td>-2.845396</td>\n",
       "      <td>1.206819</td>\n",
       "    </tr>\n",
       "    <tr>\n",
       "      <th>...</th>\n",
       "      <td>...</td>\n",
       "      <td>...</td>\n",
       "      <td>...</td>\n",
       "      <td>...</td>\n",
       "      <td>...</td>\n",
       "      <td>...</td>\n",
       "      <td>...</td>\n",
       "      <td>...</td>\n",
       "    </tr>\n",
       "    <tr>\n",
       "      <th>2024-03-31</th>\n",
       "      <td>0.236300</td>\n",
       "      <td>0.033333</td>\n",
       "      <td>0.398989</td>\n",
       "      <td>-0.019700</td>\n",
       "      <td>0.134868</td>\n",
       "      <td>-0.006667</td>\n",
       "      <td>2.038968</td>\n",
       "      <td>0.074164</td>\n",
       "    </tr>\n",
       "    <tr>\n",
       "      <th>2024-06-30</th>\n",
       "      <td>-0.296065</td>\n",
       "      <td>0.066667</td>\n",
       "      <td>0.185657</td>\n",
       "      <td>-0.102467</td>\n",
       "      <td>0.077999</td>\n",
       "      <td>0.106667</td>\n",
       "      <td>-0.166499</td>\n",
       "      <td>0.339924</td>\n",
       "    </tr>\n",
       "    <tr>\n",
       "      <th>2024-09-30</th>\n",
       "      <td>0.105146</td>\n",
       "      <td>0.000000</td>\n",
       "      <td>0.229733</td>\n",
       "      <td>-0.185633</td>\n",
       "      <td>-0.059084</td>\n",
       "      <td>-0.206667</td>\n",
       "      <td>0.734315</td>\n",
       "      <td>0.240754</td>\n",
       "    </tr>\n",
       "    <tr>\n",
       "      <th>2024-12-31</th>\n",
       "      <td>-0.200837</td>\n",
       "      <td>0.000000</td>\n",
       "      <td>-0.032586</td>\n",
       "      <td>-0.386133</td>\n",
       "      <td>0.037818</td>\n",
       "      <td>0.036667</td>\n",
       "      <td>1.933374</td>\n",
       "      <td>0.378571</td>\n",
       "    </tr>\n",
       "    <tr>\n",
       "      <th>2025-03-31</th>\n",
       "      <td>NaN</td>\n",
       "      <td>0.000000</td>\n",
       "      <td>0.230081</td>\n",
       "      <td>-0.285200</td>\n",
       "      <td>NaN</td>\n",
       "      <td>0.220000</td>\n",
       "      <td>4.143591</td>\n",
       "      <td>0.165484</td>\n",
       "    </tr>\n",
       "  </tbody>\n",
       "</table>\n",
       "<p>101 rows × 8 columns</p>\n",
       "</div>"
      ],
      "text/plain": [
       "                 GDP    UNETOT   HICPNEF  IRT3M_EACC       EMP     LTIRT  \\\n",
       "Time                                                                       \n",
       "2000-03-31       NaN -0.050000 -0.238774    0.403900       NaN -0.210000   \n",
       "2000-06-30  0.770210 -0.033333 -0.046340    0.526633  0.353657 -0.090000   \n",
       "2000-09-30  0.060880 -0.033333  0.271414    0.255400  0.125012 -0.033333   \n",
       "2000-12-31 -0.426908 -0.066667  0.059150    0.133767 -0.016659 -0.143333   \n",
       "2001-03-31  2.131516 -0.033333  0.251987   -0.188933 -0.286418 -0.196667   \n",
       "...              ...       ...       ...         ...       ...       ...   \n",
       "2024-03-31  0.236300  0.033333  0.398989   -0.019700  0.134868 -0.006667   \n",
       "2024-06-30 -0.296065  0.066667  0.185657   -0.102467  0.077999  0.106667   \n",
       "2024-09-30  0.105146  0.000000  0.229733   -0.185633 -0.059084 -0.206667   \n",
       "2024-12-31 -0.200837  0.000000 -0.032586   -0.386133  0.037818  0.036667   \n",
       "2025-03-31       NaN  0.000000  0.230081   -0.285200       NaN  0.220000   \n",
       "\n",
       "                SHIX   M2_EACC  \n",
       "Time                            \n",
       "2000-03-31  7.361947  0.335308  \n",
       "2000-06-30 -3.310582  0.175773  \n",
       "2000-09-30 -1.202225  0.326457  \n",
       "2000-12-31 -4.204748  0.115508  \n",
       "2001-03-31 -2.845396  1.206819  \n",
       "...              ...       ...  \n",
       "2024-03-31  2.038968  0.074164  \n",
       "2024-06-30 -0.166499  0.339924  \n",
       "2024-09-30  0.734315  0.240754  \n",
       "2024-12-31  1.933374  0.378571  \n",
       "2025-03-31  4.143591  0.165484  \n",
       "\n",
       "[101 rows x 8 columns]"
      ]
     },
     "execution_count": 75,
     "metadata": {},
     "output_type": "execute_result"
    }
   ],
   "source": [
    "df_q_DE[cols_to_standardize]"
   ]
  },
  {
   "cell_type": "markdown",
   "id": "dc7490e0",
   "metadata": {},
   "source": [
    "### Lade französischen Datensatz"
   ]
  },
  {
   "cell_type": "code",
   "execution_count": 60,
   "id": "fbf59ecd",
   "metadata": {},
   "outputs": [
    {
     "name": "stdout",
     "output_type": "stream",
     "text": [
      "Lade Datei: ./Data/EA-MD-QD-04-2025/FRdata.xlsx\n",
      "Datei geladen\n",
      "Lade Datei: ./Data/EA-MD-QD-04-2025/FRdata.xlsx\n",
      "Datei geladen\n"
     ]
    }
   ],
   "source": [
    "df_FR = load_de_eamd_qd(filepath=\"./Data/EA-MD-QD-04-2025/FRdata.xlsx\", sheet=\"data\")\n",
    "meta_df_FR = load_de_eamd_qd(filepath=\"./Data/EA-MD-QD-04-2025/FRdata.xlsx\", sheet=\"info\")"
   ]
  },
  {
   "cell_type": "code",
   "execution_count": 61,
   "id": "9c5f5961",
   "metadata": {},
   "outputs": [
    {
     "name": "stderr",
     "output_type": "stream",
     "text": [
      "/var/folders/01/0kkk3sm55p5_dtxnk5www9r00000gn/T/ipykernel_41382/2036466473.py:52: FutureWarning: 'Q' is deprecated and will be removed in a future version, please use 'QE' instead.\n",
      "  ser = ser.resample(\"Q\").last()\n",
      "/var/folders/01/0kkk3sm55p5_dtxnk5www9r00000gn/T/ipykernel_41382/2036466473.py:52: FutureWarning: 'Q' is deprecated and will be removed in a future version, please use 'QE' instead.\n",
      "  ser = ser.resample(\"Q\").last()\n",
      "/var/folders/01/0kkk3sm55p5_dtxnk5www9r00000gn/T/ipykernel_41382/2036466473.py:63: FutureWarning: 'Q' is deprecated and will be removed in a future version, please use 'QE' instead.\n",
      "  ser = ser.resample(\"Q\").mean()\n",
      "/var/folders/01/0kkk3sm55p5_dtxnk5www9r00000gn/T/ipykernel_41382/2036466473.py:67: FutureWarning: 'Q' is deprecated and will be removed in a future version, please use 'QE' instead.\n",
      "  ser = ser.resample(\"Q\").mean()\n"
     ]
    }
   ],
   "source": [
    "df_q_FR, df_m_FR = transform_panel(df_FR, meta_df_FR)"
   ]
  },
  {
   "cell_type": "code",
   "execution_count": 63,
   "id": "00a9a4b2",
   "metadata": {},
   "outputs": [],
   "source": [
    "df_q_FR.rename(columns={\"GDP_FR\": \"GDP\", \"UNETOT_FR\": \"UNETOT\",\n",
    "                                  \"HICPNEF_FR\": \"HICPNEF\",\n",
    "                                  \"EMP_FR\": \"EMP\", \"LTIRT_FR\": \"LTIRT\",\n",
    "                                  \"SHIX_FR\": \"SHIX\"}, inplace=True)\n",
    "\n",
    "df_q_FR.rename(columns={\"GDP_FR\": \"GDP\", \"UNETOT_FR\": \"UNETOT\",\n",
    "                                   \"HICPNEF_FR\": \"HICPNEF\",\n",
    "                                  \"EMP_FR\": \"EMP\", \"LTIRT_FR\": \"LTIRT\",\n",
    "                                  \"SHIX_FR\": \"SHIX\"}, inplace=True)"
   ]
  },
  {
   "cell_type": "code",
   "execution_count": 129,
   "id": "8cf1ffaa",
   "metadata": {},
   "outputs": [],
   "source": [
    "df_q_FR = df_q_FR.join(Euro_Area_data_q, how='left')  \n",
    "df_m_FR = df_m_FR.join(Euro_Area_data_m, how='left')\n",
    "df_q_FR[cols_to_standardize] = scaler.fit_transform(df_q_FR[cols_to_standardize])    "
   ]
  },
  {
   "cell_type": "markdown",
   "id": "5a097ab4",
   "metadata": {},
   "source": [
    "### Lade Italenischen Datensatz"
   ]
  },
  {
   "cell_type": "code",
   "execution_count": 65,
   "id": "d226ed3a",
   "metadata": {},
   "outputs": [
    {
     "name": "stdout",
     "output_type": "stream",
     "text": [
      "Lade Datei: ./Data/EA-MD-QD-04-2025/ITdata.xlsx\n",
      "Datei geladen\n",
      "Lade Datei: ./Data/EA-MD-QD-04-2025/ITdata.xlsx\n",
      "Datei geladen\n"
     ]
    }
   ],
   "source": [
    "df_IT = load_de_eamd_qd(filepath=\"./Data/EA-MD-QD-04-2025/ITdata.xlsx\", sheet=\"data\")\n",
    "meta_df_IT = load_de_eamd_qd(filepath=\"./Data/EA-MD-QD-04-2025/ITdata.xlsx\", sheet=\"info\")"
   ]
  },
  {
   "cell_type": "code",
   "execution_count": 66,
   "id": "fa26d3f1",
   "metadata": {},
   "outputs": [
    {
     "name": "stderr",
     "output_type": "stream",
     "text": [
      "/var/folders/01/0kkk3sm55p5_dtxnk5www9r00000gn/T/ipykernel_41382/2036466473.py:52: FutureWarning: 'Q' is deprecated and will be removed in a future version, please use 'QE' instead.\n",
      "  ser = ser.resample(\"Q\").last()\n",
      "/var/folders/01/0kkk3sm55p5_dtxnk5www9r00000gn/T/ipykernel_41382/2036466473.py:52: FutureWarning: 'Q' is deprecated and will be removed in a future version, please use 'QE' instead.\n",
      "  ser = ser.resample(\"Q\").last()\n",
      "/var/folders/01/0kkk3sm55p5_dtxnk5www9r00000gn/T/ipykernel_41382/2036466473.py:63: FutureWarning: 'Q' is deprecated and will be removed in a future version, please use 'QE' instead.\n",
      "  ser = ser.resample(\"Q\").mean()\n",
      "/var/folders/01/0kkk3sm55p5_dtxnk5www9r00000gn/T/ipykernel_41382/2036466473.py:67: FutureWarning: 'Q' is deprecated and will be removed in a future version, please use 'QE' instead.\n",
      "  ser = ser.resample(\"Q\").mean()\n"
     ]
    }
   ],
   "source": [
    "df_q_IT, df_m_IT = transform_panel(df_IT, meta_df_IT)"
   ]
  },
  {
   "cell_type": "code",
   "execution_count": 67,
   "id": "83cc9521",
   "metadata": {},
   "outputs": [],
   "source": [
    "df_q_IT.rename(columns={\"GDP_IT\": \"GDP\", \"UNETOT_IT\": \"UNETOT\",\n",
    "                                  \"HICPNEF_IT\": \"HICPNEF\",\n",
    "                                  \"EMP_IT\": \"EMP\", \"LTIRT_IT\": \"LTIRT\",\n",
    "                                  \"SHIX_IT\": \"SHIX\"}, inplace=True)\n",
    "\n",
    "df_q_IT.rename(columns={\"GDP_IT\": \"GDP\", \"UNETOT_IT\": \"UNETOT\",\n",
    "                                   \"HICPNEF_IT\": \"HICPNEF\",\n",
    "                                  \"EMP_IT\": \"EMP\", \"LTIRT_IT\": \"LTIRT\",\n",
    "                                  \"SHIX_IT\": \"SHIX\"}, inplace=True)"
   ]
  },
  {
   "cell_type": "code",
   "execution_count": 130,
   "id": "d42b584d",
   "metadata": {},
   "outputs": [],
   "source": [
    "df_q_IT = df_q_IT.join(Euro_Area_data_q, how='left')  \n",
    "df_m_IT = df_m_IT.join(Euro_Area_data_m, how='left')\n",
    "df_q_IT[cols_to_standardize] = scaler.fit_transform(df_q_IT[cols_to_standardize])    "
   ]
  },
  {
   "cell_type": "markdown",
   "id": "bc3a40ca",
   "metadata": {},
   "source": [
    "### Inspect and plot the Data"
   ]
  },
  {
   "cell_type": "code",
   "execution_count": 131,
   "id": "70a0cfe2",
   "metadata": {},
   "outputs": [],
   "source": [
    "## Wichtge Wirtschaftskrisen \n",
    "krisen = [\n",
    "    (\"2001-03-01\", \"2001-11-01\"),  # Dotcom-Blase\n",
    "    (\"2007-12-01\", \"2009-06-01\"),  # Finanzkrise\n",
    "    (\"2020-02-01\", \"2021-12-01\")   # COVID-19-Pandemie\n",
    "]\n",
    "\n",
    "# Datumskonvertierung\n",
    "krisen = [(pd.to_datetime(start), pd.to_datetime(end)) for start, end in krisen]"
   ]
  },
  {
   "cell_type": "code",
   "execution_count": 135,
   "id": "cbccb63b",
   "metadata": {},
   "outputs": [
    {
     "data": {
      "image/png": "[encoded data removed]",
      "text/plain": [
       "<Figure size 1200x600 with 1 Axes>"
      ]
     },
     "metadata": {},
     "output_type": "display_data"
    }
   ],
   "source": [
    "plt.figure(figsize=(12, 6))\n",
    "plt.plot(df_q_EU.index, df_q_EU['GDP'], label='EU')\n",
    "plt.plot(df_q_DE.index, df_q_DE['GDP'], label='DE')\n",
    "plt.plot(df_q_FR.index, df_q_FR['GDP'], label='FR')\n",
    "plt.plot(df_q_IT.index, df_q_IT['GDP'], label='IT')\n",
    "plt.xlabel('Jahr')\n",
    "plt.ylabel('BIP transformiert (dimensionlos)')\n",
    "plt.title('Reales BIP (Quartalszahlen) mit Krisenzeiträumen (transformiert)')\n",
    "plt.legend()\n",
    "\n",
    "# Graue Schattierung für Krisenzeiträume\n",
    "ax = plt.gca()\n",
    "for start, end in krisen:\n",
    "    ax.axvspan(start, end, color='gray', alpha=0.3)\n",
    "\n",
    "# Achsenformatierung: nur alle 10 Jahre anzeigen\n",
    "ax = plt.gca()\n",
    "ax.xaxis.set_major_locator(mdates.YearLocator(10))\n",
    "ax.xaxis.set_major_formatter(mdates.DateFormatter('%Y'))\n",
    "\n",
    "plt.xticks(rotation=45)\n",
    "plt.tight_layout()\n",
    "plt.savefig(\"./plots/BIP_Euro_Area.png\")\n",
    "plt.show()"
   ]
  },
  {
   "cell_type": "markdown",
   "id": "1a0d37a9",
   "metadata": {},
   "source": [
    "### Prognose mit VAR"
   ]
  },
  {
   "cell_type": "code",
   "execution_count": 372,
   "id": "53708841",
   "metadata": {},
   "outputs": [],
   "source": [
    "def Var_Forecast(data, initial_window=54, forecast_steps=1):\n",
    "    y_preds = []\n",
    "    y_trues = []\n",
    "    y_conf_int = []\n",
    "    for i in range(initial_window, len(data) - forecast_steps):\n",
    "        train = data.iloc[:i]\n",
    "        test = data.iloc[i:i + forecast_steps]\n",
    "\n",
    "        # Fit VAR model\n",
    "        model = VAR(train)\n",
    "        try:\n",
    "            results = model.fit(maxlags=5, ic='aic')\n",
    "        except Exception as e:\n",
    "            print(f\"Skipping step {i} due to model error: {e}\")\n",
    "            continue\n",
    "\n",
    "        # Forecast\n",
    "        #y_forecast = results.forecast(train.values[-results.k_ar:], steps=forecast_steps)\n",
    "        y_forecast, stderr, conf_int = results.forecast_interval(train.values[-results.k_ar:], steps=forecast_steps)\n",
    "\n",
    "\n",
    "        # Save only GDPC1\n",
    "        y_preds.append(y_forecast[0][0])           # First row, first column\n",
    "        y_trues.append(test.iloc[0, 0])            # First row, first column in true data\n",
    "        y_conf_int.append(conf_int[0,0])             # First row, confidence interval\n",
    "    return y_preds, y_trues, y_conf_int\n"
   ]
  },
  {
   "cell_type": "code",
   "execution_count": 373,
   "id": "8d66a941",
   "metadata": {},
   "outputs": [
    {
     "data": {
      "text/html": [
       "<div>\n",
       "<style scoped>\n",
       "    .dataframe tbody tr th:only-of-type {\n",
       "        vertical-align: middle;\n",
       "    }\n",
       "\n",
       "    .dataframe tbody tr th {\n",
       "        vertical-align: top;\n",
       "    }\n",
       "\n",
       "    .dataframe thead th {\n",
       "        text-align: right;\n",
       "    }\n",
       "</style>\n",
       "<table border=\"1\" class=\"dataframe\">\n",
       "  <thead>\n",
       "    <tr style=\"text-align: right;\">\n",
       "      <th></th>\n",
       "      <th>GDP</th>\n",
       "      <th>UNETOT</th>\n",
       "      <th>HICPNEF</th>\n",
       "      <th>IRT3M_EACC</th>\n",
       "      <th>EMP</th>\n",
       "      <th>LTIRT</th>\n",
       "      <th>SHIX</th>\n",
       "      <th>M2_EACC</th>\n",
       "    </tr>\n",
       "    <tr>\n",
       "      <th>Time</th>\n",
       "      <th></th>\n",
       "      <th></th>\n",
       "      <th></th>\n",
       "      <th></th>\n",
       "      <th></th>\n",
       "      <th></th>\n",
       "      <th></th>\n",
       "      <th></th>\n",
       "    </tr>\n",
       "  </thead>\n",
       "  <tbody>\n",
       "    <tr>\n",
       "      <th>2000-06-30</th>\n",
       "      <td>0.335349</td>\n",
       "      <td>-0.679036</td>\n",
       "      <td>-0.620372</td>\n",
       "      <td>2.073704</td>\n",
       "      <td>0.889699</td>\n",
       "      <td>-0.262306</td>\n",
       "      <td>-0.440226</td>\n",
       "      <td>-0.969474</td>\n",
       "    </tr>\n",
       "    <tr>\n",
       "      <th>2000-09-30</th>\n",
       "      <td>0.206795</td>\n",
       "      <td>-0.679036</td>\n",
       "      <td>-0.370143</td>\n",
       "      <td>1.013023</td>\n",
       "      <td>0.603050</td>\n",
       "      <td>0.023417</td>\n",
       "      <td>-0.197286</td>\n",
       "      <td>-0.419747</td>\n",
       "    </tr>\n",
       "    <tr>\n",
       "      <th>2000-12-31</th>\n",
       "      <td>0.087571</td>\n",
       "      <td>-0.679036</td>\n",
       "      <td>-0.502314</td>\n",
       "      <td>0.537365</td>\n",
       "      <td>0.518907</td>\n",
       "      <td>-0.579777</td>\n",
       "      <td>-0.877861</td>\n",
       "      <td>-1.189333</td>\n",
       "    </tr>\n",
       "    <tr>\n",
       "      <th>2001-03-31</th>\n",
       "      <td>0.451696</td>\n",
       "      <td>-0.679036</td>\n",
       "      <td>-0.299322</td>\n",
       "      <td>-0.724581</td>\n",
       "      <td>0.105735</td>\n",
       "      <td>-0.770259</td>\n",
       "      <td>-1.267363</td>\n",
       "      <td>2.791988</td>\n",
       "    </tr>\n",
       "    <tr>\n",
       "      <th>2001-06-30</th>\n",
       "      <td>-0.138423</td>\n",
       "      <td>0.137424</td>\n",
       "      <td>0.417248</td>\n",
       "      <td>-0.473391</td>\n",
       "      <td>-0.124712</td>\n",
       "      <td>0.991703</td>\n",
       "      <td>0.112908</td>\n",
       "      <td>0.730445</td>\n",
       "    </tr>\n",
       "  </tbody>\n",
       "</table>\n",
       "</div>"
      ],
      "text/plain": [
       "                 GDP    UNETOT   HICPNEF  IRT3M_EACC       EMP     LTIRT  \\\n",
       "Time                                                                       \n",
       "2000-06-30  0.335349 -0.679036 -0.620372    2.073704  0.889699 -0.262306   \n",
       "2000-09-30  0.206795 -0.679036 -0.370143    1.013023  0.603050  0.023417   \n",
       "2000-12-31  0.087571 -0.679036 -0.502314    0.537365  0.518907 -0.579777   \n",
       "2001-03-31  0.451696 -0.679036 -0.299322   -0.724581  0.105735 -0.770259   \n",
       "2001-06-30 -0.138423  0.137424  0.417248   -0.473391 -0.124712  0.991703   \n",
       "\n",
       "                SHIX   M2_EACC  \n",
       "Time                            \n",
       "2000-06-30 -0.440226 -0.969474  \n",
       "2000-09-30 -0.197286 -0.419747  \n",
       "2000-12-31 -0.877861 -1.189333  \n",
       "2001-03-31 -1.267363  2.791988  \n",
       "2001-06-30  0.112908  0.730445  "
      ]
     },
     "execution_count": 373,
     "metadata": {},
     "output_type": "execute_result"
    }
   ],
   "source": [
    "data = df_q_EU[cols_to_standardize].dropna()\n",
    "data.head()"
   ]
  },
  {
   "cell_type": "code",
   "execution_count": 374,
   "id": "98739e0b",
   "metadata": {},
   "outputs": [
    {
     "name": "stdout",
     "output_type": "stream",
     "text": [
      "RMSE: 3.692\n"
     ]
    }
   ],
   "source": [
    "data.index.freq = pd.infer_freq(data.index)\n",
    "# Expanding window forecast\n",
    "y_preds, y_trues, y_conf_int = Var_Forecast(data, initial_window=54, forecast_steps=1)\n",
    "\n",
    "rmse = np.sqrt(mean_squared_error(y_preds, y_trues))\n",
    "print(f\"RMSE: {rmse:.3f}\")"
   ]
  },
  {
   "cell_type": "code",
   "execution_count": 379,
   "id": "b4db4e38",
   "metadata": {},
   "outputs": [],
   "source": [
    "y_preds = np.array(y_preds)\n",
    "y_conf_int = np.array(y_conf_int)\n",
    "results_df = pd.DataFrame({\n",
    "    \"date\": data.index[-len(y_trues):],\n",
    "    \"true\": y_trues,\n",
    "    \"pred_mean\": y_preds,\n",
    "    \"CI_lower\": y_preds-y_conf_int,\n",
    "    \"CI_upper\": y_preds+y_conf_int,\n",
    "})\n",
    "results_df.to_csv(\"./Data/results/VAR_EU_results.csv\", index=False)"
   ]
  },
  {
   "cell_type": "code",
   "execution_count": 375,
   "id": "1ecbe6ef",
   "metadata": {},
   "outputs": [
    {
     "data": {
      "image/png": "[encoded data removed]",
      "text/plain": [
       "<Figure size 1000x400 with 1 Axes>"
      ]
     },
     "metadata": {},
     "output_type": "display_data"
    },
    {
     "name": "stdout",
     "output_type": "stream",
     "text": [
      "RMSE: 3.692\n"
     ]
    }
   ],
   "source": [
    "# Auswertung\n",
    "dates = data.index[-len(y_preds):]  # Get the corresponding dates for the predictions\n",
    "plt.figure(figsize=(10, 4))\n",
    "plt.plot(dates, y_trues, label='True BIP')\n",
    "plt.plot(dates, y_preds, label='Predicted BIP')\n",
    "plt.xlabel(\"Jahr\")\n",
    "plt.legend()\n",
    "# Konfidenzintervalle als graue Schattierung hinzufügen\n",
    "y_preds_arr = np.array(y_preds)\n",
    "y_conf_arr = np.array(y_conf_int)\n",
    "plt.fill_between(dates, (y_preds_arr + y_conf_arr), (y_preds_arr - y_conf_arr)  , color='gray', alpha=0.3, label='Konfidenzintervall')\n",
    "plt.title(\"Expanding Window Forecast VAR\")\n",
    "#plt.savefig(\"./plots/final_forecast_VAR_CI.png\")\n",
    "plt.show()\n",
    "\n",
    "rmse = np.sqrt(mean_squared_error(y_preds, y_trues))\n",
    "print(f\"RMSE: {rmse:.3f}\")"
   ]
  },
  {
   "cell_type": "markdown",
   "id": "79f02d84",
   "metadata": {},
   "source": [
    "Auswertung Deutschland"
   ]
  },
  {
   "cell_type": "code",
   "execution_count": 380,
   "id": "43f12db4",
   "metadata": {},
   "outputs": [
    {
     "name": "stdout",
     "output_type": "stream",
     "text": [
      "RMSE: 1.835\n"
     ]
    }
   ],
   "source": [
    "data = df_q_DE[cols_to_standardize].dropna()\n",
    "data.index.freq = pd.infer_freq(data.index)\n",
    "# Expanding window forecast\n",
    "y_preds, y_trues, y_conf_int = Var_Forecast(data, initial_window=54, forecast_steps=1)\n",
    "\n",
    "rmse = np.sqrt(mean_squared_error(y_preds, y_trues))\n",
    "print(f\"RMSE: {rmse:.3f}\")\n"
   ]
  },
  {
   "cell_type": "code",
   "execution_count": 381,
   "id": "870c2103",
   "metadata": {},
   "outputs": [],
   "source": [
    "y_preds = np.array(y_preds)\n",
    "y_conf_int = np.array(y_conf_int)\n",
    "results_df = pd.DataFrame({\n",
    "    \"date\": data.index[-len(y_trues):],\n",
    "    \"true\": y_trues,\n",
    "    \"pred_mean\": y_preds,\n",
    "    \"CI_lower\": y_preds-y_conf_int,\n",
    "    \"CI_upper\": y_preds+y_conf_int,\n",
    "})\n",
    "results_df.to_csv(\"./Data/results/VAR_DE_results.csv\", index=False)"
   ]
  },
  {
   "cell_type": "code",
   "execution_count": 165,
   "id": "d16fffbd",
   "metadata": {},
   "outputs": [
    {
     "data": {
      "image/png": "[encoded data removed]",
      "text/plain": [
       "<Figure size 1000x400 with 1 Axes>"
      ]
     },
     "metadata": {},
     "output_type": "display_data"
    },
    {
     "name": "stdout",
     "output_type": "stream",
     "text": [
      "RMSE: 1.835\n"
     ]
    }
   ],
   "source": [
    "# Auswertung\n",
    "dates = data.index[-len(y_preds):]  # Get the corresponding dates for the predictions\n",
    "plt.figure(figsize=(10, 4))\n",
    "plt.plot(dates, y_trues, label='True BIP')\n",
    "plt.plot(dates, y_preds, label='Predicted BIP')\n",
    "plt.xlabel(\"Jahr\")\n",
    "plt.legend()\n",
    "# Konfidenzintervalle als graue Schattierung hinzufügen\n",
    "y_preds_arr = np.array(y_preds)\n",
    "y_conf_arr = np.array(y_conf_int)\n",
    "plt.fill_between(dates, (y_preds_arr + y_conf_arr), (y_preds_arr - y_conf_arr)  , color='gray', alpha=0.3, label='Konfidenzintervall')\n",
    "plt.title(\"Expanding Window Forecast VAR\")\n",
    "#plt.savefig(\"./plots/final_forecast_VAR_CI.png\")\n",
    "plt.show()\n",
    "\n",
    "rmse = np.sqrt(mean_squared_error(y_preds, y_trues))\n",
    "print(f\"RMSE: {rmse:.3f}\")"
   ]
  },
  {
   "cell_type": "markdown",
   "id": "41fc7d88",
   "metadata": {},
   "source": [
    "Auswertung Frankreich"
   ]
  },
  {
   "cell_type": "code",
   "execution_count": 382,
   "id": "abad37e6",
   "metadata": {},
   "outputs": [
    {
     "name": "stdout",
     "output_type": "stream",
     "text": [
      "RMSE: 3.157\n"
     ]
    }
   ],
   "source": [
    "data = df_q_FR[cols_to_standardize].dropna()\n",
    "data.index.freq = pd.infer_freq(data.index)\n",
    "# Expanding window forecast\n",
    "y_preds, y_trues, y_conf_int = Var_Forecast(data, initial_window=54, forecast_steps=1)\n",
    "\n",
    "rmse = np.sqrt(mean_squared_error(y_preds, y_trues))\n",
    "print(f\"RMSE: {rmse:.3f}\")\n"
   ]
  },
  {
   "cell_type": "code",
   "execution_count": 383,
   "id": "63c71396",
   "metadata": {},
   "outputs": [],
   "source": [
    "y_preds = np.array(y_preds)\n",
    "y_conf_int = np.array(y_conf_int)\n",
    "results_df = pd.DataFrame({\n",
    "    \"date\": data.index[-len(y_trues):],\n",
    "    \"true\": y_trues,\n",
    "    \"pred_mean\": y_preds,\n",
    "    \"CI_lower\": y_preds-y_conf_int,\n",
    "    \"CI_upper\": y_preds+y_conf_int,\n",
    "})\n",
    "results_df.to_csv(\"./Data/results/VAR_FR_results.csv\", index=False)"
   ]
  },
  {
   "cell_type": "markdown",
   "id": "e07325e5",
   "metadata": {},
   "source": [
    "Auswertung Italien"
   ]
  },
  {
   "cell_type": "code",
   "execution_count": 384,
   "id": "9f5017c2",
   "metadata": {},
   "outputs": [
    {
     "name": "stdout",
     "output_type": "stream",
     "text": [
      "RMSE: 3.189\n"
     ]
    }
   ],
   "source": [
    "data = df_q_IT[cols_to_standardize].dropna()\n",
    "data.index.freq = pd.infer_freq(data.index)\n",
    "# Expanding window forecast\n",
    "y_preds, y_trues, y_conf_int = Var_Forecast(data, initial_window=54, forecast_steps=1)\n",
    "\n",
    "rmse = np.sqrt(mean_squared_error(y_preds, y_trues))\n",
    "print(f\"RMSE: {rmse:.3f}\")\n"
   ]
  },
  {
   "cell_type": "code",
   "execution_count": 385,
   "id": "c2fd4202",
   "metadata": {},
   "outputs": [],
   "source": [
    "y_preds = np.array(y_preds)\n",
    "y_conf_int = np.array(y_conf_int)\n",
    "results_df = pd.DataFrame({\n",
    "    \"date\": data.index[-len(y_trues):],\n",
    "    \"true\": y_trues,\n",
    "    \"pred_mean\": y_preds,\n",
    "    \"CI_lower\": y_preds-y_conf_int,\n",
    "    \"CI_upper\": y_preds+y_conf_int,\n",
    "})\n",
    "results_df.to_csv(\"./Data/results/VAR_IT_results.csv\", index=False)"
   ]
  },
  {
   "cell_type": "markdown",
   "id": "fcc3ad8b",
   "metadata": {},
   "source": [
    "### Auswertung mit BNN"
   ]
  },
  {
   "cell_type": "code",
   "execution_count": 292,
   "id": "e1537ec1",
   "metadata": {},
   "outputs": [],
   "source": [
    "\n",
    "def evaluate_BNN_epistemic(data_scaled, window_length=5, hidden_layer_sizes=32, initial_window=54, n_samples=100):\n",
    "    n_total = len(data_scaled)\n",
    "\n",
    "    y_preds_mean = []\n",
    "    y_preds_lower = []\n",
    "    y_preds_upper = []\n",
    "    y_trues = []\n",
    "\n",
    "    for i in range(initial_window, n_total - 1):\n",
    "        train_data = data_scaled[:i]\n",
    "\n",
    "        # Sequences erstellen\n",
    "        X_train, y_train = [], []\n",
    "        for j in range(window_length, len(train_data)):\n",
    "            X_train.append(train_data[j - window_length:j])\n",
    "            y_train.append(train_data[j, 0])  # Ziel: GDPC1\n",
    "\n",
    "        X_train = np.array(X_train)\n",
    "        y_train = np.array(y_train)\n",
    "\n",
    "        # BNN-Modell (nur epistemische Unsicherheit)\n",
    "        model = keras.Sequential([\n",
    "            keras.Input(shape=(window_length, data_scaled.shape[1])),\n",
    "            layers.Flatten(),\n",
    "            tfpl.DenseFlipout(hidden_layer_sizes, activation='relu'),\n",
    "            tfpl.DenseFlipout(1)\n",
    "        ])\n",
    "\n",
    "    \n",
    "\n",
    "        model.compile(optimizer='adam', loss='mse')\n",
    "        model.fit(X_train, y_train, epochs=100, batch_size=16, validation_split=0.1, verbose=0)\n",
    "\n",
    "        # Vorhersage mit n_samples für epistemische Unsicherheit\n",
    "        x_input = data_scaled[i - window_length:i].reshape(1, window_length, data_scaled.shape[1])\n",
    "        preds = np.array([model(x_input, training=True).numpy().flatten()[0] for _ in range(n_samples)])\n",
    "\n",
    "        pred_mean = np.mean(preds)\n",
    "        ci_lower = np.percentile(preds, 2.5)\n",
    "        ci_upper = np.percentile(preds, 97.5)\n",
    "\n",
    "        y_preds_mean.append(pred_mean)\n",
    "        y_preds_lower.append(ci_lower)\n",
    "        y_preds_upper.append(ci_upper)\n",
    "\n",
    "        y_true = data_scaled[i, 0]\n",
    "        y_trues.append(y_true)\n",
    "\n",
    "    rmse = np.sqrt(mean_squared_error(y_trues, y_preds_mean))\n",
    "\n",
    "    return rmse, y_preds_mean, y_preds_lower, y_preds_upper, y_trues\n"
   ]
  },
  {
   "cell_type": "markdown",
   "id": "3f846e2c",
   "metadata": {},
   "source": [
    "Für die EU"
   ]
  },
  {
   "cell_type": "code",
   "execution_count": 293,
   "id": "79b8c464",
   "metadata": {},
   "outputs": [
    {
     "name": "stderr",
     "output_type": "stream",
     "text": [
      "/Users/philippgodde/miniforge3/envs/g/lib/python3.11/site-packages/tensorflow_probability/python/layers/util.py:99: UserWarning: `layer.add_variable` is deprecated and will be removed in a future version. Please use the `layer.add_weight()` method instead.\n",
      "  loc = add_variable_fn(\n",
      "/Users/philippgodde/miniforge3/envs/g/lib/python3.11/site-packages/tf_keras/src/initializers/initializers.py:121: UserWarning: The initializer RandomNormal is unseeded and being called multiple times, which will return identical values each time (even if the initializer is unseeded). Please update your code to provide a seed to the initializer, or avoid using the same initializer instance more than once.\n",
      "  warnings.warn(\n",
      "/Users/philippgodde/miniforge3/envs/g/lib/python3.11/site-packages/tensorflow_probability/python/layers/util.py:109: UserWarning: `layer.add_variable` is deprecated and will be removed in a future version. Please use the `layer.add_weight()` method instead.\n",
      "  untransformed_scale = add_variable_fn(\n"
     ]
    },
    {
     "name": "stdout",
     "output_type": "stream",
     "text": [
      "RMSE: 1.440\n"
     ]
    }
   ],
   "source": [
    "data = df_q_EU[cols_to_standardize].dropna()\n",
    "data.index.freq = pd.infer_freq(data.index)\n",
    "# Expanding window forecast\n",
    "rmse, y_preds_mean, y_preds_lower, y_preds_upper, y_trues = evaluate_BNN_epistemic(data.values, window_length=5, hidden_layer_sizes=32, initial_window=54, n_samples=100)\n",
    "\n",
    "print(f\"RMSE: {rmse:.3f}\")\n"
   ]
  },
  {
   "cell_type": "code",
   "execution_count": 295,
   "id": "7acf65c3",
   "metadata": {},
   "outputs": [
    {
     "name": "stdout",
     "output_type": "stream",
     "text": [
      "RMSE: 1.440\n"
     ]
    }
   ],
   "source": [
    "print(f\"RMSE: {rmse:.3f}\")\n",
    "results_df = pd.DataFrame({\n",
    "    \"date\": data.index[-len(y_trues):],\n",
    "    \"true\": y_trues,\n",
    "    \"pred_mean\": y_preds_mean,\n",
    "    \"CI_lower\": y_preds_lower,\n",
    "    \"CI_upper\": y_preds_upper,\n",
    "})\n",
    "results_df.to_csv(\"./Data/results/BNN_EU_results.csv\", index=False)"
   ]
  },
  {
   "cell_type": "code",
   "execution_count": 296,
   "id": "72532ad0",
   "metadata": {},
   "outputs": [
    {
     "data": {
      "image/png": "[encoded data removed]",
      "text/plain": [
       "<Figure size 1000x400 with 1 Axes>"
      ]
     },
     "metadata": {},
     "output_type": "display_data"
    },
    {
     "name": "stdout",
     "output_type": "stream",
     "text": [
      "RMSE: 1.440\n"
     ]
    }
   ],
   "source": [
    "# Auswertung\n",
    "dates = data.index[-len(y_trues):]  # Get the corresponding dates for the predictions\n",
    "plt.figure(figsize=(10, 4))\n",
    "plt.plot(dates, y_trues, label='True BIP')\n",
    "plt.plot(dates, y_preds_mean, label='Predicted BIP')\n",
    "plt.xlabel(\"Jahr\")\n",
    "plt.legend()\n",
    "# Konfidenzintervale als graue Schattierung hinzufügen\n",
    "plt.fill_between(dates, y_preds_upper, y_preds_lower, color='gray', alpha=0.3, label='Konfidenzintervall')\n",
    "plt.title(\"Expanding Window Forecast BNN EU\")\n",
    "#plt.savefig(\"./plots/final_forecast_VAR_CI.png\")\n",
    "plt.show()\n",
    "\n",
    "print(f\"RMSE: {rmse:.3f}\")"
   ]
  },
  {
   "cell_type": "markdown",
   "id": "f708ba11",
   "metadata": {},
   "source": [
    "Für Detuschland "
   ]
  },
  {
   "cell_type": "code",
   "execution_count": 297,
   "id": "55646fb8",
   "metadata": {},
   "outputs": [
    {
     "name": "stderr",
     "output_type": "stream",
     "text": [
      "/Users/philippgodde/miniforge3/envs/g/lib/python3.11/site-packages/tensorflow_probability/python/layers/util.py:99: UserWarning: `layer.add_variable` is deprecated and will be removed in a future version. Please use the `layer.add_weight()` method instead.\n",
      "  loc = add_variable_fn(\n",
      "/Users/philippgodde/miniforge3/envs/g/lib/python3.11/site-packages/tf_keras/src/initializers/initializers.py:121: UserWarning: The initializer RandomNormal is unseeded and being called multiple times, which will return identical values each time (even if the initializer is unseeded). Please update your code to provide a seed to the initializer, or avoid using the same initializer instance more than once.\n",
      "  warnings.warn(\n",
      "/Users/philippgodde/miniforge3/envs/g/lib/python3.11/site-packages/tensorflow_probability/python/layers/util.py:109: UserWarning: `layer.add_variable` is deprecated and will be removed in a future version. Please use the `layer.add_weight()` method instead.\n",
      "  untransformed_scale = add_variable_fn(\n"
     ]
    },
    {
     "name": "stdout",
     "output_type": "stream",
     "text": [
      "RMSE: 1.320\n"
     ]
    }
   ],
   "source": [
    "data = df_q_DE[cols_to_standardize].dropna()\n",
    "data.index.freq = pd.infer_freq(data.index)\n",
    "# Expanding window forecast\n",
    "rmse, y_preds_mean, y_preds_lower, y_preds_upper, y_trues = evaluate_BNN_epistemic(data.values, window_length=5, hidden_layer_sizes=32, initial_window=54, n_samples=100)\n",
    "\n",
    "print(f\"RMSE: {rmse:.3f}\")\n"
   ]
  },
  {
   "cell_type": "code",
   "execution_count": 298,
   "id": "db643b4d",
   "metadata": {},
   "outputs": [
    {
     "name": "stdout",
     "output_type": "stream",
     "text": [
      "RMSE: 1.320\n"
     ]
    }
   ],
   "source": [
    "print(f\"RMSE: {rmse:.3f}\")\n",
    "results_df = pd.DataFrame({\n",
    "    \"date\": data.index[-len(y_trues):],\n",
    "    \"true\": y_trues,\n",
    "    \"pred_mean\": y_preds_mean,\n",
    "    \"CI_lower\": y_preds_lower,\n",
    "    \"CI_upper\": y_preds_upper,\n",
    "})\n",
    "results_df.to_csv(\"./Data/results/BNN_DE_results.csv\", index=False)"
   ]
  },
  {
   "cell_type": "markdown",
   "id": "a5aab4be",
   "metadata": {},
   "source": [
    "Für Frankreich"
   ]
  },
  {
   "cell_type": "code",
   "execution_count": 299,
   "id": "0049f7d4",
   "metadata": {},
   "outputs": [
    {
     "name": "stderr",
     "output_type": "stream",
     "text": [
      "/Users/philippgodde/miniforge3/envs/g/lib/python3.11/site-packages/tensorflow_probability/python/layers/util.py:99: UserWarning: `layer.add_variable` is deprecated and will be removed in a future version. Please use the `layer.add_weight()` method instead.\n",
      "  loc = add_variable_fn(\n",
      "/Users/philippgodde/miniforge3/envs/g/lib/python3.11/site-packages/tf_keras/src/initializers/initializers.py:121: UserWarning: The initializer RandomNormal is unseeded and being called multiple times, which will return identical values each time (even if the initializer is unseeded). Please update your code to provide a seed to the initializer, or avoid using the same initializer instance more than once.\n",
      "  warnings.warn(\n",
      "/Users/philippgodde/miniforge3/envs/g/lib/python3.11/site-packages/tensorflow_probability/python/layers/util.py:109: UserWarning: `layer.add_variable` is deprecated and will be removed in a future version. Please use the `layer.add_weight()` method instead.\n",
      "  untransformed_scale = add_variable_fn(\n"
     ]
    },
    {
     "name": "stdout",
     "output_type": "stream",
     "text": [
      "RMSE: 1.473\n"
     ]
    }
   ],
   "source": [
    "data = df_q_FR[cols_to_standardize].dropna()\n",
    "data.index.freq = pd.infer_freq(data.index)\n",
    "# Expanding window forecast\n",
    "rmse, y_preds_mean, y_preds_lower, y_preds_upper, y_trues = evaluate_BNN_epistemic(data.values, window_length=5, hidden_layer_sizes=32, initial_window=54, n_samples=100)\n",
    "\n",
    "print(f\"RMSE: {rmse:.3f}\")\n"
   ]
  },
  {
   "cell_type": "code",
   "execution_count": 300,
   "id": "93f1bbe9",
   "metadata": {},
   "outputs": [
    {
     "name": "stdout",
     "output_type": "stream",
     "text": [
      "RMSE: 1.473\n"
     ]
    }
   ],
   "source": [
    "print(f\"RMSE: {rmse:.3f}\")\n",
    "results_df = pd.DataFrame({\n",
    "    \"date\": data.index[-len(y_trues):],\n",
    "    \"true\": y_trues,\n",
    "    \"pred_mean\": y_preds_mean,\n",
    "    \"CI_lower\": y_preds_lower,\n",
    "    \"CI_upper\": y_preds_upper,\n",
    "})\n",
    "results_df.to_csv(\"./Data/results/BNN_FR_results.csv\", index=False)"
   ]
  },
  {
   "cell_type": "markdown",
   "id": "7951c0cf",
   "metadata": {},
   "source": [
    "Für Italien"
   ]
  },
  {
   "cell_type": "code",
   "execution_count": 301,
   "id": "40a499df",
   "metadata": {},
   "outputs": [
    {
     "name": "stderr",
     "output_type": "stream",
     "text": [
      "/Users/philippgodde/miniforge3/envs/g/lib/python3.11/site-packages/tensorflow_probability/python/layers/util.py:99: UserWarning: `layer.add_variable` is deprecated and will be removed in a future version. Please use the `layer.add_weight()` method instead.\n",
      "  loc = add_variable_fn(\n",
      "/Users/philippgodde/miniforge3/envs/g/lib/python3.11/site-packages/tf_keras/src/initializers/initializers.py:121: UserWarning: The initializer RandomNormal is unseeded and being called multiple times, which will return identical values each time (even if the initializer is unseeded). Please update your code to provide a seed to the initializer, or avoid using the same initializer instance more than once.\n",
      "  warnings.warn(\n",
      "/Users/philippgodde/miniforge3/envs/g/lib/python3.11/site-packages/tensorflow_probability/python/layers/util.py:109: UserWarning: `layer.add_variable` is deprecated and will be removed in a future version. Please use the `layer.add_weight()` method instead.\n",
      "  untransformed_scale = add_variable_fn(\n"
     ]
    },
    {
     "name": "stdout",
     "output_type": "stream",
     "text": [
      "RMSE: 1.454\n"
     ]
    }
   ],
   "source": [
    "data = df_q_IT[cols_to_standardize].dropna()\n",
    "data.index.freq = pd.infer_freq(data.index)\n",
    "# Expanding window forecast\n",
    "rmse, y_preds_mean, y_preds_lower, y_preds_upper, y_trues = evaluate_BNN_epistemic(data.values, window_length=5, hidden_layer_sizes=32, initial_window=54, n_samples=100)\n",
    "\n",
    "print(f\"RMSE: {rmse:.3f}\")\n"
   ]
  },
  {
   "cell_type": "code",
   "execution_count": 302,
   "id": "cb654c1a",
   "metadata": {},
   "outputs": [
    {
     "name": "stdout",
     "output_type": "stream",
     "text": [
      "RMSE: 1.454\n"
     ]
    }
   ],
   "source": [
    "print(f\"RMSE: {rmse:.3f}\")\n",
    "results_df = pd.DataFrame({\n",
    "    \"date\": data.index[-len(y_trues):],\n",
    "    \"true\": y_trues,\n",
    "    \"pred_mean\": y_preds_mean,\n",
    "    \"CI_lower\": y_preds_lower,\n",
    "    \"CI_upper\": y_preds_upper,\n",
    "})\n",
    "results_df.to_csv(\"./Data/results/BNN_IT_results.csv\", index=False)"
   ]
  },
  {
   "cell_type": "markdown",
   "id": "c51428fd",
   "metadata": {},
   "source": [
    "### Nutze Pretraining um Ergebnisse zu verbessern"
   ]
  },
  {
   "cell_type": "code",
   "execution_count": 303,
   "id": "1a2b9dad",
   "metadata": {},
   "outputs": [
    {
     "name": "stdout",
     "output_type": "stream",
     "text": [
      "Datei 'current.csv' gefunden. Lade lokal...\n",
      "Daten erfolgreich vorbereitet.\n",
      "Standardisierung abgeschlossen.\n"
     ]
    }
   ],
   "source": [
    "from Forcasting_lib import load_fred_data, make_stationary, standardize_data\n",
    "## load and transform data\n",
    "df, transform_codes = load_fred_data()\n",
    "df_stationary = make_stationary(df, transform_codes)\n",
    "\n",
    "cols_to_standardize = [\n",
    "    'GDPC1',      # Reales BIP\n",
    "    'UNRATE',     # Arbeitslosenquote\n",
    "    'FEDFUNDS',   # Federal Funds Rate\n",
    "    'CPILFESL',   # Verbraucherpreisindex ohne Energie und Nahrungsmittel  #fehlt ein Wert \n",
    "    'PAYEMS',     # Beschäftigte außerhalb der Landwirtschaft\n",
    "    'GS10',       # Rendite 10-jähriger Staatsanleihen\n",
    "    'M2REAL',     # Reale Geldmenge M2\n",
    "    'S&P 500'       # S&P 500 Index\n",
    "]\n",
    "\n",
    "\n",
    "df_std, scaler = standardize_data(df_stationary, cols_to_standardize)\n",
    "data_us = df_std[cols_to_standardize].dropna()"
   ]
  },
  {
   "cell_type": "code",
   "execution_count": 304,
   "id": "921cc831",
   "metadata": {},
   "outputs": [],
   "source": [
    "def make_sequences(data, window_length, target_col=0):\n",
    "    \"\"\"Erzeugt (X, y) mit 3D-Input: (samples, window_length, n_features).\"\"\"\n",
    "    X, y = [], []\n",
    "    for t in range(window_length, len(data)):\n",
    "        X.append(data[t-window_length:t, :])\n",
    "        y.append(data[t, target_col])\n",
    "    return np.array(X), np.array(y)\n",
    "\n",
    "\n",
    "### Use only data up to 2010 to avoid data leakage \n",
    "X_us, Y_us = make_sequences(data_us.values[:201], window_length=5, target_col=0)"
   ]
  },
  {
   "cell_type": "code",
   "execution_count": 269,
   "id": "23df0100",
   "metadata": {},
   "outputs": [
    {
     "name": "stderr",
     "output_type": "stream",
     "text": [
      "/Users/philippgodde/miniforge3/envs/g/lib/python3.11/site-packages/tensorflow_probability/python/layers/util.py:99: UserWarning: `layer.add_variable` is deprecated and will be removed in a future version. Please use the `layer.add_weight()` method instead.\n",
      "  loc = add_variable_fn(\n",
      "/Users/philippgodde/miniforge3/envs/g/lib/python3.11/site-packages/tf_keras/src/initializers/initializers.py:121: UserWarning: The initializer RandomNormal is unseeded and being called multiple times, which will return identical values each time (even if the initializer is unseeded). Please update your code to provide a seed to the initializer, or avoid using the same initializer instance more than once.\n",
      "  warnings.warn(\n",
      "/Users/philippgodde/miniforge3/envs/g/lib/python3.11/site-packages/tensorflow_probability/python/layers/util.py:109: UserWarning: `layer.add_variable` is deprecated and will be removed in a future version. Please use the `layer.add_weight()` method instead.\n",
      "  untransformed_scale = add_variable_fn(\n",
      "WARNING:absl:At this time, the v2.11+ optimizer `tf.keras.optimizers.Adam` runs slowly on M1/M2 Macs, please use the legacy TF-Keras optimizer instead, located at `tf.keras.optimizers.legacy.Adam`.\n"
     ]
    },
    {
     "data": {
      "text/plain": [
       "<tf_keras.src.callbacks.History at 0x17c1bcb10>"
      ]
     },
     "execution_count": 269,
     "metadata": {},
     "output_type": "execute_result"
    }
   ],
   "source": [
    "def build_bnn(window_length = 5, n_features=8, hidden=32, learning_rate=1e-3, kl_weight=None):\n",
    "    model = keras.Sequential([\n",
    "        keras.Input(shape=(window_length, n_features)),\n",
    "        layers.Flatten(),\n",
    "        tfpl.DenseFlipout(hidden, activation='relu'),\n",
    "        tfpl.DenseFlipout(1)\n",
    "    ])\n",
    "    model.compile(optimizer=keras.optimizers.Adam(learning_rate), loss='mse')\n",
    "    return model\n",
    "\n",
    "bnn_us = build_bnn()\n",
    "bnn_us.fit(X_us, Y_us, epochs=100, batch_size=16, validation_split=0.1, callbacks=[keras.callbacks.EarlyStopping(\n",
    "               patience=10, restore_best_weights=True)], verbose=0)\n"
   ]
  },
  {
   "cell_type": "code",
   "execution_count": 305,
   "id": "fa758fb0",
   "metadata": {},
   "outputs": [
    {
     "name": "stderr",
     "output_type": "stream",
     "text": [
      "/Users/philippgodde/miniforge3/envs/g/lib/python3.11/site-packages/tensorflow_probability/python/layers/util.py:99: UserWarning: `layer.add_variable` is deprecated and will be removed in a future version. Please use the `layer.add_weight()` method instead.\n",
      "  loc = add_variable_fn(\n",
      "/Users/philippgodde/miniforge3/envs/g/lib/python3.11/site-packages/tf_keras/src/initializers/initializers.py:121: UserWarning: The initializer RandomNormal is unseeded and being called multiple times, which will return identical values each time (even if the initializer is unseeded). Please update your code to provide a seed to the initializer, or avoid using the same initializer instance more than once.\n",
      "  warnings.warn(\n",
      "/Users/philippgodde/miniforge3/envs/g/lib/python3.11/site-packages/tensorflow_probability/python/layers/util.py:109: UserWarning: `layer.add_variable` is deprecated and will be removed in a future version. Please use the `layer.add_weight()` method instead.\n",
      "  untransformed_scale = add_variable_fn(\n",
      "WARNING:absl:At this time, the v2.11+ optimizer `tf.keras.optimizers.Adam` runs slowly on M1/M2 Macs, please use the legacy TF-Keras optimizer instead, located at `tf.keras.optimizers.legacy.Adam`.\n"
     ]
    }
   ],
   "source": [
    "bnn_eu = build_bnn()\n",
    "bnn_eu.set_weights(bnn_us.get_weights())   # Mittel & Log-Var der Flipout-Layer werden mitkopiert"
   ]
  },
  {
   "cell_type": "code",
   "execution_count": 307,
   "id": "5340a496",
   "metadata": {},
   "outputs": [],
   "source": [
    "cols_to_standardize = [\"GDP\", \"UNETOT\",  \"HICPNEF\", \"IRT3M_EACC\", \"EMP\", \"LTIRT\", \"SHIX\", \"M2_EACC\"]"
   ]
  },
  {
   "cell_type": "code",
   "execution_count": 308,
   "id": "7c568377",
   "metadata": {},
   "outputs": [],
   "source": [
    "data = df_q_EU[cols_to_standardize].dropna()"
   ]
  },
  {
   "cell_type": "code",
   "execution_count": 309,
   "id": "f264d737",
   "metadata": {},
   "outputs": [],
   "source": [
    "def evaluate_BNN_pretrained(data_scaled, bnn_us,  initial_window=54, n_samples=100, learning_rate=1e-3):\n",
    "    n_total = len(data_scaled)\n",
    "    window_length = 5\n",
    "\n",
    "    y_preds_mean = []\n",
    "    y_preds_lower = []\n",
    "    y_preds_upper = []\n",
    "    y_trues = []\n",
    "\n",
    "    for i in range(initial_window, n_total - 1):\n",
    "        train_data = data_scaled[:i]\n",
    "\n",
    "        # Sequences erstellen\n",
    "        X_train, y_train = [], []\n",
    "        for j in range(window_length, len(train_data)):\n",
    "            X_train.append(train_data[j - window_length:j])\n",
    "            y_train.append(train_data[j, 0])  # Ziel: GDPC1\n",
    "\n",
    "        X_train = np.array(X_train)\n",
    "        y_train = np.array(y_train)\n",
    "\n",
    "        # BNN-Modell (nur epistemische Unsicherheit)\n",
    "        model =  build_bnn()\n",
    "        model.set_weights(bnn_us.get_weights())\n",
    "\n",
    "\n",
    "        model.compile(optimizer=keras.optimizers.Adam(learning_rate), loss='mse')\n",
    "        model.fit(X_train, y_train, epochs=100, batch_size=16, validation_split=0.1, verbose=0)\n",
    "\n",
    "        # Vorhersage mit n_samples für epistemische Unsicherheit\n",
    "        x_input = data_scaled[i - window_length:i].reshape(1, window_length, data_scaled.shape[1])\n",
    "        preds = np.array([model(x_input, training=True).numpy().flatten()[0] for _ in range(n_samples)])\n",
    "\n",
    "        pred_mean = np.mean(preds)\n",
    "        ci_lower = np.percentile(preds, 2.5)\n",
    "        ci_upper = np.percentile(preds, 97.5)\n",
    "\n",
    "        y_preds_mean.append(pred_mean)\n",
    "        y_preds_lower.append(ci_lower)\n",
    "        y_preds_upper.append(ci_upper)\n",
    "\n",
    "        y_true = data_scaled[i, 0]\n",
    "        y_trues.append(y_true)\n",
    "\n",
    "    rmse = np.sqrt(mean_squared_error(y_trues, y_preds_mean))\n",
    "\n",
    "    return rmse, y_preds_mean, y_preds_lower, y_preds_upper, y_trues\n"
   ]
  },
  {
   "cell_type": "code",
   "execution_count": 310,
   "id": "fbeaf251",
   "metadata": {},
   "outputs": [
    {
     "name": "stderr",
     "output_type": "stream",
     "text": [
      "/Users/philippgodde/miniforge3/envs/g/lib/python3.11/site-packages/tensorflow_probability/python/layers/util.py:99: UserWarning: `layer.add_variable` is deprecated and will be removed in a future version. Please use the `layer.add_weight()` method instead.\n",
      "  loc = add_variable_fn(\n",
      "/Users/philippgodde/miniforge3/envs/g/lib/python3.11/site-packages/tf_keras/src/initializers/initializers.py:121: UserWarning: The initializer RandomNormal is unseeded and being called multiple times, which will return identical values each time (even if the initializer is unseeded). Please update your code to provide a seed to the initializer, or avoid using the same initializer instance more than once.\n",
      "  warnings.warn(\n",
      "/Users/philippgodde/miniforge3/envs/g/lib/python3.11/site-packages/tensorflow_probability/python/layers/util.py:109: UserWarning: `layer.add_variable` is deprecated and will be removed in a future version. Please use the `layer.add_weight()` method instead.\n",
      "  untransformed_scale = add_variable_fn(\n",
      "WARNING:absl:At this time, the v2.11+ optimizer `tf.keras.optimizers.Adam` runs slowly on M1/M2 Macs, please use the legacy TF-Keras optimizer instead, located at `tf.keras.optimizers.legacy.Adam`.\n",
      "WARNING:absl:At this time, the v2.11+ optimizer `tf.keras.optimizers.Adam` runs slowly on M1/M2 Macs, please use the legacy TF-Keras optimizer instead, located at `tf.keras.optimizers.legacy.Adam`.\n",
      "WARNING:absl:At this time, the v2.11+ optimizer `tf.keras.optimizers.Adam` runs slowly on M1/M2 Macs, please use the legacy TF-Keras optimizer instead, located at `tf.keras.optimizers.legacy.Adam`.\n",
      "WARNING:absl:At this time, the v2.11+ optimizer `tf.keras.optimizers.Adam` runs slowly on M1/M2 Macs, please use the legacy TF-Keras optimizer instead, located at `tf.keras.optimizers.legacy.Adam`.\n",
      "WARNING:absl:At this time, the v2.11+ optimizer `tf.keras.optimizers.Adam` runs slowly on M1/M2 Macs, please use the legacy TF-Keras optimizer instead, located at `tf.keras.optimizers.legacy.Adam`.\n",
      "WARNING:absl:At this time, the v2.11+ optimizer `tf.keras.optimizers.Adam` runs slowly on M1/M2 Macs, please use the legacy TF-Keras optimizer instead, located at `tf.keras.optimizers.legacy.Adam`.\n",
      "WARNING:absl:At this time, the v2.11+ optimizer `tf.keras.optimizers.Adam` runs slowly on M1/M2 Macs, please use the legacy TF-Keras optimizer instead, located at `tf.keras.optimizers.legacy.Adam`.\n",
      "WARNING:absl:At this time, the v2.11+ optimizer `tf.keras.optimizers.Adam` runs slowly on M1/M2 Macs, please use the legacy TF-Keras optimizer instead, located at `tf.keras.optimizers.legacy.Adam`.\n",
      "WARNING:absl:At this time, the v2.11+ optimizer `tf.keras.optimizers.Adam` runs slowly on M1/M2 Macs, please use the legacy TF-Keras optimizer instead, located at `tf.keras.optimizers.legacy.Adam`.\n",
      "WARNING:absl:At this time, the v2.11+ optimizer `tf.keras.optimizers.Adam` runs slowly on M1/M2 Macs, please use the legacy TF-Keras optimizer instead, located at `tf.keras.optimizers.legacy.Adam`.\n",
      "WARNING:absl:At this time, the v2.11+ optimizer `tf.keras.optimizers.Adam` runs slowly on M1/M2 Macs, please use the legacy TF-Keras optimizer instead, located at `tf.keras.optimizers.legacy.Adam`.\n",
      "WARNING:absl:At this time, the v2.11+ optimizer `tf.keras.optimizers.Adam` runs slowly on M1/M2 Macs, please use the legacy TF-Keras optimizer instead, located at `tf.keras.optimizers.legacy.Adam`.\n",
      "WARNING:absl:At this time, the v2.11+ optimizer `tf.keras.optimizers.Adam` runs slowly on M1/M2 Macs, please use the legacy TF-Keras optimizer instead, located at `tf.keras.optimizers.legacy.Adam`.\n",
      "WARNING:absl:At this time, the v2.11+ optimizer `tf.keras.optimizers.Adam` runs slowly on M1/M2 Macs, please use the legacy TF-Keras optimizer instead, located at `tf.keras.optimizers.legacy.Adam`.\n",
      "WARNING:absl:At this time, the v2.11+ optimizer `tf.keras.optimizers.Adam` runs slowly on M1/M2 Macs, please use the legacy TF-Keras optimizer instead, located at `tf.keras.optimizers.legacy.Adam`.\n",
      "WARNING:absl:At this time, the v2.11+ optimizer `tf.keras.optimizers.Adam` runs slowly on M1/M2 Macs, please use the legacy TF-Keras optimizer instead, located at `tf.keras.optimizers.legacy.Adam`.\n",
      "WARNING:absl:At this time, the v2.11+ optimizer `tf.keras.optimizers.Adam` runs slowly on M1/M2 Macs, please use the legacy TF-Keras optimizer instead, located at `tf.keras.optimizers.legacy.Adam`.\n",
      "WARNING:absl:At this time, the v2.11+ optimizer `tf.keras.optimizers.Adam` runs slowly on M1/M2 Macs, please use the legacy TF-Keras optimizer instead, located at `tf.keras.optimizers.legacy.Adam`.\n",
      "WARNING:absl:At this time, the v2.11+ optimizer `tf.keras.optimizers.Adam` runs slowly on M1/M2 Macs, please use the legacy TF-Keras optimizer instead, located at `tf.keras.optimizers.legacy.Adam`.\n",
      "WARNING:absl:At this time, the v2.11+ optimizer `tf.keras.optimizers.Adam` runs slowly on M1/M2 Macs, please use the legacy TF-Keras optimizer instead, located at `tf.keras.optimizers.legacy.Adam`.\n",
      "WARNING:absl:At this time, the v2.11+ optimizer `tf.keras.optimizers.Adam` runs slowly on M1/M2 Macs, please use the legacy TF-Keras optimizer instead, located at `tf.keras.optimizers.legacy.Adam`.\n",
      "WARNING:absl:At this time, the v2.11+ optimizer `tf.keras.optimizers.Adam` runs slowly on M1/M2 Macs, please use the legacy TF-Keras optimizer instead, located at `tf.keras.optimizers.legacy.Adam`.\n",
      "WARNING:absl:At this time, the v2.11+ optimizer `tf.keras.optimizers.Adam` runs slowly on M1/M2 Macs, please use the legacy TF-Keras optimizer instead, located at `tf.keras.optimizers.legacy.Adam`.\n",
      "WARNING:absl:At this time, the v2.11+ optimizer `tf.keras.optimizers.Adam` runs slowly on M1/M2 Macs, please use the legacy TF-Keras optimizer instead, located at `tf.keras.optimizers.legacy.Adam`.\n",
      "WARNING:absl:At this time, the v2.11+ optimizer `tf.keras.optimizers.Adam` runs slowly on M1/M2 Macs, please use the legacy TF-Keras optimizer instead, located at `tf.keras.optimizers.legacy.Adam`.\n",
      "WARNING:absl:At this time, the v2.11+ optimizer `tf.keras.optimizers.Adam` runs slowly on M1/M2 Macs, please use the legacy TF-Keras optimizer instead, located at `tf.keras.optimizers.legacy.Adam`.\n",
      "WARNING:absl:At this time, the v2.11+ optimizer `tf.keras.optimizers.Adam` runs slowly on M1/M2 Macs, please use the legacy TF-Keras optimizer instead, located at `tf.keras.optimizers.legacy.Adam`.\n",
      "WARNING:absl:At this time, the v2.11+ optimizer `tf.keras.optimizers.Adam` runs slowly on M1/M2 Macs, please use the legacy TF-Keras optimizer instead, located at `tf.keras.optimizers.legacy.Adam`.\n",
      "WARNING:absl:At this time, the v2.11+ optimizer `tf.keras.optimizers.Adam` runs slowly on M1/M2 Macs, please use the legacy TF-Keras optimizer instead, located at `tf.keras.optimizers.legacy.Adam`.\n",
      "WARNING:absl:At this time, the v2.11+ optimizer `tf.keras.optimizers.Adam` runs slowly on M1/M2 Macs, please use the legacy TF-Keras optimizer instead, located at `tf.keras.optimizers.legacy.Adam`.\n",
      "WARNING:absl:At this time, the v2.11+ optimizer `tf.keras.optimizers.Adam` runs slowly on M1/M2 Macs, please use the legacy TF-Keras optimizer instead, located at `tf.keras.optimizers.legacy.Adam`.\n",
      "WARNING:absl:At this time, the v2.11+ optimizer `tf.keras.optimizers.Adam` runs slowly on M1/M2 Macs, please use the legacy TF-Keras optimizer instead, located at `tf.keras.optimizers.legacy.Adam`.\n",
      "WARNING:absl:At this time, the v2.11+ optimizer `tf.keras.optimizers.Adam` runs slowly on M1/M2 Macs, please use the legacy TF-Keras optimizer instead, located at `tf.keras.optimizers.legacy.Adam`.\n",
      "WARNING:absl:At this time, the v2.11+ optimizer `tf.keras.optimizers.Adam` runs slowly on M1/M2 Macs, please use the legacy TF-Keras optimizer instead, located at `tf.keras.optimizers.legacy.Adam`.\n",
      "WARNING:absl:At this time, the v2.11+ optimizer `tf.keras.optimizers.Adam` runs slowly on M1/M2 Macs, please use the legacy TF-Keras optimizer instead, located at `tf.keras.optimizers.legacy.Adam`.\n",
      "WARNING:absl:At this time, the v2.11+ optimizer `tf.keras.optimizers.Adam` runs slowly on M1/M2 Macs, please use the legacy TF-Keras optimizer instead, located at `tf.keras.optimizers.legacy.Adam`.\n",
      "WARNING:absl:At this time, the v2.11+ optimizer `tf.keras.optimizers.Adam` runs slowly on M1/M2 Macs, please use the legacy TF-Keras optimizer instead, located at `tf.keras.optimizers.legacy.Adam`.\n",
      "WARNING:absl:At this time, the v2.11+ optimizer `tf.keras.optimizers.Adam` runs slowly on M1/M2 Macs, please use the legacy TF-Keras optimizer instead, located at `tf.keras.optimizers.legacy.Adam`.\n",
      "WARNING:absl:At this time, the v2.11+ optimizer `tf.keras.optimizers.Adam` runs slowly on M1/M2 Macs, please use the legacy TF-Keras optimizer instead, located at `tf.keras.optimizers.legacy.Adam`.\n",
      "WARNING:absl:At this time, the v2.11+ optimizer `tf.keras.optimizers.Adam` runs slowly on M1/M2 Macs, please use the legacy TF-Keras optimizer instead, located at `tf.keras.optimizers.legacy.Adam`.\n",
      "WARNING:absl:At this time, the v2.11+ optimizer `tf.keras.optimizers.Adam` runs slowly on M1/M2 Macs, please use the legacy TF-Keras optimizer instead, located at `tf.keras.optimizers.legacy.Adam`.\n",
      "WARNING:absl:At this time, the v2.11+ optimizer `tf.keras.optimizers.Adam` runs slowly on M1/M2 Macs, please use the legacy TF-Keras optimizer instead, located at `tf.keras.optimizers.legacy.Adam`.\n",
      "WARNING:absl:At this time, the v2.11+ optimizer `tf.keras.optimizers.Adam` runs slowly on M1/M2 Macs, please use the legacy TF-Keras optimizer instead, located at `tf.keras.optimizers.legacy.Adam`.\n",
      "WARNING:absl:At this time, the v2.11+ optimizer `tf.keras.optimizers.Adam` runs slowly on M1/M2 Macs, please use the legacy TF-Keras optimizer instead, located at `tf.keras.optimizers.legacy.Adam`.\n",
      "WARNING:absl:At this time, the v2.11+ optimizer `tf.keras.optimizers.Adam` runs slowly on M1/M2 Macs, please use the legacy TF-Keras optimizer instead, located at `tf.keras.optimizers.legacy.Adam`.\n",
      "WARNING:absl:At this time, the v2.11+ optimizer `tf.keras.optimizers.Adam` runs slowly on M1/M2 Macs, please use the legacy TF-Keras optimizer instead, located at `tf.keras.optimizers.legacy.Adam`.\n",
      "WARNING:absl:At this time, the v2.11+ optimizer `tf.keras.optimizers.Adam` runs slowly on M1/M2 Macs, please use the legacy TF-Keras optimizer instead, located at `tf.keras.optimizers.legacy.Adam`.\n",
      "WARNING:absl:At this time, the v2.11+ optimizer `tf.keras.optimizers.Adam` runs slowly on M1/M2 Macs, please use the legacy TF-Keras optimizer instead, located at `tf.keras.optimizers.legacy.Adam`.\n",
      "WARNING:absl:At this time, the v2.11+ optimizer `tf.keras.optimizers.Adam` runs slowly on M1/M2 Macs, please use the legacy TF-Keras optimizer instead, located at `tf.keras.optimizers.legacy.Adam`.\n",
      "WARNING:absl:At this time, the v2.11+ optimizer `tf.keras.optimizers.Adam` runs slowly on M1/M2 Macs, please use the legacy TF-Keras optimizer instead, located at `tf.keras.optimizers.legacy.Adam`.\n",
      "WARNING:absl:At this time, the v2.11+ optimizer `tf.keras.optimizers.Adam` runs slowly on M1/M2 Macs, please use the legacy TF-Keras optimizer instead, located at `tf.keras.optimizers.legacy.Adam`.\n",
      "WARNING:absl:At this time, the v2.11+ optimizer `tf.keras.optimizers.Adam` runs slowly on M1/M2 Macs, please use the legacy TF-Keras optimizer instead, located at `tf.keras.optimizers.legacy.Adam`.\n",
      "WARNING:absl:At this time, the v2.11+ optimizer `tf.keras.optimizers.Adam` runs slowly on M1/M2 Macs, please use the legacy TF-Keras optimizer instead, located at `tf.keras.optimizers.legacy.Adam`.\n",
      "WARNING:absl:At this time, the v2.11+ optimizer `tf.keras.optimizers.Adam` runs slowly on M1/M2 Macs, please use the legacy TF-Keras optimizer instead, located at `tf.keras.optimizers.legacy.Adam`.\n",
      "WARNING:absl:At this time, the v2.11+ optimizer `tf.keras.optimizers.Adam` runs slowly on M1/M2 Macs, please use the legacy TF-Keras optimizer instead, located at `tf.keras.optimizers.legacy.Adam`.\n",
      "WARNING:absl:At this time, the v2.11+ optimizer `tf.keras.optimizers.Adam` runs slowly on M1/M2 Macs, please use the legacy TF-Keras optimizer instead, located at `tf.keras.optimizers.legacy.Adam`.\n",
      "WARNING:absl:At this time, the v2.11+ optimizer `tf.keras.optimizers.Adam` runs slowly on M1/M2 Macs, please use the legacy TF-Keras optimizer instead, located at `tf.keras.optimizers.legacy.Adam`.\n",
      "WARNING:absl:At this time, the v2.11+ optimizer `tf.keras.optimizers.Adam` runs slowly on M1/M2 Macs, please use the legacy TF-Keras optimizer instead, located at `tf.keras.optimizers.legacy.Adam`.\n",
      "WARNING:absl:At this time, the v2.11+ optimizer `tf.keras.optimizers.Adam` runs slowly on M1/M2 Macs, please use the legacy TF-Keras optimizer instead, located at `tf.keras.optimizers.legacy.Adam`.\n",
      "WARNING:absl:At this time, the v2.11+ optimizer `tf.keras.optimizers.Adam` runs slowly on M1/M2 Macs, please use the legacy TF-Keras optimizer instead, located at `tf.keras.optimizers.legacy.Adam`.\n",
      "WARNING:absl:At this time, the v2.11+ optimizer `tf.keras.optimizers.Adam` runs slowly on M1/M2 Macs, please use the legacy TF-Keras optimizer instead, located at `tf.keras.optimizers.legacy.Adam`.\n",
      "WARNING:absl:At this time, the v2.11+ optimizer `tf.keras.optimizers.Adam` runs slowly on M1/M2 Macs, please use the legacy TF-Keras optimizer instead, located at `tf.keras.optimizers.legacy.Adam`.\n",
      "WARNING:absl:At this time, the v2.11+ optimizer `tf.keras.optimizers.Adam` runs slowly on M1/M2 Macs, please use the legacy TF-Keras optimizer instead, located at `tf.keras.optimizers.legacy.Adam`.\n",
      "WARNING:absl:At this time, the v2.11+ optimizer `tf.keras.optimizers.Adam` runs slowly on M1/M2 Macs, please use the legacy TF-Keras optimizer instead, located at `tf.keras.optimizers.legacy.Adam`.\n",
      "WARNING:absl:At this time, the v2.11+ optimizer `tf.keras.optimizers.Adam` runs slowly on M1/M2 Macs, please use the legacy TF-Keras optimizer instead, located at `tf.keras.optimizers.legacy.Adam`.\n",
      "WARNING:absl:At this time, the v2.11+ optimizer `tf.keras.optimizers.Adam` runs slowly on M1/M2 Macs, please use the legacy TF-Keras optimizer instead, located at `tf.keras.optimizers.legacy.Adam`.\n",
      "WARNING:absl:At this time, the v2.11+ optimizer `tf.keras.optimizers.Adam` runs slowly on M1/M2 Macs, please use the legacy TF-Keras optimizer instead, located at `tf.keras.optimizers.legacy.Adam`.\n",
      "WARNING:absl:At this time, the v2.11+ optimizer `tf.keras.optimizers.Adam` runs slowly on M1/M2 Macs, please use the legacy TF-Keras optimizer instead, located at `tf.keras.optimizers.legacy.Adam`.\n",
      "WARNING:absl:At this time, the v2.11+ optimizer `tf.keras.optimizers.Adam` runs slowly on M1/M2 Macs, please use the legacy TF-Keras optimizer instead, located at `tf.keras.optimizers.legacy.Adam`.\n",
      "WARNING:absl:At this time, the v2.11+ optimizer `tf.keras.optimizers.Adam` runs slowly on M1/M2 Macs, please use the legacy TF-Keras optimizer instead, located at `tf.keras.optimizers.legacy.Adam`.\n",
      "WARNING:absl:At this time, the v2.11+ optimizer `tf.keras.optimizers.Adam` runs slowly on M1/M2 Macs, please use the legacy TF-Keras optimizer instead, located at `tf.keras.optimizers.legacy.Adam`.\n",
      "WARNING:absl:At this time, the v2.11+ optimizer `tf.keras.optimizers.Adam` runs slowly on M1/M2 Macs, please use the legacy TF-Keras optimizer instead, located at `tf.keras.optimizers.legacy.Adam`.\n",
      "WARNING:absl:At this time, the v2.11+ optimizer `tf.keras.optimizers.Adam` runs slowly on M1/M2 Macs, please use the legacy TF-Keras optimizer instead, located at `tf.keras.optimizers.legacy.Adam`.\n",
      "WARNING:absl:At this time, the v2.11+ optimizer `tf.keras.optimizers.Adam` runs slowly on M1/M2 Macs, please use the legacy TF-Keras optimizer instead, located at `tf.keras.optimizers.legacy.Adam`.\n",
      "WARNING:absl:At this time, the v2.11+ optimizer `tf.keras.optimizers.Adam` runs slowly on M1/M2 Macs, please use the legacy TF-Keras optimizer instead, located at `tf.keras.optimizers.legacy.Adam`.\n",
      "WARNING:absl:At this time, the v2.11+ optimizer `tf.keras.optimizers.Adam` runs slowly on M1/M2 Macs, please use the legacy TF-Keras optimizer instead, located at `tf.keras.optimizers.legacy.Adam`.\n",
      "WARNING:absl:At this time, the v2.11+ optimizer `tf.keras.optimizers.Adam` runs slowly on M1/M2 Macs, please use the legacy TF-Keras optimizer instead, located at `tf.keras.optimizers.legacy.Adam`.\n",
      "WARNING:absl:At this time, the v2.11+ optimizer `tf.keras.optimizers.Adam` runs slowly on M1/M2 Macs, please use the legacy TF-Keras optimizer instead, located at `tf.keras.optimizers.legacy.Adam`.\n",
      "WARNING:absl:At this time, the v2.11+ optimizer `tf.keras.optimizers.Adam` runs slowly on M1/M2 Macs, please use the legacy TF-Keras optimizer instead, located at `tf.keras.optimizers.legacy.Adam`.\n",
      "WARNING:absl:At this time, the v2.11+ optimizer `tf.keras.optimizers.Adam` runs slowly on M1/M2 Macs, please use the legacy TF-Keras optimizer instead, located at `tf.keras.optimizers.legacy.Adam`.\n",
      "WARNING:absl:At this time, the v2.11+ optimizer `tf.keras.optimizers.Adam` runs slowly on M1/M2 Macs, please use the legacy TF-Keras optimizer instead, located at `tf.keras.optimizers.legacy.Adam`.\n",
      "WARNING:absl:At this time, the v2.11+ optimizer `tf.keras.optimizers.Adam` runs slowly on M1/M2 Macs, please use the legacy TF-Keras optimizer instead, located at `tf.keras.optimizers.legacy.Adam`.\n",
      "WARNING:absl:At this time, the v2.11+ optimizer `tf.keras.optimizers.Adam` runs slowly on M1/M2 Macs, please use the legacy TF-Keras optimizer instead, located at `tf.keras.optimizers.legacy.Adam`.\n",
      "WARNING:absl:At this time, the v2.11+ optimizer `tf.keras.optimizers.Adam` runs slowly on M1/M2 Macs, please use the legacy TF-Keras optimizer instead, located at `tf.keras.optimizers.legacy.Adam`.\n",
      "WARNING:absl:At this time, the v2.11+ optimizer `tf.keras.optimizers.Adam` runs slowly on M1/M2 Macs, please use the legacy TF-Keras optimizer instead, located at `tf.keras.optimizers.legacy.Adam`.\n",
      "WARNING:absl:At this time, the v2.11+ optimizer `tf.keras.optimizers.Adam` runs slowly on M1/M2 Macs, please use the legacy TF-Keras optimizer instead, located at `tf.keras.optimizers.legacy.Adam`.\n",
      "WARNING:absl:At this time, the v2.11+ optimizer `tf.keras.optimizers.Adam` runs slowly on M1/M2 Macs, please use the legacy TF-Keras optimizer instead, located at `tf.keras.optimizers.legacy.Adam`.\n",
      "WARNING:absl:At this time, the v2.11+ optimizer `tf.keras.optimizers.Adam` runs slowly on M1/M2 Macs, please use the legacy TF-Keras optimizer instead, located at `tf.keras.optimizers.legacy.Adam`.\n"
     ]
    },
    {
     "name": "stdout",
     "output_type": "stream",
     "text": [
      "1.5276438485604509\n"
     ]
    }
   ],
   "source": [
    "rmse, y_preds_mean, y_preds_lower, y_preds_upper, y_trues = evaluate_BNN_pretrained(data.values, bnn_us, initial_window=54, n_samples=100, learning_rate=1e-3)\n",
    "print(rmse)"
   ]
  },
  {
   "cell_type": "code",
   "execution_count": 311,
   "id": "2eec8f72",
   "metadata": {},
   "outputs": [
    {
     "name": "stdout",
     "output_type": "stream",
     "text": [
      "RMSE: 1.528\n"
     ]
    }
   ],
   "source": [
    "print(f\"RMSE: {rmse:.3f}\")\n",
    "results_df = pd.DataFrame({\n",
    "    \"date\": data.index[-len(y_trues):],\n",
    "    \"true\": y_trues,\n",
    "    \"pred_mean\": y_preds_mean,\n",
    "    \"CI_lower\": y_preds_lower,\n",
    "    \"CI_upper\": y_preds_upper,\n",
    "})\n",
    "results_df.to_csv(\"./Data/results/BNN_EU_results_Pre.csv\", index=False)"
   ]
  },
  {
   "cell_type": "code",
   "execution_count": 312,
   "id": "a411e727",
   "metadata": {},
   "outputs": [
    {
     "data": {
      "image/png": "[encoded data removed]",
      "text/plain": [
       "<Figure size 1000x400 with 1 Axes>"
      ]
     },
     "metadata": {},
     "output_type": "display_data"
    },
    {
     "name": "stdout",
     "output_type": "stream",
     "text": [
      "RMSE: 1.528\n"
     ]
    }
   ],
   "source": [
    "# Auswertung\n",
    "dates = data.index[-len(y_trues):]  # Get the corresponding dates for the predictions\n",
    "plt.figure(figsize=(10, 4))\n",
    "plt.plot(dates, y_trues, label='True BIP')\n",
    "plt.plot(dates, y_preds_mean, label='Predicted BIP')\n",
    "plt.xlabel(\"Jahr\")\n",
    "plt.legend()\n",
    "# Konfidenzintervale als graue Schattierung hinzufügen\n",
    "plt.fill_between(dates, y_preds_upper, y_preds_lower, color='gray', alpha=0.3, label='Konfidenzintervall')\n",
    "plt.title(\"Expanding Window Forecast BNN EU\")\n",
    "#plt.savefig(\"./plots/final_forecast_VAR_CI.png\")\n",
    "plt.show()\n",
    "\n",
    "print(f\"RMSE: {rmse:.3f}\")"
   ]
  },
  {
   "cell_type": "markdown",
   "id": "beef6b39",
   "metadata": {},
   "source": [
    "Deutschland "
   ]
  },
  {
   "cell_type": "code",
   "execution_count": 313,
   "id": "c061552f",
   "metadata": {},
   "outputs": [],
   "source": [
    "data = df_q_DE[cols_to_standardize].dropna()"
   ]
  },
  {
   "cell_type": "code",
   "execution_count": 314,
   "id": "9bccafad",
   "metadata": {},
   "outputs": [
    {
     "name": "stderr",
     "output_type": "stream",
     "text": [
      "/Users/philippgodde/miniforge3/envs/g/lib/python3.11/site-packages/tensorflow_probability/python/layers/util.py:99: UserWarning: `layer.add_variable` is deprecated and will be removed in a future version. Please use the `layer.add_weight()` method instead.\n",
      "  loc = add_variable_fn(\n",
      "/Users/philippgodde/miniforge3/envs/g/lib/python3.11/site-packages/tf_keras/src/initializers/initializers.py:121: UserWarning: The initializer RandomNormal is unseeded and being called multiple times, which will return identical values each time (even if the initializer is unseeded). Please update your code to provide a seed to the initializer, or avoid using the same initializer instance more than once.\n",
      "  warnings.warn(\n",
      "/Users/philippgodde/miniforge3/envs/g/lib/python3.11/site-packages/tensorflow_probability/python/layers/util.py:109: UserWarning: `layer.add_variable` is deprecated and will be removed in a future version. Please use the `layer.add_weight()` method instead.\n",
      "  untransformed_scale = add_variable_fn(\n",
      "WARNING:absl:At this time, the v2.11+ optimizer `tf.keras.optimizers.Adam` runs slowly on M1/M2 Macs, please use the legacy TF-Keras optimizer instead, located at `tf.keras.optimizers.legacy.Adam`.\n",
      "WARNING:absl:At this time, the v2.11+ optimizer `tf.keras.optimizers.Adam` runs slowly on M1/M2 Macs, please use the legacy TF-Keras optimizer instead, located at `tf.keras.optimizers.legacy.Adam`.\n",
      "WARNING:absl:At this time, the v2.11+ optimizer `tf.keras.optimizers.Adam` runs slowly on M1/M2 Macs, please use the legacy TF-Keras optimizer instead, located at `tf.keras.optimizers.legacy.Adam`.\n",
      "WARNING:absl:At this time, the v2.11+ optimizer `tf.keras.optimizers.Adam` runs slowly on M1/M2 Macs, please use the legacy TF-Keras optimizer instead, located at `tf.keras.optimizers.legacy.Adam`.\n",
      "WARNING:absl:At this time, the v2.11+ optimizer `tf.keras.optimizers.Adam` runs slowly on M1/M2 Macs, please use the legacy TF-Keras optimizer instead, located at `tf.keras.optimizers.legacy.Adam`.\n",
      "WARNING:absl:At this time, the v2.11+ optimizer `tf.keras.optimizers.Adam` runs slowly on M1/M2 Macs, please use the legacy TF-Keras optimizer instead, located at `tf.keras.optimizers.legacy.Adam`.\n",
      "WARNING:absl:At this time, the v2.11+ optimizer `tf.keras.optimizers.Adam` runs slowly on M1/M2 Macs, please use the legacy TF-Keras optimizer instead, located at `tf.keras.optimizers.legacy.Adam`.\n",
      "WARNING:absl:At this time, the v2.11+ optimizer `tf.keras.optimizers.Adam` runs slowly on M1/M2 Macs, please use the legacy TF-Keras optimizer instead, located at `tf.keras.optimizers.legacy.Adam`.\n",
      "WARNING:absl:At this time, the v2.11+ optimizer `tf.keras.optimizers.Adam` runs slowly on M1/M2 Macs, please use the legacy TF-Keras optimizer instead, located at `tf.keras.optimizers.legacy.Adam`.\n",
      "WARNING:absl:At this time, the v2.11+ optimizer `tf.keras.optimizers.Adam` runs slowly on M1/M2 Macs, please use the legacy TF-Keras optimizer instead, located at `tf.keras.optimizers.legacy.Adam`.\n",
      "WARNING:absl:At this time, the v2.11+ optimizer `tf.keras.optimizers.Adam` runs slowly on M1/M2 Macs, please use the legacy TF-Keras optimizer instead, located at `tf.keras.optimizers.legacy.Adam`.\n",
      "WARNING:absl:At this time, the v2.11+ optimizer `tf.keras.optimizers.Adam` runs slowly on M1/M2 Macs, please use the legacy TF-Keras optimizer instead, located at `tf.keras.optimizers.legacy.Adam`.\n",
      "WARNING:absl:At this time, the v2.11+ optimizer `tf.keras.optimizers.Adam` runs slowly on M1/M2 Macs, please use the legacy TF-Keras optimizer instead, located at `tf.keras.optimizers.legacy.Adam`.\n",
      "WARNING:absl:At this time, the v2.11+ optimizer `tf.keras.optimizers.Adam` runs slowly on M1/M2 Macs, please use the legacy TF-Keras optimizer instead, located at `tf.keras.optimizers.legacy.Adam`.\n",
      "WARNING:absl:At this time, the v2.11+ optimizer `tf.keras.optimizers.Adam` runs slowly on M1/M2 Macs, please use the legacy TF-Keras optimizer instead, located at `tf.keras.optimizers.legacy.Adam`.\n",
      "WARNING:absl:At this time, the v2.11+ optimizer `tf.keras.optimizers.Adam` runs slowly on M1/M2 Macs, please use the legacy TF-Keras optimizer instead, located at `tf.keras.optimizers.legacy.Adam`.\n",
      "WARNING:absl:At this time, the v2.11+ optimizer `tf.keras.optimizers.Adam` runs slowly on M1/M2 Macs, please use the legacy TF-Keras optimizer instead, located at `tf.keras.optimizers.legacy.Adam`.\n",
      "WARNING:absl:At this time, the v2.11+ optimizer `tf.keras.optimizers.Adam` runs slowly on M1/M2 Macs, please use the legacy TF-Keras optimizer instead, located at `tf.keras.optimizers.legacy.Adam`.\n",
      "WARNING:absl:At this time, the v2.11+ optimizer `tf.keras.optimizers.Adam` runs slowly on M1/M2 Macs, please use the legacy TF-Keras optimizer instead, located at `tf.keras.optimizers.legacy.Adam`.\n",
      "WARNING:absl:At this time, the v2.11+ optimizer `tf.keras.optimizers.Adam` runs slowly on M1/M2 Macs, please use the legacy TF-Keras optimizer instead, located at `tf.keras.optimizers.legacy.Adam`.\n",
      "WARNING:absl:At this time, the v2.11+ optimizer `tf.keras.optimizers.Adam` runs slowly on M1/M2 Macs, please use the legacy TF-Keras optimizer instead, located at `tf.keras.optimizers.legacy.Adam`.\n",
      "WARNING:absl:At this time, the v2.11+ optimizer `tf.keras.optimizers.Adam` runs slowly on M1/M2 Macs, please use the legacy TF-Keras optimizer instead, located at `tf.keras.optimizers.legacy.Adam`.\n",
      "WARNING:absl:At this time, the v2.11+ optimizer `tf.keras.optimizers.Adam` runs slowly on M1/M2 Macs, please use the legacy TF-Keras optimizer instead, located at `tf.keras.optimizers.legacy.Adam`.\n",
      "WARNING:absl:At this time, the v2.11+ optimizer `tf.keras.optimizers.Adam` runs slowly on M1/M2 Macs, please use the legacy TF-Keras optimizer instead, located at `tf.keras.optimizers.legacy.Adam`.\n",
      "WARNING:absl:At this time, the v2.11+ optimizer `tf.keras.optimizers.Adam` runs slowly on M1/M2 Macs, please use the legacy TF-Keras optimizer instead, located at `tf.keras.optimizers.legacy.Adam`.\n",
      "WARNING:absl:At this time, the v2.11+ optimizer `tf.keras.optimizers.Adam` runs slowly on M1/M2 Macs, please use the legacy TF-Keras optimizer instead, located at `tf.keras.optimizers.legacy.Adam`.\n",
      "WARNING:absl:At this time, the v2.11+ optimizer `tf.keras.optimizers.Adam` runs slowly on M1/M2 Macs, please use the legacy TF-Keras optimizer instead, located at `tf.keras.optimizers.legacy.Adam`.\n",
      "WARNING:absl:At this time, the v2.11+ optimizer `tf.keras.optimizers.Adam` runs slowly on M1/M2 Macs, please use the legacy TF-Keras optimizer instead, located at `tf.keras.optimizers.legacy.Adam`.\n",
      "WARNING:absl:At this time, the v2.11+ optimizer `tf.keras.optimizers.Adam` runs slowly on M1/M2 Macs, please use the legacy TF-Keras optimizer instead, located at `tf.keras.optimizers.legacy.Adam`.\n",
      "WARNING:absl:At this time, the v2.11+ optimizer `tf.keras.optimizers.Adam` runs slowly on M1/M2 Macs, please use the legacy TF-Keras optimizer instead, located at `tf.keras.optimizers.legacy.Adam`.\n",
      "WARNING:absl:At this time, the v2.11+ optimizer `tf.keras.optimizers.Adam` runs slowly on M1/M2 Macs, please use the legacy TF-Keras optimizer instead, located at `tf.keras.optimizers.legacy.Adam`.\n",
      "WARNING:absl:At this time, the v2.11+ optimizer `tf.keras.optimizers.Adam` runs slowly on M1/M2 Macs, please use the legacy TF-Keras optimizer instead, located at `tf.keras.optimizers.legacy.Adam`.\n",
      "WARNING:absl:At this time, the v2.11+ optimizer `tf.keras.optimizers.Adam` runs slowly on M1/M2 Macs, please use the legacy TF-Keras optimizer instead, located at `tf.keras.optimizers.legacy.Adam`.\n",
      "WARNING:absl:At this time, the v2.11+ optimizer `tf.keras.optimizers.Adam` runs slowly on M1/M2 Macs, please use the legacy TF-Keras optimizer instead, located at `tf.keras.optimizers.legacy.Adam`.\n",
      "WARNING:absl:At this time, the v2.11+ optimizer `tf.keras.optimizers.Adam` runs slowly on M1/M2 Macs, please use the legacy TF-Keras optimizer instead, located at `tf.keras.optimizers.legacy.Adam`.\n",
      "WARNING:absl:At this time, the v2.11+ optimizer `tf.keras.optimizers.Adam` runs slowly on M1/M2 Macs, please use the legacy TF-Keras optimizer instead, located at `tf.keras.optimizers.legacy.Adam`.\n",
      "WARNING:absl:At this time, the v2.11+ optimizer `tf.keras.optimizers.Adam` runs slowly on M1/M2 Macs, please use the legacy TF-Keras optimizer instead, located at `tf.keras.optimizers.legacy.Adam`.\n",
      "WARNING:absl:At this time, the v2.11+ optimizer `tf.keras.optimizers.Adam` runs slowly on M1/M2 Macs, please use the legacy TF-Keras optimizer instead, located at `tf.keras.optimizers.legacy.Adam`.\n",
      "WARNING:absl:At this time, the v2.11+ optimizer `tf.keras.optimizers.Adam` runs slowly on M1/M2 Macs, please use the legacy TF-Keras optimizer instead, located at `tf.keras.optimizers.legacy.Adam`.\n",
      "WARNING:absl:At this time, the v2.11+ optimizer `tf.keras.optimizers.Adam` runs slowly on M1/M2 Macs, please use the legacy TF-Keras optimizer instead, located at `tf.keras.optimizers.legacy.Adam`.\n",
      "WARNING:absl:At this time, the v2.11+ optimizer `tf.keras.optimizers.Adam` runs slowly on M1/M2 Macs, please use the legacy TF-Keras optimizer instead, located at `tf.keras.optimizers.legacy.Adam`.\n",
      "WARNING:absl:At this time, the v2.11+ optimizer `tf.keras.optimizers.Adam` runs slowly on M1/M2 Macs, please use the legacy TF-Keras optimizer instead, located at `tf.keras.optimizers.legacy.Adam`.\n",
      "WARNING:absl:At this time, the v2.11+ optimizer `tf.keras.optimizers.Adam` runs slowly on M1/M2 Macs, please use the legacy TF-Keras optimizer instead, located at `tf.keras.optimizers.legacy.Adam`.\n",
      "WARNING:absl:At this time, the v2.11+ optimizer `tf.keras.optimizers.Adam` runs slowly on M1/M2 Macs, please use the legacy TF-Keras optimizer instead, located at `tf.keras.optimizers.legacy.Adam`.\n",
      "WARNING:absl:At this time, the v2.11+ optimizer `tf.keras.optimizers.Adam` runs slowly on M1/M2 Macs, please use the legacy TF-Keras optimizer instead, located at `tf.keras.optimizers.legacy.Adam`.\n",
      "WARNING:absl:At this time, the v2.11+ optimizer `tf.keras.optimizers.Adam` runs slowly on M1/M2 Macs, please use the legacy TF-Keras optimizer instead, located at `tf.keras.optimizers.legacy.Adam`.\n",
      "WARNING:absl:At this time, the v2.11+ optimizer `tf.keras.optimizers.Adam` runs slowly on M1/M2 Macs, please use the legacy TF-Keras optimizer instead, located at `tf.keras.optimizers.legacy.Adam`.\n",
      "WARNING:absl:At this time, the v2.11+ optimizer `tf.keras.optimizers.Adam` runs slowly on M1/M2 Macs, please use the legacy TF-Keras optimizer instead, located at `tf.keras.optimizers.legacy.Adam`.\n",
      "WARNING:absl:At this time, the v2.11+ optimizer `tf.keras.optimizers.Adam` runs slowly on M1/M2 Macs, please use the legacy TF-Keras optimizer instead, located at `tf.keras.optimizers.legacy.Adam`.\n",
      "WARNING:absl:At this time, the v2.11+ optimizer `tf.keras.optimizers.Adam` runs slowly on M1/M2 Macs, please use the legacy TF-Keras optimizer instead, located at `tf.keras.optimizers.legacy.Adam`.\n",
      "WARNING:absl:At this time, the v2.11+ optimizer `tf.keras.optimizers.Adam` runs slowly on M1/M2 Macs, please use the legacy TF-Keras optimizer instead, located at `tf.keras.optimizers.legacy.Adam`.\n",
      "WARNING:absl:At this time, the v2.11+ optimizer `tf.keras.optimizers.Adam` runs slowly on M1/M2 Macs, please use the legacy TF-Keras optimizer instead, located at `tf.keras.optimizers.legacy.Adam`.\n",
      "WARNING:absl:At this time, the v2.11+ optimizer `tf.keras.optimizers.Adam` runs slowly on M1/M2 Macs, please use the legacy TF-Keras optimizer instead, located at `tf.keras.optimizers.legacy.Adam`.\n",
      "WARNING:absl:At this time, the v2.11+ optimizer `tf.keras.optimizers.Adam` runs slowly on M1/M2 Macs, please use the legacy TF-Keras optimizer instead, located at `tf.keras.optimizers.legacy.Adam`.\n",
      "WARNING:absl:At this time, the v2.11+ optimizer `tf.keras.optimizers.Adam` runs slowly on M1/M2 Macs, please use the legacy TF-Keras optimizer instead, located at `tf.keras.optimizers.legacy.Adam`.\n",
      "WARNING:absl:At this time, the v2.11+ optimizer `tf.keras.optimizers.Adam` runs slowly on M1/M2 Macs, please use the legacy TF-Keras optimizer instead, located at `tf.keras.optimizers.legacy.Adam`.\n",
      "WARNING:absl:At this time, the v2.11+ optimizer `tf.keras.optimizers.Adam` runs slowly on M1/M2 Macs, please use the legacy TF-Keras optimizer instead, located at `tf.keras.optimizers.legacy.Adam`.\n",
      "WARNING:absl:At this time, the v2.11+ optimizer `tf.keras.optimizers.Adam` runs slowly on M1/M2 Macs, please use the legacy TF-Keras optimizer instead, located at `tf.keras.optimizers.legacy.Adam`.\n",
      "WARNING:absl:At this time, the v2.11+ optimizer `tf.keras.optimizers.Adam` runs slowly on M1/M2 Macs, please use the legacy TF-Keras optimizer instead, located at `tf.keras.optimizers.legacy.Adam`.\n",
      "WARNING:absl:At this time, the v2.11+ optimizer `tf.keras.optimizers.Adam` runs slowly on M1/M2 Macs, please use the legacy TF-Keras optimizer instead, located at `tf.keras.optimizers.legacy.Adam`.\n",
      "WARNING:absl:At this time, the v2.11+ optimizer `tf.keras.optimizers.Adam` runs slowly on M1/M2 Macs, please use the legacy TF-Keras optimizer instead, located at `tf.keras.optimizers.legacy.Adam`.\n",
      "WARNING:absl:At this time, the v2.11+ optimizer `tf.keras.optimizers.Adam` runs slowly on M1/M2 Macs, please use the legacy TF-Keras optimizer instead, located at `tf.keras.optimizers.legacy.Adam`.\n",
      "WARNING:absl:At this time, the v2.11+ optimizer `tf.keras.optimizers.Adam` runs slowly on M1/M2 Macs, please use the legacy TF-Keras optimizer instead, located at `tf.keras.optimizers.legacy.Adam`.\n",
      "WARNING:absl:At this time, the v2.11+ optimizer `tf.keras.optimizers.Adam` runs slowly on M1/M2 Macs, please use the legacy TF-Keras optimizer instead, located at `tf.keras.optimizers.legacy.Adam`.\n",
      "WARNING:absl:At this time, the v2.11+ optimizer `tf.keras.optimizers.Adam` runs slowly on M1/M2 Macs, please use the legacy TF-Keras optimizer instead, located at `tf.keras.optimizers.legacy.Adam`.\n",
      "WARNING:absl:At this time, the v2.11+ optimizer `tf.keras.optimizers.Adam` runs slowly on M1/M2 Macs, please use the legacy TF-Keras optimizer instead, located at `tf.keras.optimizers.legacy.Adam`.\n",
      "WARNING:absl:At this time, the v2.11+ optimizer `tf.keras.optimizers.Adam` runs slowly on M1/M2 Macs, please use the legacy TF-Keras optimizer instead, located at `tf.keras.optimizers.legacy.Adam`.\n",
      "WARNING:absl:At this time, the v2.11+ optimizer `tf.keras.optimizers.Adam` runs slowly on M1/M2 Macs, please use the legacy TF-Keras optimizer instead, located at `tf.keras.optimizers.legacy.Adam`.\n",
      "WARNING:absl:At this time, the v2.11+ optimizer `tf.keras.optimizers.Adam` runs slowly on M1/M2 Macs, please use the legacy TF-Keras optimizer instead, located at `tf.keras.optimizers.legacy.Adam`.\n",
      "WARNING:absl:At this time, the v2.11+ optimizer `tf.keras.optimizers.Adam` runs slowly on M1/M2 Macs, please use the legacy TF-Keras optimizer instead, located at `tf.keras.optimizers.legacy.Adam`.\n",
      "WARNING:absl:At this time, the v2.11+ optimizer `tf.keras.optimizers.Adam` runs slowly on M1/M2 Macs, please use the legacy TF-Keras optimizer instead, located at `tf.keras.optimizers.legacy.Adam`.\n",
      "WARNING:absl:At this time, the v2.11+ optimizer `tf.keras.optimizers.Adam` runs slowly on M1/M2 Macs, please use the legacy TF-Keras optimizer instead, located at `tf.keras.optimizers.legacy.Adam`.\n",
      "WARNING:absl:At this time, the v2.11+ optimizer `tf.keras.optimizers.Adam` runs slowly on M1/M2 Macs, please use the legacy TF-Keras optimizer instead, located at `tf.keras.optimizers.legacy.Adam`.\n",
      "WARNING:absl:At this time, the v2.11+ optimizer `tf.keras.optimizers.Adam` runs slowly on M1/M2 Macs, please use the legacy TF-Keras optimizer instead, located at `tf.keras.optimizers.legacy.Adam`.\n",
      "WARNING:absl:At this time, the v2.11+ optimizer `tf.keras.optimizers.Adam` runs slowly on M1/M2 Macs, please use the legacy TF-Keras optimizer instead, located at `tf.keras.optimizers.legacy.Adam`.\n",
      "WARNING:absl:At this time, the v2.11+ optimizer `tf.keras.optimizers.Adam` runs slowly on M1/M2 Macs, please use the legacy TF-Keras optimizer instead, located at `tf.keras.optimizers.legacy.Adam`.\n",
      "WARNING:absl:At this time, the v2.11+ optimizer `tf.keras.optimizers.Adam` runs slowly on M1/M2 Macs, please use the legacy TF-Keras optimizer instead, located at `tf.keras.optimizers.legacy.Adam`.\n",
      "WARNING:absl:At this time, the v2.11+ optimizer `tf.keras.optimizers.Adam` runs slowly on M1/M2 Macs, please use the legacy TF-Keras optimizer instead, located at `tf.keras.optimizers.legacy.Adam`.\n",
      "WARNING:absl:At this time, the v2.11+ optimizer `tf.keras.optimizers.Adam` runs slowly on M1/M2 Macs, please use the legacy TF-Keras optimizer instead, located at `tf.keras.optimizers.legacy.Adam`.\n",
      "WARNING:absl:At this time, the v2.11+ optimizer `tf.keras.optimizers.Adam` runs slowly on M1/M2 Macs, please use the legacy TF-Keras optimizer instead, located at `tf.keras.optimizers.legacy.Adam`.\n",
      "WARNING:absl:At this time, the v2.11+ optimizer `tf.keras.optimizers.Adam` runs slowly on M1/M2 Macs, please use the legacy TF-Keras optimizer instead, located at `tf.keras.optimizers.legacy.Adam`.\n",
      "WARNING:absl:At this time, the v2.11+ optimizer `tf.keras.optimizers.Adam` runs slowly on M1/M2 Macs, please use the legacy TF-Keras optimizer instead, located at `tf.keras.optimizers.legacy.Adam`.\n",
      "WARNING:absl:At this time, the v2.11+ optimizer `tf.keras.optimizers.Adam` runs slowly on M1/M2 Macs, please use the legacy TF-Keras optimizer instead, located at `tf.keras.optimizers.legacy.Adam`.\n",
      "WARNING:absl:At this time, the v2.11+ optimizer `tf.keras.optimizers.Adam` runs slowly on M1/M2 Macs, please use the legacy TF-Keras optimizer instead, located at `tf.keras.optimizers.legacy.Adam`.\n",
      "WARNING:absl:At this time, the v2.11+ optimizer `tf.keras.optimizers.Adam` runs slowly on M1/M2 Macs, please use the legacy TF-Keras optimizer instead, located at `tf.keras.optimizers.legacy.Adam`.\n",
      "WARNING:absl:At this time, the v2.11+ optimizer `tf.keras.optimizers.Adam` runs slowly on M1/M2 Macs, please use the legacy TF-Keras optimizer instead, located at `tf.keras.optimizers.legacy.Adam`.\n",
      "WARNING:absl:At this time, the v2.11+ optimizer `tf.keras.optimizers.Adam` runs slowly on M1/M2 Macs, please use the legacy TF-Keras optimizer instead, located at `tf.keras.optimizers.legacy.Adam`.\n",
      "WARNING:absl:At this time, the v2.11+ optimizer `tf.keras.optimizers.Adam` runs slowly on M1/M2 Macs, please use the legacy TF-Keras optimizer instead, located at `tf.keras.optimizers.legacy.Adam`.\n"
     ]
    },
    {
     "name": "stdout",
     "output_type": "stream",
     "text": [
      "1.5832153197360563\n"
     ]
    }
   ],
   "source": [
    "rmse, y_preds_mean, y_preds_lower, y_preds_upper, y_trues = evaluate_BNN_pretrained(data.values, bnn_us, initial_window=54, n_samples=100, learning_rate=1e-2)\n",
    "print(rmse)"
   ]
  },
  {
   "cell_type": "code",
   "execution_count": 315,
   "id": "782db94e",
   "metadata": {},
   "outputs": [
    {
     "name": "stdout",
     "output_type": "stream",
     "text": [
      "RMSE: 1.583\n"
     ]
    }
   ],
   "source": [
    "print(f\"RMSE: {rmse:.3f}\")\n",
    "results_df = pd.DataFrame({\n",
    "    \"date\": data.index[-len(y_trues):],\n",
    "    \"true\": y_trues,\n",
    "    \"pred_mean\": y_preds_mean,\n",
    "    \"CI_lower\": y_preds_lower,\n",
    "    \"CI_upper\": y_preds_upper,\n",
    "})\n",
    "results_df.to_csv(\"./Data/results/BNN_DE_results_Pre.csv\", index=False)"
   ]
  },
  {
   "cell_type": "markdown",
   "id": "3b807554",
   "metadata": {},
   "source": [
    "Frankreich"
   ]
  },
  {
   "cell_type": "code",
   "execution_count": 316,
   "id": "b667baf2",
   "metadata": {},
   "outputs": [],
   "source": [
    "data = df_q_FR[cols_to_standardize].dropna()"
   ]
  },
  {
   "cell_type": "code",
   "execution_count": 317,
   "id": "8e5ab06a",
   "metadata": {},
   "outputs": [
    {
     "name": "stderr",
     "output_type": "stream",
     "text": [
      "/Users/philippgodde/miniforge3/envs/g/lib/python3.11/site-packages/tensorflow_probability/python/layers/util.py:99: UserWarning: `layer.add_variable` is deprecated and will be removed in a future version. Please use the `layer.add_weight()` method instead.\n",
      "  loc = add_variable_fn(\n",
      "/Users/philippgodde/miniforge3/envs/g/lib/python3.11/site-packages/tf_keras/src/initializers/initializers.py:121: UserWarning: The initializer RandomNormal is unseeded and being called multiple times, which will return identical values each time (even if the initializer is unseeded). Please update your code to provide a seed to the initializer, or avoid using the same initializer instance more than once.\n",
      "  warnings.warn(\n",
      "/Users/philippgodde/miniforge3/envs/g/lib/python3.11/site-packages/tensorflow_probability/python/layers/util.py:109: UserWarning: `layer.add_variable` is deprecated and will be removed in a future version. Please use the `layer.add_weight()` method instead.\n",
      "  untransformed_scale = add_variable_fn(\n",
      "WARNING:absl:At this time, the v2.11+ optimizer `tf.keras.optimizers.Adam` runs slowly on M1/M2 Macs, please use the legacy TF-Keras optimizer instead, located at `tf.keras.optimizers.legacy.Adam`.\n",
      "WARNING:absl:At this time, the v2.11+ optimizer `tf.keras.optimizers.Adam` runs slowly on M1/M2 Macs, please use the legacy TF-Keras optimizer instead, located at `tf.keras.optimizers.legacy.Adam`.\n",
      "WARNING:absl:At this time, the v2.11+ optimizer `tf.keras.optimizers.Adam` runs slowly on M1/M2 Macs, please use the legacy TF-Keras optimizer instead, located at `tf.keras.optimizers.legacy.Adam`.\n",
      "WARNING:absl:At this time, the v2.11+ optimizer `tf.keras.optimizers.Adam` runs slowly on M1/M2 Macs, please use the legacy TF-Keras optimizer instead, located at `tf.keras.optimizers.legacy.Adam`.\n",
      "WARNING:absl:At this time, the v2.11+ optimizer `tf.keras.optimizers.Adam` runs slowly on M1/M2 Macs, please use the legacy TF-Keras optimizer instead, located at `tf.keras.optimizers.legacy.Adam`.\n",
      "WARNING:absl:At this time, the v2.11+ optimizer `tf.keras.optimizers.Adam` runs slowly on M1/M2 Macs, please use the legacy TF-Keras optimizer instead, located at `tf.keras.optimizers.legacy.Adam`.\n",
      "WARNING:absl:At this time, the v2.11+ optimizer `tf.keras.optimizers.Adam` runs slowly on M1/M2 Macs, please use the legacy TF-Keras optimizer instead, located at `tf.keras.optimizers.legacy.Adam`.\n",
      "WARNING:absl:At this time, the v2.11+ optimizer `tf.keras.optimizers.Adam` runs slowly on M1/M2 Macs, please use the legacy TF-Keras optimizer instead, located at `tf.keras.optimizers.legacy.Adam`.\n",
      "WARNING:absl:At this time, the v2.11+ optimizer `tf.keras.optimizers.Adam` runs slowly on M1/M2 Macs, please use the legacy TF-Keras optimizer instead, located at `tf.keras.optimizers.legacy.Adam`.\n",
      "WARNING:absl:At this time, the v2.11+ optimizer `tf.keras.optimizers.Adam` runs slowly on M1/M2 Macs, please use the legacy TF-Keras optimizer instead, located at `tf.keras.optimizers.legacy.Adam`.\n",
      "WARNING:absl:At this time, the v2.11+ optimizer `tf.keras.optimizers.Adam` runs slowly on M1/M2 Macs, please use the legacy TF-Keras optimizer instead, located at `tf.keras.optimizers.legacy.Adam`.\n",
      "WARNING:absl:At this time, the v2.11+ optimizer `tf.keras.optimizers.Adam` runs slowly on M1/M2 Macs, please use the legacy TF-Keras optimizer instead, located at `tf.keras.optimizers.legacy.Adam`.\n",
      "WARNING:absl:At this time, the v2.11+ optimizer `tf.keras.optimizers.Adam` runs slowly on M1/M2 Macs, please use the legacy TF-Keras optimizer instead, located at `tf.keras.optimizers.legacy.Adam`.\n",
      "WARNING:absl:At this time, the v2.11+ optimizer `tf.keras.optimizers.Adam` runs slowly on M1/M2 Macs, please use the legacy TF-Keras optimizer instead, located at `tf.keras.optimizers.legacy.Adam`.\n",
      "WARNING:absl:At this time, the v2.11+ optimizer `tf.keras.optimizers.Adam` runs slowly on M1/M2 Macs, please use the legacy TF-Keras optimizer instead, located at `tf.keras.optimizers.legacy.Adam`.\n",
      "WARNING:absl:At this time, the v2.11+ optimizer `tf.keras.optimizers.Adam` runs slowly on M1/M2 Macs, please use the legacy TF-Keras optimizer instead, located at `tf.keras.optimizers.legacy.Adam`.\n",
      "WARNING:absl:At this time, the v2.11+ optimizer `tf.keras.optimizers.Adam` runs slowly on M1/M2 Macs, please use the legacy TF-Keras optimizer instead, located at `tf.keras.optimizers.legacy.Adam`.\n",
      "WARNING:absl:At this time, the v2.11+ optimizer `tf.keras.optimizers.Adam` runs slowly on M1/M2 Macs, please use the legacy TF-Keras optimizer instead, located at `tf.keras.optimizers.legacy.Adam`.\n",
      "WARNING:absl:At this time, the v2.11+ optimizer `tf.keras.optimizers.Adam` runs slowly on M1/M2 Macs, please use the legacy TF-Keras optimizer instead, located at `tf.keras.optimizers.legacy.Adam`.\n",
      "WARNING:absl:At this time, the v2.11+ optimizer `tf.keras.optimizers.Adam` runs slowly on M1/M2 Macs, please use the legacy TF-Keras optimizer instead, located at `tf.keras.optimizers.legacy.Adam`.\n",
      "WARNING:absl:At this time, the v2.11+ optimizer `tf.keras.optimizers.Adam` runs slowly on M1/M2 Macs, please use the legacy TF-Keras optimizer instead, located at `tf.keras.optimizers.legacy.Adam`.\n",
      "WARNING:absl:At this time, the v2.11+ optimizer `tf.keras.optimizers.Adam` runs slowly on M1/M2 Macs, please use the legacy TF-Keras optimizer instead, located at `tf.keras.optimizers.legacy.Adam`.\n",
      "WARNING:absl:At this time, the v2.11+ optimizer `tf.keras.optimizers.Adam` runs slowly on M1/M2 Macs, please use the legacy TF-Keras optimizer instead, located at `tf.keras.optimizers.legacy.Adam`.\n",
      "WARNING:absl:At this time, the v2.11+ optimizer `tf.keras.optimizers.Adam` runs slowly on M1/M2 Macs, please use the legacy TF-Keras optimizer instead, located at `tf.keras.optimizers.legacy.Adam`.\n",
      "WARNING:absl:At this time, the v2.11+ optimizer `tf.keras.optimizers.Adam` runs slowly on M1/M2 Macs, please use the legacy TF-Keras optimizer instead, located at `tf.keras.optimizers.legacy.Adam`.\n",
      "WARNING:absl:At this time, the v2.11+ optimizer `tf.keras.optimizers.Adam` runs slowly on M1/M2 Macs, please use the legacy TF-Keras optimizer instead, located at `tf.keras.optimizers.legacy.Adam`.\n",
      "WARNING:absl:At this time, the v2.11+ optimizer `tf.keras.optimizers.Adam` runs slowly on M1/M2 Macs, please use the legacy TF-Keras optimizer instead, located at `tf.keras.optimizers.legacy.Adam`.\n",
      "WARNING:absl:At this time, the v2.11+ optimizer `tf.keras.optimizers.Adam` runs slowly on M1/M2 Macs, please use the legacy TF-Keras optimizer instead, located at `tf.keras.optimizers.legacy.Adam`.\n",
      "WARNING:absl:At this time, the v2.11+ optimizer `tf.keras.optimizers.Adam` runs slowly on M1/M2 Macs, please use the legacy TF-Keras optimizer instead, located at `tf.keras.optimizers.legacy.Adam`.\n",
      "WARNING:absl:At this time, the v2.11+ optimizer `tf.keras.optimizers.Adam` runs slowly on M1/M2 Macs, please use the legacy TF-Keras optimizer instead, located at `tf.keras.optimizers.legacy.Adam`.\n",
      "WARNING:absl:At this time, the v2.11+ optimizer `tf.keras.optimizers.Adam` runs slowly on M1/M2 Macs, please use the legacy TF-Keras optimizer instead, located at `tf.keras.optimizers.legacy.Adam`.\n",
      "WARNING:absl:At this time, the v2.11+ optimizer `tf.keras.optimizers.Adam` runs slowly on M1/M2 Macs, please use the legacy TF-Keras optimizer instead, located at `tf.keras.optimizers.legacy.Adam`.\n",
      "WARNING:absl:At this time, the v2.11+ optimizer `tf.keras.optimizers.Adam` runs slowly on M1/M2 Macs, please use the legacy TF-Keras optimizer instead, located at `tf.keras.optimizers.legacy.Adam`.\n",
      "WARNING:absl:At this time, the v2.11+ optimizer `tf.keras.optimizers.Adam` runs slowly on M1/M2 Macs, please use the legacy TF-Keras optimizer instead, located at `tf.keras.optimizers.legacy.Adam`.\n",
      "WARNING:absl:At this time, the v2.11+ optimizer `tf.keras.optimizers.Adam` runs slowly on M1/M2 Macs, please use the legacy TF-Keras optimizer instead, located at `tf.keras.optimizers.legacy.Adam`.\n",
      "WARNING:absl:At this time, the v2.11+ optimizer `tf.keras.optimizers.Adam` runs slowly on M1/M2 Macs, please use the legacy TF-Keras optimizer instead, located at `tf.keras.optimizers.legacy.Adam`.\n",
      "WARNING:absl:At this time, the v2.11+ optimizer `tf.keras.optimizers.Adam` runs slowly on M1/M2 Macs, please use the legacy TF-Keras optimizer instead, located at `tf.keras.optimizers.legacy.Adam`.\n",
      "WARNING:absl:At this time, the v2.11+ optimizer `tf.keras.optimizers.Adam` runs slowly on M1/M2 Macs, please use the legacy TF-Keras optimizer instead, located at `tf.keras.optimizers.legacy.Adam`.\n",
      "WARNING:absl:At this time, the v2.11+ optimizer `tf.keras.optimizers.Adam` runs slowly on M1/M2 Macs, please use the legacy TF-Keras optimizer instead, located at `tf.keras.optimizers.legacy.Adam`.\n",
      "WARNING:absl:At this time, the v2.11+ optimizer `tf.keras.optimizers.Adam` runs slowly on M1/M2 Macs, please use the legacy TF-Keras optimizer instead, located at `tf.keras.optimizers.legacy.Adam`.\n",
      "WARNING:absl:At this time, the v2.11+ optimizer `tf.keras.optimizers.Adam` runs slowly on M1/M2 Macs, please use the legacy TF-Keras optimizer instead, located at `tf.keras.optimizers.legacy.Adam`.\n",
      "WARNING:absl:At this time, the v2.11+ optimizer `tf.keras.optimizers.Adam` runs slowly on M1/M2 Macs, please use the legacy TF-Keras optimizer instead, located at `tf.keras.optimizers.legacy.Adam`.\n",
      "WARNING:absl:At this time, the v2.11+ optimizer `tf.keras.optimizers.Adam` runs slowly on M1/M2 Macs, please use the legacy TF-Keras optimizer instead, located at `tf.keras.optimizers.legacy.Adam`.\n",
      "WARNING:absl:At this time, the v2.11+ optimizer `tf.keras.optimizers.Adam` runs slowly on M1/M2 Macs, please use the legacy TF-Keras optimizer instead, located at `tf.keras.optimizers.legacy.Adam`.\n",
      "WARNING:absl:At this time, the v2.11+ optimizer `tf.keras.optimizers.Adam` runs slowly on M1/M2 Macs, please use the legacy TF-Keras optimizer instead, located at `tf.keras.optimizers.legacy.Adam`.\n",
      "WARNING:absl:At this time, the v2.11+ optimizer `tf.keras.optimizers.Adam` runs slowly on M1/M2 Macs, please use the legacy TF-Keras optimizer instead, located at `tf.keras.optimizers.legacy.Adam`.\n",
      "WARNING:absl:At this time, the v2.11+ optimizer `tf.keras.optimizers.Adam` runs slowly on M1/M2 Macs, please use the legacy TF-Keras optimizer instead, located at `tf.keras.optimizers.legacy.Adam`.\n",
      "WARNING:absl:At this time, the v2.11+ optimizer `tf.keras.optimizers.Adam` runs slowly on M1/M2 Macs, please use the legacy TF-Keras optimizer instead, located at `tf.keras.optimizers.legacy.Adam`.\n",
      "WARNING:absl:At this time, the v2.11+ optimizer `tf.keras.optimizers.Adam` runs slowly on M1/M2 Macs, please use the legacy TF-Keras optimizer instead, located at `tf.keras.optimizers.legacy.Adam`.\n",
      "WARNING:absl:At this time, the v2.11+ optimizer `tf.keras.optimizers.Adam` runs slowly on M1/M2 Macs, please use the legacy TF-Keras optimizer instead, located at `tf.keras.optimizers.legacy.Adam`.\n",
      "WARNING:absl:At this time, the v2.11+ optimizer `tf.keras.optimizers.Adam` runs slowly on M1/M2 Macs, please use the legacy TF-Keras optimizer instead, located at `tf.keras.optimizers.legacy.Adam`.\n",
      "WARNING:absl:At this time, the v2.11+ optimizer `tf.keras.optimizers.Adam` runs slowly on M1/M2 Macs, please use the legacy TF-Keras optimizer instead, located at `tf.keras.optimizers.legacy.Adam`.\n",
      "WARNING:absl:At this time, the v2.11+ optimizer `tf.keras.optimizers.Adam` runs slowly on M1/M2 Macs, please use the legacy TF-Keras optimizer instead, located at `tf.keras.optimizers.legacy.Adam`.\n",
      "WARNING:absl:At this time, the v2.11+ optimizer `tf.keras.optimizers.Adam` runs slowly on M1/M2 Macs, please use the legacy TF-Keras optimizer instead, located at `tf.keras.optimizers.legacy.Adam`.\n",
      "WARNING:absl:At this time, the v2.11+ optimizer `tf.keras.optimizers.Adam` runs slowly on M1/M2 Macs, please use the legacy TF-Keras optimizer instead, located at `tf.keras.optimizers.legacy.Adam`.\n",
      "WARNING:absl:At this time, the v2.11+ optimizer `tf.keras.optimizers.Adam` runs slowly on M1/M2 Macs, please use the legacy TF-Keras optimizer instead, located at `tf.keras.optimizers.legacy.Adam`.\n",
      "WARNING:absl:At this time, the v2.11+ optimizer `tf.keras.optimizers.Adam` runs slowly on M1/M2 Macs, please use the legacy TF-Keras optimizer instead, located at `tf.keras.optimizers.legacy.Adam`.\n",
      "WARNING:absl:At this time, the v2.11+ optimizer `tf.keras.optimizers.Adam` runs slowly on M1/M2 Macs, please use the legacy TF-Keras optimizer instead, located at `tf.keras.optimizers.legacy.Adam`.\n",
      "WARNING:absl:At this time, the v2.11+ optimizer `tf.keras.optimizers.Adam` runs slowly on M1/M2 Macs, please use the legacy TF-Keras optimizer instead, located at `tf.keras.optimizers.legacy.Adam`.\n",
      "WARNING:absl:At this time, the v2.11+ optimizer `tf.keras.optimizers.Adam` runs slowly on M1/M2 Macs, please use the legacy TF-Keras optimizer instead, located at `tf.keras.optimizers.legacy.Adam`.\n",
      "WARNING:absl:At this time, the v2.11+ optimizer `tf.keras.optimizers.Adam` runs slowly on M1/M2 Macs, please use the legacy TF-Keras optimizer instead, located at `tf.keras.optimizers.legacy.Adam`.\n",
      "WARNING:absl:At this time, the v2.11+ optimizer `tf.keras.optimizers.Adam` runs slowly on M1/M2 Macs, please use the legacy TF-Keras optimizer instead, located at `tf.keras.optimizers.legacy.Adam`.\n",
      "WARNING:absl:At this time, the v2.11+ optimizer `tf.keras.optimizers.Adam` runs slowly on M1/M2 Macs, please use the legacy TF-Keras optimizer instead, located at `tf.keras.optimizers.legacy.Adam`.\n",
      "WARNING:absl:At this time, the v2.11+ optimizer `tf.keras.optimizers.Adam` runs slowly on M1/M2 Macs, please use the legacy TF-Keras optimizer instead, located at `tf.keras.optimizers.legacy.Adam`.\n",
      "WARNING:absl:At this time, the v2.11+ optimizer `tf.keras.optimizers.Adam` runs slowly on M1/M2 Macs, please use the legacy TF-Keras optimizer instead, located at `tf.keras.optimizers.legacy.Adam`.\n",
      "WARNING:absl:At this time, the v2.11+ optimizer `tf.keras.optimizers.Adam` runs slowly on M1/M2 Macs, please use the legacy TF-Keras optimizer instead, located at `tf.keras.optimizers.legacy.Adam`.\n",
      "WARNING:absl:At this time, the v2.11+ optimizer `tf.keras.optimizers.Adam` runs slowly on M1/M2 Macs, please use the legacy TF-Keras optimizer instead, located at `tf.keras.optimizers.legacy.Adam`.\n",
      "WARNING:absl:At this time, the v2.11+ optimizer `tf.keras.optimizers.Adam` runs slowly on M1/M2 Macs, please use the legacy TF-Keras optimizer instead, located at `tf.keras.optimizers.legacy.Adam`.\n",
      "WARNING:absl:At this time, the v2.11+ optimizer `tf.keras.optimizers.Adam` runs slowly on M1/M2 Macs, please use the legacy TF-Keras optimizer instead, located at `tf.keras.optimizers.legacy.Adam`.\n",
      "WARNING:absl:At this time, the v2.11+ optimizer `tf.keras.optimizers.Adam` runs slowly on M1/M2 Macs, please use the legacy TF-Keras optimizer instead, located at `tf.keras.optimizers.legacy.Adam`.\n",
      "WARNING:absl:At this time, the v2.11+ optimizer `tf.keras.optimizers.Adam` runs slowly on M1/M2 Macs, please use the legacy TF-Keras optimizer instead, located at `tf.keras.optimizers.legacy.Adam`.\n",
      "WARNING:absl:At this time, the v2.11+ optimizer `tf.keras.optimizers.Adam` runs slowly on M1/M2 Macs, please use the legacy TF-Keras optimizer instead, located at `tf.keras.optimizers.legacy.Adam`.\n",
      "WARNING:absl:At this time, the v2.11+ optimizer `tf.keras.optimizers.Adam` runs slowly on M1/M2 Macs, please use the legacy TF-Keras optimizer instead, located at `tf.keras.optimizers.legacy.Adam`.\n",
      "WARNING:absl:At this time, the v2.11+ optimizer `tf.keras.optimizers.Adam` runs slowly on M1/M2 Macs, please use the legacy TF-Keras optimizer instead, located at `tf.keras.optimizers.legacy.Adam`.\n",
      "WARNING:absl:At this time, the v2.11+ optimizer `tf.keras.optimizers.Adam` runs slowly on M1/M2 Macs, please use the legacy TF-Keras optimizer instead, located at `tf.keras.optimizers.legacy.Adam`.\n",
      "WARNING:absl:At this time, the v2.11+ optimizer `tf.keras.optimizers.Adam` runs slowly on M1/M2 Macs, please use the legacy TF-Keras optimizer instead, located at `tf.keras.optimizers.legacy.Adam`.\n",
      "WARNING:absl:At this time, the v2.11+ optimizer `tf.keras.optimizers.Adam` runs slowly on M1/M2 Macs, please use the legacy TF-Keras optimizer instead, located at `tf.keras.optimizers.legacy.Adam`.\n",
      "WARNING:absl:At this time, the v2.11+ optimizer `tf.keras.optimizers.Adam` runs slowly on M1/M2 Macs, please use the legacy TF-Keras optimizer instead, located at `tf.keras.optimizers.legacy.Adam`.\n",
      "WARNING:absl:At this time, the v2.11+ optimizer `tf.keras.optimizers.Adam` runs slowly on M1/M2 Macs, please use the legacy TF-Keras optimizer instead, located at `tf.keras.optimizers.legacy.Adam`.\n",
      "WARNING:absl:At this time, the v2.11+ optimizer `tf.keras.optimizers.Adam` runs slowly on M1/M2 Macs, please use the legacy TF-Keras optimizer instead, located at `tf.keras.optimizers.legacy.Adam`.\n",
      "WARNING:absl:At this time, the v2.11+ optimizer `tf.keras.optimizers.Adam` runs slowly on M1/M2 Macs, please use the legacy TF-Keras optimizer instead, located at `tf.keras.optimizers.legacy.Adam`.\n",
      "WARNING:absl:At this time, the v2.11+ optimizer `tf.keras.optimizers.Adam` runs slowly on M1/M2 Macs, please use the legacy TF-Keras optimizer instead, located at `tf.keras.optimizers.legacy.Adam`.\n",
      "WARNING:absl:At this time, the v2.11+ optimizer `tf.keras.optimizers.Adam` runs slowly on M1/M2 Macs, please use the legacy TF-Keras optimizer instead, located at `tf.keras.optimizers.legacy.Adam`.\n",
      "WARNING:absl:At this time, the v2.11+ optimizer `tf.keras.optimizers.Adam` runs slowly on M1/M2 Macs, please use the legacy TF-Keras optimizer instead, located at `tf.keras.optimizers.legacy.Adam`.\n",
      "WARNING:absl:At this time, the v2.11+ optimizer `tf.keras.optimizers.Adam` runs slowly on M1/M2 Macs, please use the legacy TF-Keras optimizer instead, located at `tf.keras.optimizers.legacy.Adam`.\n",
      "WARNING:absl:At this time, the v2.11+ optimizer `tf.keras.optimizers.Adam` runs slowly on M1/M2 Macs, please use the legacy TF-Keras optimizer instead, located at `tf.keras.optimizers.legacy.Adam`.\n",
      "WARNING:absl:At this time, the v2.11+ optimizer `tf.keras.optimizers.Adam` runs slowly on M1/M2 Macs, please use the legacy TF-Keras optimizer instead, located at `tf.keras.optimizers.legacy.Adam`.\n",
      "WARNING:absl:At this time, the v2.11+ optimizer `tf.keras.optimizers.Adam` runs slowly on M1/M2 Macs, please use the legacy TF-Keras optimizer instead, located at `tf.keras.optimizers.legacy.Adam`.\n"
     ]
    },
    {
     "name": "stdout",
     "output_type": "stream",
     "text": [
      "1.639517921074791\n"
     ]
    }
   ],
   "source": [
    "rmse, y_preds_mean, y_preds_lower, y_preds_upper, y_trues = evaluate_BNN_pretrained(data.values, bnn_us, initial_window=54, n_samples=100, learning_rate=1e-2)\n",
    "print(rmse)"
   ]
  },
  {
   "cell_type": "code",
   "execution_count": 318,
   "id": "0f0943f7",
   "metadata": {},
   "outputs": [
    {
     "name": "stdout",
     "output_type": "stream",
     "text": [
      "RMSE: 1.640\n"
     ]
    }
   ],
   "source": [
    "print(f\"RMSE: {rmse:.3f}\")\n",
    "results_df = pd.DataFrame({\n",
    "    \"date\": data.index[-len(y_trues):],\n",
    "    \"true\": y_trues,\n",
    "    \"pred_mean\": y_preds_mean,\n",
    "    \"CI_lower\": y_preds_lower,\n",
    "    \"CI_upper\": y_preds_upper,\n",
    "})\n",
    "results_df.to_csv(\"./Data/results/BNN_FR_results_Pre.csv\", index=False)"
   ]
  },
  {
   "cell_type": "markdown",
   "id": "288a8207",
   "metadata": {},
   "source": [
    "Italien"
   ]
  },
  {
   "cell_type": "code",
   "execution_count": 319,
   "id": "5132c718",
   "metadata": {},
   "outputs": [],
   "source": [
    "data = df_q_IT[cols_to_standardize].dropna()"
   ]
  },
  {
   "cell_type": "code",
   "execution_count": 320,
   "id": "9ab9b23e",
   "metadata": {},
   "outputs": [
    {
     "name": "stderr",
     "output_type": "stream",
     "text": [
      "/Users/philippgodde/miniforge3/envs/g/lib/python3.11/site-packages/tensorflow_probability/python/layers/util.py:99: UserWarning: `layer.add_variable` is deprecated and will be removed in a future version. Please use the `layer.add_weight()` method instead.\n",
      "  loc = add_variable_fn(\n",
      "/Users/philippgodde/miniforge3/envs/g/lib/python3.11/site-packages/tf_keras/src/initializers/initializers.py:121: UserWarning: The initializer RandomNormal is unseeded and being called multiple times, which will return identical values each time (even if the initializer is unseeded). Please update your code to provide a seed to the initializer, or avoid using the same initializer instance more than once.\n",
      "  warnings.warn(\n",
      "/Users/philippgodde/miniforge3/envs/g/lib/python3.11/site-packages/tensorflow_probability/python/layers/util.py:109: UserWarning: `layer.add_variable` is deprecated and will be removed in a future version. Please use the `layer.add_weight()` method instead.\n",
      "  untransformed_scale = add_variable_fn(\n",
      "WARNING:absl:At this time, the v2.11+ optimizer `tf.keras.optimizers.Adam` runs slowly on M1/M2 Macs, please use the legacy TF-Keras optimizer instead, located at `tf.keras.optimizers.legacy.Adam`.\n",
      "WARNING:absl:At this time, the v2.11+ optimizer `tf.keras.optimizers.Adam` runs slowly on M1/M2 Macs, please use the legacy TF-Keras optimizer instead, located at `tf.keras.optimizers.legacy.Adam`.\n",
      "WARNING:absl:At this time, the v2.11+ optimizer `tf.keras.optimizers.Adam` runs slowly on M1/M2 Macs, please use the legacy TF-Keras optimizer instead, located at `tf.keras.optimizers.legacy.Adam`.\n",
      "WARNING:absl:At this time, the v2.11+ optimizer `tf.keras.optimizers.Adam` runs slowly on M1/M2 Macs, please use the legacy TF-Keras optimizer instead, located at `tf.keras.optimizers.legacy.Adam`.\n",
      "WARNING:absl:At this time, the v2.11+ optimizer `tf.keras.optimizers.Adam` runs slowly on M1/M2 Macs, please use the legacy TF-Keras optimizer instead, located at `tf.keras.optimizers.legacy.Adam`.\n",
      "WARNING:absl:At this time, the v2.11+ optimizer `tf.keras.optimizers.Adam` runs slowly on M1/M2 Macs, please use the legacy TF-Keras optimizer instead, located at `tf.keras.optimizers.legacy.Adam`.\n",
      "WARNING:absl:At this time, the v2.11+ optimizer `tf.keras.optimizers.Adam` runs slowly on M1/M2 Macs, please use the legacy TF-Keras optimizer instead, located at `tf.keras.optimizers.legacy.Adam`.\n",
      "WARNING:absl:At this time, the v2.11+ optimizer `tf.keras.optimizers.Adam` runs slowly on M1/M2 Macs, please use the legacy TF-Keras optimizer instead, located at `tf.keras.optimizers.legacy.Adam`.\n",
      "WARNING:absl:At this time, the v2.11+ optimizer `tf.keras.optimizers.Adam` runs slowly on M1/M2 Macs, please use the legacy TF-Keras optimizer instead, located at `tf.keras.optimizers.legacy.Adam`.\n",
      "WARNING:absl:At this time, the v2.11+ optimizer `tf.keras.optimizers.Adam` runs slowly on M1/M2 Macs, please use the legacy TF-Keras optimizer instead, located at `tf.keras.optimizers.legacy.Adam`.\n",
      "WARNING:absl:At this time, the v2.11+ optimizer `tf.keras.optimizers.Adam` runs slowly on M1/M2 Macs, please use the legacy TF-Keras optimizer instead, located at `tf.keras.optimizers.legacy.Adam`.\n",
      "WARNING:absl:At this time, the v2.11+ optimizer `tf.keras.optimizers.Adam` runs slowly on M1/M2 Macs, please use the legacy TF-Keras optimizer instead, located at `tf.keras.optimizers.legacy.Adam`.\n",
      "WARNING:absl:At this time, the v2.11+ optimizer `tf.keras.optimizers.Adam` runs slowly on M1/M2 Macs, please use the legacy TF-Keras optimizer instead, located at `tf.keras.optimizers.legacy.Adam`.\n",
      "WARNING:absl:At this time, the v2.11+ optimizer `tf.keras.optimizers.Adam` runs slowly on M1/M2 Macs, please use the legacy TF-Keras optimizer instead, located at `tf.keras.optimizers.legacy.Adam`.\n",
      "WARNING:absl:At this time, the v2.11+ optimizer `tf.keras.optimizers.Adam` runs slowly on M1/M2 Macs, please use the legacy TF-Keras optimizer instead, located at `tf.keras.optimizers.legacy.Adam`.\n",
      "WARNING:absl:At this time, the v2.11+ optimizer `tf.keras.optimizers.Adam` runs slowly on M1/M2 Macs, please use the legacy TF-Keras optimizer instead, located at `tf.keras.optimizers.legacy.Adam`.\n",
      "WARNING:absl:At this time, the v2.11+ optimizer `tf.keras.optimizers.Adam` runs slowly on M1/M2 Macs, please use the legacy TF-Keras optimizer instead, located at `tf.keras.optimizers.legacy.Adam`.\n",
      "WARNING:absl:At this time, the v2.11+ optimizer `tf.keras.optimizers.Adam` runs slowly on M1/M2 Macs, please use the legacy TF-Keras optimizer instead, located at `tf.keras.optimizers.legacy.Adam`.\n",
      "WARNING:absl:At this time, the v2.11+ optimizer `tf.keras.optimizers.Adam` runs slowly on M1/M2 Macs, please use the legacy TF-Keras optimizer instead, located at `tf.keras.optimizers.legacy.Adam`.\n",
      "WARNING:absl:At this time, the v2.11+ optimizer `tf.keras.optimizers.Adam` runs slowly on M1/M2 Macs, please use the legacy TF-Keras optimizer instead, located at `tf.keras.optimizers.legacy.Adam`.\n",
      "WARNING:absl:At this time, the v2.11+ optimizer `tf.keras.optimizers.Adam` runs slowly on M1/M2 Macs, please use the legacy TF-Keras optimizer instead, located at `tf.keras.optimizers.legacy.Adam`.\n",
      "WARNING:absl:At this time, the v2.11+ optimizer `tf.keras.optimizers.Adam` runs slowly on M1/M2 Macs, please use the legacy TF-Keras optimizer instead, located at `tf.keras.optimizers.legacy.Adam`.\n",
      "WARNING:absl:At this time, the v2.11+ optimizer `tf.keras.optimizers.Adam` runs slowly on M1/M2 Macs, please use the legacy TF-Keras optimizer instead, located at `tf.keras.optimizers.legacy.Adam`.\n",
      "WARNING:absl:At this time, the v2.11+ optimizer `tf.keras.optimizers.Adam` runs slowly on M1/M2 Macs, please use the legacy TF-Keras optimizer instead, located at `tf.keras.optimizers.legacy.Adam`.\n",
      "WARNING:absl:At this time, the v2.11+ optimizer `tf.keras.optimizers.Adam` runs slowly on M1/M2 Macs, please use the legacy TF-Keras optimizer instead, located at `tf.keras.optimizers.legacy.Adam`.\n",
      "WARNING:absl:At this time, the v2.11+ optimizer `tf.keras.optimizers.Adam` runs slowly on M1/M2 Macs, please use the legacy TF-Keras optimizer instead, located at `tf.keras.optimizers.legacy.Adam`.\n",
      "WARNING:absl:At this time, the v2.11+ optimizer `tf.keras.optimizers.Adam` runs slowly on M1/M2 Macs, please use the legacy TF-Keras optimizer instead, located at `tf.keras.optimizers.legacy.Adam`.\n",
      "WARNING:absl:At this time, the v2.11+ optimizer `tf.keras.optimizers.Adam` runs slowly on M1/M2 Macs, please use the legacy TF-Keras optimizer instead, located at `tf.keras.optimizers.legacy.Adam`.\n",
      "WARNING:absl:At this time, the v2.11+ optimizer `tf.keras.optimizers.Adam` runs slowly on M1/M2 Macs, please use the legacy TF-Keras optimizer instead, located at `tf.keras.optimizers.legacy.Adam`.\n",
      "WARNING:absl:At this time, the v2.11+ optimizer `tf.keras.optimizers.Adam` runs slowly on M1/M2 Macs, please use the legacy TF-Keras optimizer instead, located at `tf.keras.optimizers.legacy.Adam`.\n",
      "WARNING:absl:At this time, the v2.11+ optimizer `tf.keras.optimizers.Adam` runs slowly on M1/M2 Macs, please use the legacy TF-Keras optimizer instead, located at `tf.keras.optimizers.legacy.Adam`.\n",
      "WARNING:absl:At this time, the v2.11+ optimizer `tf.keras.optimizers.Adam` runs slowly on M1/M2 Macs, please use the legacy TF-Keras optimizer instead, located at `tf.keras.optimizers.legacy.Adam`.\n",
      "WARNING:absl:At this time, the v2.11+ optimizer `tf.keras.optimizers.Adam` runs slowly on M1/M2 Macs, please use the legacy TF-Keras optimizer instead, located at `tf.keras.optimizers.legacy.Adam`.\n",
      "WARNING:absl:At this time, the v2.11+ optimizer `tf.keras.optimizers.Adam` runs slowly on M1/M2 Macs, please use the legacy TF-Keras optimizer instead, located at `tf.keras.optimizers.legacy.Adam`.\n",
      "WARNING:absl:At this time, the v2.11+ optimizer `tf.keras.optimizers.Adam` runs slowly on M1/M2 Macs, please use the legacy TF-Keras optimizer instead, located at `tf.keras.optimizers.legacy.Adam`.\n",
      "WARNING:absl:At this time, the v2.11+ optimizer `tf.keras.optimizers.Adam` runs slowly on M1/M2 Macs, please use the legacy TF-Keras optimizer instead, located at `tf.keras.optimizers.legacy.Adam`.\n",
      "WARNING:absl:At this time, the v2.11+ optimizer `tf.keras.optimizers.Adam` runs slowly on M1/M2 Macs, please use the legacy TF-Keras optimizer instead, located at `tf.keras.optimizers.legacy.Adam`.\n",
      "WARNING:absl:At this time, the v2.11+ optimizer `tf.keras.optimizers.Adam` runs slowly on M1/M2 Macs, please use the legacy TF-Keras optimizer instead, located at `tf.keras.optimizers.legacy.Adam`.\n",
      "WARNING:absl:At this time, the v2.11+ optimizer `tf.keras.optimizers.Adam` runs slowly on M1/M2 Macs, please use the legacy TF-Keras optimizer instead, located at `tf.keras.optimizers.legacy.Adam`.\n",
      "WARNING:absl:At this time, the v2.11+ optimizer `tf.keras.optimizers.Adam` runs slowly on M1/M2 Macs, please use the legacy TF-Keras optimizer instead, located at `tf.keras.optimizers.legacy.Adam`.\n",
      "WARNING:absl:At this time, the v2.11+ optimizer `tf.keras.optimizers.Adam` runs slowly on M1/M2 Macs, please use the legacy TF-Keras optimizer instead, located at `tf.keras.optimizers.legacy.Adam`.\n",
      "WARNING:absl:At this time, the v2.11+ optimizer `tf.keras.optimizers.Adam` runs slowly on M1/M2 Macs, please use the legacy TF-Keras optimizer instead, located at `tf.keras.optimizers.legacy.Adam`.\n",
      "WARNING:absl:At this time, the v2.11+ optimizer `tf.keras.optimizers.Adam` runs slowly on M1/M2 Macs, please use the legacy TF-Keras optimizer instead, located at `tf.keras.optimizers.legacy.Adam`.\n",
      "WARNING:absl:At this time, the v2.11+ optimizer `tf.keras.optimizers.Adam` runs slowly on M1/M2 Macs, please use the legacy TF-Keras optimizer instead, located at `tf.keras.optimizers.legacy.Adam`.\n",
      "WARNING:absl:At this time, the v2.11+ optimizer `tf.keras.optimizers.Adam` runs slowly on M1/M2 Macs, please use the legacy TF-Keras optimizer instead, located at `tf.keras.optimizers.legacy.Adam`.\n",
      "WARNING:absl:At this time, the v2.11+ optimizer `tf.keras.optimizers.Adam` runs slowly on M1/M2 Macs, please use the legacy TF-Keras optimizer instead, located at `tf.keras.optimizers.legacy.Adam`.\n",
      "WARNING:absl:At this time, the v2.11+ optimizer `tf.keras.optimizers.Adam` runs slowly on M1/M2 Macs, please use the legacy TF-Keras optimizer instead, located at `tf.keras.optimizers.legacy.Adam`.\n",
      "WARNING:absl:At this time, the v2.11+ optimizer `tf.keras.optimizers.Adam` runs slowly on M1/M2 Macs, please use the legacy TF-Keras optimizer instead, located at `tf.keras.optimizers.legacy.Adam`.\n",
      "WARNING:absl:At this time, the v2.11+ optimizer `tf.keras.optimizers.Adam` runs slowly on M1/M2 Macs, please use the legacy TF-Keras optimizer instead, located at `tf.keras.optimizers.legacy.Adam`.\n",
      "WARNING:absl:At this time, the v2.11+ optimizer `tf.keras.optimizers.Adam` runs slowly on M1/M2 Macs, please use the legacy TF-Keras optimizer instead, located at `tf.keras.optimizers.legacy.Adam`.\n",
      "WARNING:absl:At this time, the v2.11+ optimizer `tf.keras.optimizers.Adam` runs slowly on M1/M2 Macs, please use the legacy TF-Keras optimizer instead, located at `tf.keras.optimizers.legacy.Adam`.\n",
      "WARNING:absl:At this time, the v2.11+ optimizer `tf.keras.optimizers.Adam` runs slowly on M1/M2 Macs, please use the legacy TF-Keras optimizer instead, located at `tf.keras.optimizers.legacy.Adam`.\n",
      "WARNING:absl:At this time, the v2.11+ optimizer `tf.keras.optimizers.Adam` runs slowly on M1/M2 Macs, please use the legacy TF-Keras optimizer instead, located at `tf.keras.optimizers.legacy.Adam`.\n",
      "WARNING:absl:At this time, the v2.11+ optimizer `tf.keras.optimizers.Adam` runs slowly on M1/M2 Macs, please use the legacy TF-Keras optimizer instead, located at `tf.keras.optimizers.legacy.Adam`.\n",
      "WARNING:absl:At this time, the v2.11+ optimizer `tf.keras.optimizers.Adam` runs slowly on M1/M2 Macs, please use the legacy TF-Keras optimizer instead, located at `tf.keras.optimizers.legacy.Adam`.\n",
      "WARNING:absl:At this time, the v2.11+ optimizer `tf.keras.optimizers.Adam` runs slowly on M1/M2 Macs, please use the legacy TF-Keras optimizer instead, located at `tf.keras.optimizers.legacy.Adam`.\n",
      "WARNING:absl:At this time, the v2.11+ optimizer `tf.keras.optimizers.Adam` runs slowly on M1/M2 Macs, please use the legacy TF-Keras optimizer instead, located at `tf.keras.optimizers.legacy.Adam`.\n",
      "WARNING:absl:At this time, the v2.11+ optimizer `tf.keras.optimizers.Adam` runs slowly on M1/M2 Macs, please use the legacy TF-Keras optimizer instead, located at `tf.keras.optimizers.legacy.Adam`.\n",
      "WARNING:absl:At this time, the v2.11+ optimizer `tf.keras.optimizers.Adam` runs slowly on M1/M2 Macs, please use the legacy TF-Keras optimizer instead, located at `tf.keras.optimizers.legacy.Adam`.\n",
      "WARNING:absl:At this time, the v2.11+ optimizer `tf.keras.optimizers.Adam` runs slowly on M1/M2 Macs, please use the legacy TF-Keras optimizer instead, located at `tf.keras.optimizers.legacy.Adam`.\n",
      "WARNING:absl:At this time, the v2.11+ optimizer `tf.keras.optimizers.Adam` runs slowly on M1/M2 Macs, please use the legacy TF-Keras optimizer instead, located at `tf.keras.optimizers.legacy.Adam`.\n",
      "WARNING:absl:At this time, the v2.11+ optimizer `tf.keras.optimizers.Adam` runs slowly on M1/M2 Macs, please use the legacy TF-Keras optimizer instead, located at `tf.keras.optimizers.legacy.Adam`.\n",
      "WARNING:absl:At this time, the v2.11+ optimizer `tf.keras.optimizers.Adam` runs slowly on M1/M2 Macs, please use the legacy TF-Keras optimizer instead, located at `tf.keras.optimizers.legacy.Adam`.\n",
      "WARNING:absl:At this time, the v2.11+ optimizer `tf.keras.optimizers.Adam` runs slowly on M1/M2 Macs, please use the legacy TF-Keras optimizer instead, located at `tf.keras.optimizers.legacy.Adam`.\n",
      "WARNING:absl:At this time, the v2.11+ optimizer `tf.keras.optimizers.Adam` runs slowly on M1/M2 Macs, please use the legacy TF-Keras optimizer instead, located at `tf.keras.optimizers.legacy.Adam`.\n",
      "WARNING:absl:At this time, the v2.11+ optimizer `tf.keras.optimizers.Adam` runs slowly on M1/M2 Macs, please use the legacy TF-Keras optimizer instead, located at `tf.keras.optimizers.legacy.Adam`.\n",
      "WARNING:absl:At this time, the v2.11+ optimizer `tf.keras.optimizers.Adam` runs slowly on M1/M2 Macs, please use the legacy TF-Keras optimizer instead, located at `tf.keras.optimizers.legacy.Adam`.\n",
      "WARNING:absl:At this time, the v2.11+ optimizer `tf.keras.optimizers.Adam` runs slowly on M1/M2 Macs, please use the legacy TF-Keras optimizer instead, located at `tf.keras.optimizers.legacy.Adam`.\n",
      "WARNING:absl:At this time, the v2.11+ optimizer `tf.keras.optimizers.Adam` runs slowly on M1/M2 Macs, please use the legacy TF-Keras optimizer instead, located at `tf.keras.optimizers.legacy.Adam`.\n",
      "WARNING:absl:At this time, the v2.11+ optimizer `tf.keras.optimizers.Adam` runs slowly on M1/M2 Macs, please use the legacy TF-Keras optimizer instead, located at `tf.keras.optimizers.legacy.Adam`.\n",
      "WARNING:absl:At this time, the v2.11+ optimizer `tf.keras.optimizers.Adam` runs slowly on M1/M2 Macs, please use the legacy TF-Keras optimizer instead, located at `tf.keras.optimizers.legacy.Adam`.\n",
      "WARNING:absl:At this time, the v2.11+ optimizer `tf.keras.optimizers.Adam` runs slowly on M1/M2 Macs, please use the legacy TF-Keras optimizer instead, located at `tf.keras.optimizers.legacy.Adam`.\n",
      "WARNING:absl:At this time, the v2.11+ optimizer `tf.keras.optimizers.Adam` runs slowly on M1/M2 Macs, please use the legacy TF-Keras optimizer instead, located at `tf.keras.optimizers.legacy.Adam`.\n",
      "WARNING:absl:At this time, the v2.11+ optimizer `tf.keras.optimizers.Adam` runs slowly on M1/M2 Macs, please use the legacy TF-Keras optimizer instead, located at `tf.keras.optimizers.legacy.Adam`.\n",
      "WARNING:absl:At this time, the v2.11+ optimizer `tf.keras.optimizers.Adam` runs slowly on M1/M2 Macs, please use the legacy TF-Keras optimizer instead, located at `tf.keras.optimizers.legacy.Adam`.\n",
      "WARNING:absl:At this time, the v2.11+ optimizer `tf.keras.optimizers.Adam` runs slowly on M1/M2 Macs, please use the legacy TF-Keras optimizer instead, located at `tf.keras.optimizers.legacy.Adam`.\n",
      "WARNING:absl:At this time, the v2.11+ optimizer `tf.keras.optimizers.Adam` runs slowly on M1/M2 Macs, please use the legacy TF-Keras optimizer instead, located at `tf.keras.optimizers.legacy.Adam`.\n",
      "WARNING:absl:At this time, the v2.11+ optimizer `tf.keras.optimizers.Adam` runs slowly on M1/M2 Macs, please use the legacy TF-Keras optimizer instead, located at `tf.keras.optimizers.legacy.Adam`.\n",
      "WARNING:absl:At this time, the v2.11+ optimizer `tf.keras.optimizers.Adam` runs slowly on M1/M2 Macs, please use the legacy TF-Keras optimizer instead, located at `tf.keras.optimizers.legacy.Adam`.\n",
      "WARNING:absl:At this time, the v2.11+ optimizer `tf.keras.optimizers.Adam` runs slowly on M1/M2 Macs, please use the legacy TF-Keras optimizer instead, located at `tf.keras.optimizers.legacy.Adam`.\n",
      "WARNING:absl:At this time, the v2.11+ optimizer `tf.keras.optimizers.Adam` runs slowly on M1/M2 Macs, please use the legacy TF-Keras optimizer instead, located at `tf.keras.optimizers.legacy.Adam`.\n",
      "WARNING:absl:At this time, the v2.11+ optimizer `tf.keras.optimizers.Adam` runs slowly on M1/M2 Macs, please use the legacy TF-Keras optimizer instead, located at `tf.keras.optimizers.legacy.Adam`.\n",
      "WARNING:absl:At this time, the v2.11+ optimizer `tf.keras.optimizers.Adam` runs slowly on M1/M2 Macs, please use the legacy TF-Keras optimizer instead, located at `tf.keras.optimizers.legacy.Adam`.\n",
      "WARNING:absl:At this time, the v2.11+ optimizer `tf.keras.optimizers.Adam` runs slowly on M1/M2 Macs, please use the legacy TF-Keras optimizer instead, located at `tf.keras.optimizers.legacy.Adam`.\n",
      "WARNING:absl:At this time, the v2.11+ optimizer `tf.keras.optimizers.Adam` runs slowly on M1/M2 Macs, please use the legacy TF-Keras optimizer instead, located at `tf.keras.optimizers.legacy.Adam`.\n",
      "WARNING:absl:At this time, the v2.11+ optimizer `tf.keras.optimizers.Adam` runs slowly on M1/M2 Macs, please use the legacy TF-Keras optimizer instead, located at `tf.keras.optimizers.legacy.Adam`.\n",
      "WARNING:absl:At this time, the v2.11+ optimizer `tf.keras.optimizers.Adam` runs slowly on M1/M2 Macs, please use the legacy TF-Keras optimizer instead, located at `tf.keras.optimizers.legacy.Adam`.\n",
      "WARNING:absl:At this time, the v2.11+ optimizer `tf.keras.optimizers.Adam` runs slowly on M1/M2 Macs, please use the legacy TF-Keras optimizer instead, located at `tf.keras.optimizers.legacy.Adam`.\n"
     ]
    },
    {
     "name": "stdout",
     "output_type": "stream",
     "text": [
      "1.7317944081503567\n"
     ]
    }
   ],
   "source": [
    "rmse, y_preds_mean, y_preds_lower, y_preds_upper, y_trues = evaluate_BNN_pretrained(data.values, bnn_us, initial_window=54, n_samples=100, learning_rate=1e-2)\n",
    "print(rmse)"
   ]
  },
  {
   "cell_type": "code",
   "execution_count": 321,
   "id": "2eaa611b",
   "metadata": {},
   "outputs": [
    {
     "name": "stdout",
     "output_type": "stream",
     "text": [
      "RMSE: 1.732\n"
     ]
    }
   ],
   "source": [
    "print(f\"RMSE: {rmse:.3f}\")\n",
    "results_df = pd.DataFrame({\n",
    "    \"date\": data.index[-len(y_trues):],\n",
    "    \"true\": y_trues,\n",
    "    \"pred_mean\": y_preds_mean,\n",
    "    \"CI_lower\": y_preds_lower,\n",
    "    \"CI_upper\": y_preds_upper,\n",
    "})\n",
    "results_df.to_csv(\"./Data/results/BNN_IT_results_Pre.csv\", index=False)"
   ]
  },
  {
   "cell_type": "markdown",
   "id": "ee7eea84",
   "metadata": {},
   "source": [
    "### Auswertung mit Gradient Boosting"
   ]
  },
  {
   "cell_type": "code",
   "execution_count": 177,
   "id": "1bfa5202",
   "metadata": {},
   "outputs": [],
   "source": [
    "def evaluate_GB_forecaster(data, initial_window=54, window_length =5, n_estimators=200, learning_rate = 0.1, max_depth= 4, subsample =0.8):\n",
    "    # Ziel und Prädiktoren trennen\n",
    "    y_all = data[\"GDP\"]\n",
    "    X_all = data.drop(columns=[\"GDP\"])\n",
    "    # Expanding Window Splitter definieren\n",
    "    splitter = ExpandingWindowSplitter(\n",
    "        initial_window=initial_window, # Erstes Trainingsfenster\n",
    "        fh=1,   # Forecast horizon (1 Zeitschritt in die Zukunft)\n",
    "        step_length=1 # Schrittweite für das Fenster\n",
    "    )\n",
    "\n",
    "    # Regressionsmodell einbinden (Gradient Boosting mit Lag-Features)\n",
    "    forecaster = make_reduction(\n",
    "        GradientBoostingRegressor(n_estimators=n_estimators, learning_rate=learning_rate, max_depth=max_depth, subsample=subsample),\n",
    "        strategy=\"direct\",\n",
    "        window_length=window_length,\n",
    "        scitype=\"tabular-regressor\"\n",
    "    )\n",
    "\n",
    "    y_preds = []\n",
    "    y_trues = []\n",
    "\n",
    "\n",
    "    for train_idx, test_idx in splitter.split(y_all):\n",
    "        y_train = y_all.iloc[train_idx]\n",
    "        X_train = X_all.iloc[train_idx]\n",
    "        y_test = y_all.iloc[test_idx]\n",
    "        X_test = X_all.iloc[test_idx]\n",
    "\n",
    "        fh_relative = ForecastingHorizon(test_idx - train_idx[-1], is_relative=True)\n",
    "\n",
    "        forecaster.fit(y_train, X=X_train, fh=1)\n",
    "        y_pred = forecaster.predict(fh=fh_relative, X=X_test)\n",
    "\n",
    "        y_preds.extend(y_pred.values)\n",
    "        y_trues.extend(y_test.values)\n",
    "\n",
    "\n",
    "    rmse = np.sqrt(mean_squared_error(y_trues, y_preds))\n",
    "    return rmse, y_preds, y_trues\n",
    "    \n"
   ]
  },
  {
   "cell_type": "code",
   "execution_count": 178,
   "id": "1efda849",
   "metadata": {},
   "outputs": [
    {
     "name": "stdout",
     "output_type": "stream",
     "text": [
      "Best parameter combination: window_length=3.0, n_estimators=100.0, learning_rate=0.01, subsample = 3.0, max_depth = 3.0, RMSE=1.0000\n"
     ]
    },
    {
     "name": "stderr",
     "output_type": "stream",
     "text": [
      "/var/folders/01/0kkk3sm55p5_dtxnk5www9r00000gn/T/ipykernel_41382/1039090733.py:3: FutureWarning: Series.__getitem__ treating keys as positions is deprecated. In a future version, integer keys will always be treated as labels (consistent with DataFrame behavior). To access a value by position, use `ser.iloc[pos]`\n",
      "  print(f\"Best parameter combination: window_length={best_params[0]}, n_estimators={best_params[1]}, learning_rate={best_params[2]}, subsample = {best_params[3]}, max_depth = {best_params[3]}, RMSE={best_params[4]:.4f}\")\n"
     ]
    }
   ],
   "source": [
    "results = pd.read_csv(\"./Data/results_GB.csv\")\n",
    "best_params  = results.loc[results['rmse'].idxmin()]\n",
    "print(f\"Best parameter combination: window_length={best_params[0]}, n_estimators={best_params[1]}, learning_rate={best_params[2]}, subsample = {best_params[3]}, max_depth = {best_params[3]}, RMSE={best_params[4]:.4f}\")"
   ]
  },
  {
   "cell_type": "markdown",
   "id": "19af26da",
   "metadata": {},
   "source": [
    "Für die ganze EU"
   ]
  },
  {
   "cell_type": "code",
   "execution_count": 179,
   "id": "65ad6b73",
   "metadata": {},
   "outputs": [
    {
     "name": "stderr",
     "output_type": "stream",
     "text": [
      "/var/folders/01/0kkk3sm55p5_dtxnk5www9r00000gn/T/ipykernel_41382/3787626134.py:7: FutureWarning: Series.__getitem__ treating keys as positions is deprecated. In a future version, integer keys will always be treated as labels (consistent with DataFrame behavior). To access a value by position, use `ser.iloc[pos]`\n",
      "  window_length = int(best_params[0]),\n",
      "/var/folders/01/0kkk3sm55p5_dtxnk5www9r00000gn/T/ipykernel_41382/3787626134.py:8: FutureWarning: Series.__getitem__ treating keys as positions is deprecated. In a future version, integer keys will always be treated as labels (consistent with DataFrame behavior). To access a value by position, use `ser.iloc[pos]`\n",
      "  n_estimators = int(best_params[1]),\n",
      "/var/folders/01/0kkk3sm55p5_dtxnk5www9r00000gn/T/ipykernel_41382/3787626134.py:9: FutureWarning: Series.__getitem__ treating keys as positions is deprecated. In a future version, integer keys will always be treated as labels (consistent with DataFrame behavior). To access a value by position, use `ser.iloc[pos]`\n",
      "  learning_rate = float(best_params[2]),\n",
      "/var/folders/01/0kkk3sm55p5_dtxnk5www9r00000gn/T/ipykernel_41382/3787626134.py:10: FutureWarning: Series.__getitem__ treating keys as positions is deprecated. In a future version, integer keys will always be treated as labels (consistent with DataFrame behavior). To access a value by position, use `ser.iloc[pos]`\n",
      "  max_depth = int(best_params[3]),\n",
      "/var/folders/01/0kkk3sm55p5_dtxnk5www9r00000gn/T/ipykernel_41382/3787626134.py:11: FutureWarning: Series.__getitem__ treating keys as positions is deprecated. In a future version, integer keys will always be treated as labels (consistent with DataFrame behavior). To access a value by position, use `ser.iloc[pos]`\n",
      "  subsample = float(best_params[4]))\n"
     ]
    },
    {
     "name": "stdout",
     "output_type": "stream",
     "text": [
      "RMSE (for the test set): 1.6047\n"
     ]
    }
   ],
   "source": [
    "data = df_q_EU[cols_to_standardize].dropna()\n",
    "data.index.freq = pd.infer_freq(data.index)\n",
    "\n",
    "rmse, y_preds, y_trues  = evaluate_GB_forecaster(\n",
    "        data,\n",
    "        initial_window = 54,  ## need to be 150 \n",
    "        window_length = int(best_params[0]), \n",
    "        n_estimators = int(best_params[1]), \n",
    "        learning_rate = float(best_params[2]), \n",
    "        max_depth = int(best_params[3]), \n",
    "        subsample = float(best_params[4]))\n",
    "\n",
    "print(f\"RMSE (for the test set): {rmse:.4f}\")"
   ]
  },
  {
   "cell_type": "markdown",
   "id": "43d2c3da",
   "metadata": {},
   "source": [
    "Für Deutschland"
   ]
  },
  {
   "cell_type": "code",
   "execution_count": 180,
   "id": "b19fcf75",
   "metadata": {},
   "outputs": [
    {
     "name": "stderr",
     "output_type": "stream",
     "text": [
      "/var/folders/01/0kkk3sm55p5_dtxnk5www9r00000gn/T/ipykernel_41382/1402251547.py:7: FutureWarning: Series.__getitem__ treating keys as positions is deprecated. In a future version, integer keys will always be treated as labels (consistent with DataFrame behavior). To access a value by position, use `ser.iloc[pos]`\n",
      "  window_length = int(best_params[0]),\n",
      "/var/folders/01/0kkk3sm55p5_dtxnk5www9r00000gn/T/ipykernel_41382/1402251547.py:8: FutureWarning: Series.__getitem__ treating keys as positions is deprecated. In a future version, integer keys will always be treated as labels (consistent with DataFrame behavior). To access a value by position, use `ser.iloc[pos]`\n",
      "  n_estimators = int(best_params[1]),\n",
      "/var/folders/01/0kkk3sm55p5_dtxnk5www9r00000gn/T/ipykernel_41382/1402251547.py:9: FutureWarning: Series.__getitem__ treating keys as positions is deprecated. In a future version, integer keys will always be treated as labels (consistent with DataFrame behavior). To access a value by position, use `ser.iloc[pos]`\n",
      "  learning_rate = float(best_params[2]),\n",
      "/var/folders/01/0kkk3sm55p5_dtxnk5www9r00000gn/T/ipykernel_41382/1402251547.py:10: FutureWarning: Series.__getitem__ treating keys as positions is deprecated. In a future version, integer keys will always be treated as labels (consistent with DataFrame behavior). To access a value by position, use `ser.iloc[pos]`\n",
      "  max_depth = int(best_params[3]),\n",
      "/var/folders/01/0kkk3sm55p5_dtxnk5www9r00000gn/T/ipykernel_41382/1402251547.py:11: FutureWarning: Series.__getitem__ treating keys as positions is deprecated. In a future version, integer keys will always be treated as labels (consistent with DataFrame behavior). To access a value by position, use `ser.iloc[pos]`\n",
      "  subsample = float(best_params[4]))\n"
     ]
    },
    {
     "name": "stdout",
     "output_type": "stream",
     "text": [
      "RMSE (for the test set): 1.5055\n"
     ]
    }
   ],
   "source": [
    "data = df_q_DE[cols_to_standardize].dropna()\n",
    "data.index.freq = pd.infer_freq(data.index)\n",
    "\n",
    "rmse, y_preds, y_trues  = evaluate_GB_forecaster(\n",
    "        data,\n",
    "        initial_window = 54,  ## need to be 150 \n",
    "        window_length = int(best_params[0]), \n",
    "        n_estimators = int(best_params[1]), \n",
    "        learning_rate = float(best_params[2]), \n",
    "        max_depth = int(best_params[3]), \n",
    "        subsample = float(best_params[4]))\n",
    "\n",
    "print(f\"RMSE (for the test set): {rmse:.4f}\")"
   ]
  },
  {
   "cell_type": "markdown",
   "id": "84e1d5be",
   "metadata": {},
   "source": [
    "Für Frankreich"
   ]
  },
  {
   "cell_type": "code",
   "execution_count": 181,
   "id": "15b7dca1",
   "metadata": {},
   "outputs": [
    {
     "name": "stderr",
     "output_type": "stream",
     "text": [
      "/var/folders/01/0kkk3sm55p5_dtxnk5www9r00000gn/T/ipykernel_41382/4255477406.py:7: FutureWarning: Series.__getitem__ treating keys as positions is deprecated. In a future version, integer keys will always be treated as labels (consistent with DataFrame behavior). To access a value by position, use `ser.iloc[pos]`\n",
      "  window_length = int(best_params[0]),\n",
      "/var/folders/01/0kkk3sm55p5_dtxnk5www9r00000gn/T/ipykernel_41382/4255477406.py:8: FutureWarning: Series.__getitem__ treating keys as positions is deprecated. In a future version, integer keys will always be treated as labels (consistent with DataFrame behavior). To access a value by position, use `ser.iloc[pos]`\n",
      "  n_estimators = int(best_params[1]),\n",
      "/var/folders/01/0kkk3sm55p5_dtxnk5www9r00000gn/T/ipykernel_41382/4255477406.py:9: FutureWarning: Series.__getitem__ treating keys as positions is deprecated. In a future version, integer keys will always be treated as labels (consistent with DataFrame behavior). To access a value by position, use `ser.iloc[pos]`\n",
      "  learning_rate = float(best_params[2]),\n",
      "/var/folders/01/0kkk3sm55p5_dtxnk5www9r00000gn/T/ipykernel_41382/4255477406.py:10: FutureWarning: Series.__getitem__ treating keys as positions is deprecated. In a future version, integer keys will always be treated as labels (consistent with DataFrame behavior). To access a value by position, use `ser.iloc[pos]`\n",
      "  max_depth = int(best_params[3]),\n",
      "/var/folders/01/0kkk3sm55p5_dtxnk5www9r00000gn/T/ipykernel_41382/4255477406.py:11: FutureWarning: Series.__getitem__ treating keys as positions is deprecated. In a future version, integer keys will always be treated as labels (consistent with DataFrame behavior). To access a value by position, use `ser.iloc[pos]`\n",
      "  subsample = float(best_params[4]))\n"
     ]
    },
    {
     "name": "stdout",
     "output_type": "stream",
     "text": [
      "RMSE (for the test set): 1.6742\n"
     ]
    }
   ],
   "source": [
    "data = df_q_FR[cols_to_standardize].dropna()\n",
    "data.index.freq = pd.infer_freq(data.index)\n",
    "\n",
    "rmse, y_preds, y_trues  = evaluate_GB_forecaster(\n",
    "        data,\n",
    "        initial_window = 54,  ## need to be 150 \n",
    "        window_length = int(best_params[0]), \n",
    "        n_estimators = int(best_params[1]), \n",
    "        learning_rate = float(best_params[2]), \n",
    "        max_depth = int(best_params[3]), \n",
    "        subsample = float(best_params[4]))\n",
    "\n",
    "print(f\"RMSE (for the test set): {rmse:.4f}\")"
   ]
  },
  {
   "cell_type": "markdown",
   "id": "e175c70c",
   "metadata": {},
   "source": [
    "Für Italien"
   ]
  },
  {
   "cell_type": "code",
   "execution_count": 182,
   "id": "b5b2524a",
   "metadata": {},
   "outputs": [
    {
     "name": "stderr",
     "output_type": "stream",
     "text": [
      "/var/folders/01/0kkk3sm55p5_dtxnk5www9r00000gn/T/ipykernel_41382/119437263.py:7: FutureWarning: Series.__getitem__ treating keys as positions is deprecated. In a future version, integer keys will always be treated as labels (consistent with DataFrame behavior). To access a value by position, use `ser.iloc[pos]`\n",
      "  window_length = int(best_params[0]),\n",
      "/var/folders/01/0kkk3sm55p5_dtxnk5www9r00000gn/T/ipykernel_41382/119437263.py:8: FutureWarning: Series.__getitem__ treating keys as positions is deprecated. In a future version, integer keys will always be treated as labels (consistent with DataFrame behavior). To access a value by position, use `ser.iloc[pos]`\n",
      "  n_estimators = int(best_params[1]),\n",
      "/var/folders/01/0kkk3sm55p5_dtxnk5www9r00000gn/T/ipykernel_41382/119437263.py:9: FutureWarning: Series.__getitem__ treating keys as positions is deprecated. In a future version, integer keys will always be treated as labels (consistent with DataFrame behavior). To access a value by position, use `ser.iloc[pos]`\n",
      "  learning_rate = float(best_params[2]),\n",
      "/var/folders/01/0kkk3sm55p5_dtxnk5www9r00000gn/T/ipykernel_41382/119437263.py:10: FutureWarning: Series.__getitem__ treating keys as positions is deprecated. In a future version, integer keys will always be treated as labels (consistent with DataFrame behavior). To access a value by position, use `ser.iloc[pos]`\n",
      "  max_depth = int(best_params[3]),\n",
      "/var/folders/01/0kkk3sm55p5_dtxnk5www9r00000gn/T/ipykernel_41382/119437263.py:11: FutureWarning: Series.__getitem__ treating keys as positions is deprecated. In a future version, integer keys will always be treated as labels (consistent with DataFrame behavior). To access a value by position, use `ser.iloc[pos]`\n",
      "  subsample = float(best_params[4]))\n"
     ]
    },
    {
     "name": "stdout",
     "output_type": "stream",
     "text": [
      "RMSE (for the test set): 1.6392\n"
     ]
    }
   ],
   "source": [
    "data = df_q_IT[cols_to_standardize].dropna()\n",
    "data.index.freq = pd.infer_freq(data.index)\n",
    "\n",
    "rmse, y_preds, y_trues  = evaluate_GB_forecaster(\n",
    "        data,\n",
    "        initial_window = 54,  ## need to be 150 \n",
    "        window_length = int(best_params[0]), \n",
    "        n_estimators = int(best_params[1]), \n",
    "        learning_rate = float(best_params[2]), \n",
    "        max_depth = int(best_params[3]), \n",
    "        subsample = float(best_params[4]))\n",
    "\n",
    "print(f\"RMSE (for the test set): {rmse:.4f}\")"
   ]
  },
  {
   "cell_type": "markdown",
   "id": "3feabb4e",
   "metadata": {},
   "source": [
    "### Für Random Forest"
   ]
  },
  {
   "cell_type": "code",
   "execution_count": null,
   "id": "e034b2d7",
   "metadata": {},
   "outputs": [],
   "source": [
    "def evaluate_RF_forecaster(y_all, X_all, n_estimators=100, window_length=2, initial_window= 54):\n",
    "    # Expanding Window Splitter definieren\n",
    "    splitter = ExpandingWindowSplitter(\n",
    "        initial_window=initial_window, # Erstes Trainingsfenster\n",
    "        fh=1,   # Forecast horizon (1 Zeitschritt in die Zukunft)\n",
    "        step_length=1 # Schrittweite für das Fenster\n",
    "    )\n",
    "\n",
    "    # Regressionsmodell einbinden (Random Forest mit Lag-Features)\n",
    "    forecaster = make_reduction(\n",
    "        RandomForestRegressor(n_estimators=n_estimators, max_depth=None, random_state=42),\n",
    "        strategy=\"direct\",\n",
    "        window_length=window_length,\n",
    "        scitype=\"tabular-regressor\"\n",
    "    )\n",
    "\n",
    "    # Forecasting Loop\n",
    "    y_preds = []\n",
    "    y_trues = []\n",
    "\n",
    "\n",
    "    for train_idx, test_idx in splitter.split(y_all):\n",
    "        y_train = y_all.iloc[train_idx]\n",
    "        X_train = X_all.iloc[train_idx]\n",
    "        y_test = y_all.iloc[test_idx]\n",
    "        X_test = X_all.iloc[test_idx]\n",
    "\n",
    "        fh_relative = ForecastingHorizon(test_idx - train_idx[-1], is_relative=True)\n",
    "\n",
    "        forecaster.fit(y_train, X=X_train, fh=1)\n",
    "        y_pred = forecaster.predict(fh=fh_relative, X=X_test)\n",
    "\n",
    "        y_preds.extend(y_pred.values)\n",
    "        y_trues.extend(y_test.values)\n",
    "    # RMSE berechnen\n",
    "    rmse = np.sqrt(mean_squared_error(y_trues, y_preds))\n",
    "    return rmse, y_preds, y_trues\n",
    "\n"
   ]
  },
  {
   "cell_type": "code",
   "execution_count": 328,
   "id": "40242a36",
   "metadata": {},
   "outputs": [
    {
     "name": "stdout",
     "output_type": "stream",
     "text": [
      "Best parameter combination:  window_length=3.0, n_estimators=200.0, RMSE: 0.459\n"
     ]
    },
    {
     "name": "stderr",
     "output_type": "stream",
     "text": [
      "/var/folders/01/0kkk3sm55p5_dtxnk5www9r00000gn/T/ipykernel_41382/2249902491.py:3: FutureWarning: Series.__getitem__ treating keys as positions is deprecated. In a future version, integer keys will always be treated as labels (consistent with DataFrame behavior). To access a value by position, use `ser.iloc[pos]`\n",
      "  print(f\"Best parameter combination:  window_length={best_params[0]}, n_estimators={best_params[1]}, RMSE: {best_params[2]:.3f}\")\n"
     ]
    }
   ],
   "source": [
    "results = pd.read_csv(\"./Data/results_RF.csv\")\n",
    "best_params  = results.loc[results['rmse'].idxmin()]\n",
    "print(f\"Best parameter combination:  window_length={best_params[0]}, n_estimators={best_params[1]}, RMSE: {best_params[2]:.3f}\")\n"
   ]
  },
  {
   "cell_type": "code",
   "execution_count": 329,
   "id": "53bd253f",
   "metadata": {},
   "outputs": [],
   "source": [
    "data = df_q_EU[cols_to_standardize].dropna()\n",
    "# Ziel und Prädiktoren trennen\n",
    "y_all = data[\"GDP\"]\n",
    "X_all = data.drop(columns=[\"GDP\"])"
   ]
  },
  {
   "cell_type": "code",
   "execution_count": 330,
   "id": "e74342d4",
   "metadata": {},
   "outputs": [
    {
     "name": "stderr",
     "output_type": "stream",
     "text": [
      "/var/folders/01/0kkk3sm55p5_dtxnk5www9r00000gn/T/ipykernel_41382/1570748545.py:5: FutureWarning: Series.__getitem__ treating keys as positions is deprecated. In a future version, integer keys will always be treated as labels (consistent with DataFrame behavior). To access a value by position, use `ser.iloc[pos]`\n",
      "  window_length = int(best_params[0]),\n",
      "/var/folders/01/0kkk3sm55p5_dtxnk5www9r00000gn/T/ipykernel_41382/1570748545.py:6: FutureWarning: Series.__getitem__ treating keys as positions is deprecated. In a future version, integer keys will always be treated as labels (consistent with DataFrame behavior). To access a value by position, use `ser.iloc[pos]`\n",
      "  n_estimators =  int(best_params[1]))\n"
     ]
    },
    {
     "name": "stdout",
     "output_type": "stream",
     "text": [
      "RMSE (for the test set): 1.6220\n"
     ]
    }
   ],
   "source": [
    "rmse, y_preds, y_trues = evaluate_RF_forecaster(\n",
    "        y_all = y_all, \n",
    "        X_all = X_all, \n",
    "        initial_window = 54,  \n",
    "        window_length = int(best_params[0]), \n",
    "        n_estimators =  int(best_params[1]))\n",
    "\n",
    "# Calculate RMSE using only data from index 151 onward\n",
    "print(f\"RMSE (for the test set): {rmse:.4f}\")"
   ]
  },
  {
   "cell_type": "markdown",
   "id": "08673172",
   "metadata": {},
   "source": [
    "Deutschland"
   ]
  },
  {
   "cell_type": "code",
   "execution_count": 331,
   "id": "9915b2eb",
   "metadata": {},
   "outputs": [],
   "source": [
    "data = df_q_DE[cols_to_standardize].dropna()\n",
    "# Ziel und Prädiktoren trennen\n",
    "y_all = data[\"GDP\"]\n",
    "X_all = data.drop(columns=[\"GDP\"])"
   ]
  },
  {
   "cell_type": "code",
   "execution_count": 332,
   "id": "16c4e356",
   "metadata": {},
   "outputs": [
    {
     "name": "stderr",
     "output_type": "stream",
     "text": [
      "/var/folders/01/0kkk3sm55p5_dtxnk5www9r00000gn/T/ipykernel_41382/1570748545.py:5: FutureWarning: Series.__getitem__ treating keys as positions is deprecated. In a future version, integer keys will always be treated as labels (consistent with DataFrame behavior). To access a value by position, use `ser.iloc[pos]`\n",
      "  window_length = int(best_params[0]),\n",
      "/var/folders/01/0kkk3sm55p5_dtxnk5www9r00000gn/T/ipykernel_41382/1570748545.py:6: FutureWarning: Series.__getitem__ treating keys as positions is deprecated. In a future version, integer keys will always be treated as labels (consistent with DataFrame behavior). To access a value by position, use `ser.iloc[pos]`\n",
      "  n_estimators =  int(best_params[1]))\n"
     ]
    },
    {
     "name": "stdout",
     "output_type": "stream",
     "text": [
      "RMSE (for the test set): 1.5100\n"
     ]
    }
   ],
   "source": [
    "rmse, y_preds, y_trues = evaluate_RF_forecaster(\n",
    "        y_all = y_all, \n",
    "        X_all = X_all, \n",
    "        initial_window = 54,  \n",
    "        window_length = int(best_params[0]), \n",
    "        n_estimators =  int(best_params[1]))\n",
    "\n",
    "# Calculate RMSE using only data from index 151 onward\n",
    "print(f\"RMSE (for the test set): {rmse:.4f}\")"
   ]
  },
  {
   "cell_type": "markdown",
   "id": "78ea3f40",
   "metadata": {},
   "source": [
    "Frankreich"
   ]
  },
  {
   "cell_type": "code",
   "execution_count": 334,
   "id": "fc430cea",
   "metadata": {},
   "outputs": [],
   "source": [
    "data = df_q_FR[cols_to_standardize].dropna()\n",
    "# Ziel und Prädiktoren trennen\n",
    "y_all = data[\"GDP\"]\n",
    "X_all = data.drop(columns=[\"GDP\"])"
   ]
  },
  {
   "cell_type": "code",
   "execution_count": 335,
   "id": "de46b252",
   "metadata": {},
   "outputs": [
    {
     "name": "stderr",
     "output_type": "stream",
     "text": [
      "/var/folders/01/0kkk3sm55p5_dtxnk5www9r00000gn/T/ipykernel_41382/1570748545.py:5: FutureWarning: Series.__getitem__ treating keys as positions is deprecated. In a future version, integer keys will always be treated as labels (consistent with DataFrame behavior). To access a value by position, use `ser.iloc[pos]`\n",
      "  window_length = int(best_params[0]),\n",
      "/var/folders/01/0kkk3sm55p5_dtxnk5www9r00000gn/T/ipykernel_41382/1570748545.py:6: FutureWarning: Series.__getitem__ treating keys as positions is deprecated. In a future version, integer keys will always be treated as labels (consistent with DataFrame behavior). To access a value by position, use `ser.iloc[pos]`\n",
      "  n_estimators =  int(best_params[1]))\n"
     ]
    },
    {
     "name": "stdout",
     "output_type": "stream",
     "text": [
      "RMSE (for the test set): 1.6341\n"
     ]
    }
   ],
   "source": [
    "rmse, y_preds, y_trues = evaluate_RF_forecaster(\n",
    "        y_all = y_all, \n",
    "        X_all = X_all, \n",
    "        initial_window = 54,  \n",
    "        window_length = int(best_params[0]), \n",
    "        n_estimators =  int(best_params[1]))\n",
    "\n",
    "# Calculate RMSE using only data from index 151 onward\n",
    "print(f\"RMSE (for the test set): {rmse:.4f}\")"
   ]
  },
  {
   "cell_type": "markdown",
   "id": "f2e6e1a8",
   "metadata": {},
   "source": [
    "Italien"
   ]
  },
  {
   "cell_type": "code",
   "execution_count": 336,
   "id": "e078d148",
   "metadata": {},
   "outputs": [],
   "source": [
    "data = df_q_IT[cols_to_standardize].dropna()\n",
    "# Ziel und Prädiktoren trennen\n",
    "y_all = data[\"GDP\"]\n",
    "X_all = data.drop(columns=[\"GDP\"])"
   ]
  },
  {
   "cell_type": "code",
   "execution_count": 337,
   "id": "57b33530",
   "metadata": {},
   "outputs": [
    {
     "name": "stderr",
     "output_type": "stream",
     "text": [
      "/var/folders/01/0kkk3sm55p5_dtxnk5www9r00000gn/T/ipykernel_41382/1570748545.py:5: FutureWarning: Series.__getitem__ treating keys as positions is deprecated. In a future version, integer keys will always be treated as labels (consistent with DataFrame behavior). To access a value by position, use `ser.iloc[pos]`\n",
      "  window_length = int(best_params[0]),\n",
      "/var/folders/01/0kkk3sm55p5_dtxnk5www9r00000gn/T/ipykernel_41382/1570748545.py:6: FutureWarning: Series.__getitem__ treating keys as positions is deprecated. In a future version, integer keys will always be treated as labels (consistent with DataFrame behavior). To access a value by position, use `ser.iloc[pos]`\n",
      "  n_estimators =  int(best_params[1]))\n"
     ]
    },
    {
     "name": "stdout",
     "output_type": "stream",
     "text": [
      "RMSE (for the test set): 1.5975\n"
     ]
    }
   ],
   "source": [
    "rmse, y_preds, y_trues = evaluate_RF_forecaster(\n",
    "        y_all = y_all, \n",
    "        X_all = X_all, \n",
    "        initial_window = 54,  \n",
    "        window_length = int(best_params[0]), \n",
    "        n_estimators =  int(best_params[1]))\n",
    "\n",
    "# Calculate RMSE using only data from index 151 onward\n",
    "print(f\"RMSE (for the test set): {rmse:.4f}\")"
   ]
  },
  {
   "cell_type": "markdown",
   "id": "ca5a1487",
   "metadata": {},
   "source": [
    "### Für LSTM"
   ]
  },
  {
   "cell_type": "code",
   "execution_count": null,
   "id": "28c09088",
   "metadata": {},
   "outputs": [],
   "source": [
    "def evaluate_LSTM_forecaster(data_scaled, window_length=5, hidden_layer_sizes=32, initial_window=54):\n",
    "\n",
    "    n_total = len(data_scaled)\n",
    "\n",
    "    y_preds = []\n",
    "    y_trues = []\n",
    "\n",
    "    for i in range(initial_window, n_total - 1):\n",
    "        # Take data up to time i\n",
    "        train_data = data_scaled[:i]\n",
    "\n",
    "        # Create sequences\n",
    "        X_train, y_train = [], []\n",
    "        for j in range(window_length, len(train_data)):\n",
    "            X_train.append(train_data[j - window_length:j])\n",
    "            y_train.append(train_data[j, 0])  # Zielvariable (GDPC1) \n",
    "\n",
    "        X_train = np.array(X_train)\n",
    "        y_train = np.array(y_train)\n",
    "\n",
    "        # Define LSTM model\n",
    "        model = Sequential()\n",
    "        model.add(Input(shape=(X_train.shape[1], X_train.shape[2])))\n",
    "        model.add(LSTM(hidden_layer_sizes))\n",
    "        model.add(Dense(1))\n",
    "        model.compile(optimizer=Adam(learning_rate=0.01), loss='mse')\n",
    "\n",
    "        # Train model\n",
    "        model.fit(X_train, y_train, epochs=10, batch_size=16, verbose=0)\n",
    "\n",
    "        # Predict next time step (i)\n",
    "        x_input = data_scaled[i - window_length:i].reshape(1, window_length, data_scaled.shape[1])\n",
    "        y_pred_scaled = model.predict(x_input, verbose=0)[0, 0]\n",
    "\n",
    "        y_preds.append(y_pred_scaled)\n",
    "\n",
    "        # True Value\n",
    "        y_true_transformed = data_scaled[i, 0]  # GDPC1\n",
    "        y_trues.append(y_true_transformed)\n",
    "    rmse = np.sqrt(mean_squared_error(y_trues, y_preds))\n",
    "    return rmse, y_preds, y_trues"
   ]
  },
  {
   "cell_type": "markdown",
   "id": "72959311",
   "metadata": {},
   "source": [
    "EU"
   ]
  },
  {
   "cell_type": "code",
   "execution_count": 340,
   "id": "e0f40732",
   "metadata": {},
   "outputs": [
    {
     "name": "stderr",
     "output_type": "stream",
     "text": [
      "WARNING:absl:At this time, the v2.11+ optimizer `tf.keras.optimizers.Adam` runs slowly on M1/M2 Macs, please use the legacy TF-Keras optimizer instead, located at `tf.keras.optimizers.legacy.Adam`.\n",
      "WARNING:absl:At this time, the v2.11+ optimizer `tf.keras.optimizers.Adam` runs slowly on M1/M2 Macs, please use the legacy TF-Keras optimizer instead, located at `tf.keras.optimizers.legacy.Adam`.\n",
      "WARNING:absl:At this time, the v2.11+ optimizer `tf.keras.optimizers.Adam` runs slowly on M1/M2 Macs, please use the legacy TF-Keras optimizer instead, located at `tf.keras.optimizers.legacy.Adam`.\n",
      "WARNING:absl:At this time, the v2.11+ optimizer `tf.keras.optimizers.Adam` runs slowly on M1/M2 Macs, please use the legacy TF-Keras optimizer instead, located at `tf.keras.optimizers.legacy.Adam`.\n",
      "WARNING:absl:At this time, the v2.11+ optimizer `tf.keras.optimizers.Adam` runs slowly on M1/M2 Macs, please use the legacy TF-Keras optimizer instead, located at `tf.keras.optimizers.legacy.Adam`.\n"
     ]
    },
    {
     "name": "stdout",
     "output_type": "stream",
     "text": [
      "WARNING:tensorflow:5 out of the last 5 calls to <function Model.make_predict_function.<locals>.predict_function at 0x4c93d96c0> triggered tf.function retracing. Tracing is expensive and the excessive number of tracings could be due to (1) creating @tf.function repeatedly in a loop, (2) passing tensors with different shapes, (3) passing Python objects instead of tensors. For (1), please define your @tf.function outside of the loop. For (2), @tf.function has reduce_retracing=True option that can avoid unnecessary retracing. For (3), please refer to https://www.tensorflow.org/guide/function#controlling_retracing and https://www.tensorflow.org/api_docs/python/tf/function for  more details.\n"
     ]
    },
    {
     "name": "stderr",
     "output_type": "stream",
     "text": [
      "WARNING:tensorflow:5 out of the last 5 calls to <function Model.make_predict_function.<locals>.predict_function at 0x4c93d96c0> triggered tf.function retracing. Tracing is expensive and the excessive number of tracings could be due to (1) creating @tf.function repeatedly in a loop, (2) passing tensors with different shapes, (3) passing Python objects instead of tensors. For (1), please define your @tf.function outside of the loop. For (2), @tf.function has reduce_retracing=True option that can avoid unnecessary retracing. For (3), please refer to https://www.tensorflow.org/guide/function#controlling_retracing and https://www.tensorflow.org/api_docs/python/tf/function for  more details.\n",
      "WARNING:absl:At this time, the v2.11+ optimizer `tf.keras.optimizers.Adam` runs slowly on M1/M2 Macs, please use the legacy TF-Keras optimizer instead, located at `tf.keras.optimizers.legacy.Adam`.\n"
     ]
    },
    {
     "name": "stdout",
     "output_type": "stream",
     "text": [
      "WARNING:tensorflow:6 out of the last 6 calls to <function Model.make_predict_function.<locals>.predict_function at 0x4cc1dd580> triggered tf.function retracing. Tracing is expensive and the excessive number of tracings could be due to (1) creating @tf.function repeatedly in a loop, (2) passing tensors with different shapes, (3) passing Python objects instead of tensors. For (1), please define your @tf.function outside of the loop. For (2), @tf.function has reduce_retracing=True option that can avoid unnecessary retracing. For (3), please refer to https://www.tensorflow.org/guide/function#controlling_retracing and https://www.tensorflow.org/api_docs/python/tf/function for  more details.\n"
     ]
    },
    {
     "name": "stderr",
     "output_type": "stream",
     "text": [
      "WARNING:tensorflow:6 out of the last 6 calls to <function Model.make_predict_function.<locals>.predict_function at 0x4cc1dd580> triggered tf.function retracing. Tracing is expensive and the excessive number of tracings could be due to (1) creating @tf.function repeatedly in a loop, (2) passing tensors with different shapes, (3) passing Python objects instead of tensors. For (1), please define your @tf.function outside of the loop. For (2), @tf.function has reduce_retracing=True option that can avoid unnecessary retracing. For (3), please refer to https://www.tensorflow.org/guide/function#controlling_retracing and https://www.tensorflow.org/api_docs/python/tf/function for  more details.\n",
      "WARNING:absl:At this time, the v2.11+ optimizer `tf.keras.optimizers.Adam` runs slowly on M1/M2 Macs, please use the legacy TF-Keras optimizer instead, located at `tf.keras.optimizers.legacy.Adam`.\n",
      "WARNING:absl:At this time, the v2.11+ optimizer `tf.keras.optimizers.Adam` runs slowly on M1/M2 Macs, please use the legacy TF-Keras optimizer instead, located at `tf.keras.optimizers.legacy.Adam`.\n",
      "WARNING:absl:At this time, the v2.11+ optimizer `tf.keras.optimizers.Adam` runs slowly on M1/M2 Macs, please use the legacy TF-Keras optimizer instead, located at `tf.keras.optimizers.legacy.Adam`.\n",
      "WARNING:absl:At this time, the v2.11+ optimizer `tf.keras.optimizers.Adam` runs slowly on M1/M2 Macs, please use the legacy TF-Keras optimizer instead, located at `tf.keras.optimizers.legacy.Adam`.\n",
      "WARNING:absl:At this time, the v2.11+ optimizer `tf.keras.optimizers.Adam` runs slowly on M1/M2 Macs, please use the legacy TF-Keras optimizer instead, located at `tf.keras.optimizers.legacy.Adam`.\n",
      "WARNING:absl:At this time, the v2.11+ optimizer `tf.keras.optimizers.Adam` runs slowly on M1/M2 Macs, please use the legacy TF-Keras optimizer instead, located at `tf.keras.optimizers.legacy.Adam`.\n",
      "WARNING:absl:At this time, the v2.11+ optimizer `tf.keras.optimizers.Adam` runs slowly on M1/M2 Macs, please use the legacy TF-Keras optimizer instead, located at `tf.keras.optimizers.legacy.Adam`.\n",
      "WARNING:absl:At this time, the v2.11+ optimizer `tf.keras.optimizers.Adam` runs slowly on M1/M2 Macs, please use the legacy TF-Keras optimizer instead, located at `tf.keras.optimizers.legacy.Adam`.\n",
      "WARNING:absl:At this time, the v2.11+ optimizer `tf.keras.optimizers.Adam` runs slowly on M1/M2 Macs, please use the legacy TF-Keras optimizer instead, located at `tf.keras.optimizers.legacy.Adam`.\n",
      "WARNING:absl:At this time, the v2.11+ optimizer `tf.keras.optimizers.Adam` runs slowly on M1/M2 Macs, please use the legacy TF-Keras optimizer instead, located at `tf.keras.optimizers.legacy.Adam`.\n",
      "WARNING:absl:At this time, the v2.11+ optimizer `tf.keras.optimizers.Adam` runs slowly on M1/M2 Macs, please use the legacy TF-Keras optimizer instead, located at `tf.keras.optimizers.legacy.Adam`.\n",
      "WARNING:absl:At this time, the v2.11+ optimizer `tf.keras.optimizers.Adam` runs slowly on M1/M2 Macs, please use the legacy TF-Keras optimizer instead, located at `tf.keras.optimizers.legacy.Adam`.\n",
      "WARNING:absl:At this time, the v2.11+ optimizer `tf.keras.optimizers.Adam` runs slowly on M1/M2 Macs, please use the legacy TF-Keras optimizer instead, located at `tf.keras.optimizers.legacy.Adam`.\n",
      "WARNING:absl:At this time, the v2.11+ optimizer `tf.keras.optimizers.Adam` runs slowly on M1/M2 Macs, please use the legacy TF-Keras optimizer instead, located at `tf.keras.optimizers.legacy.Adam`.\n",
      "WARNING:absl:At this time, the v2.11+ optimizer `tf.keras.optimizers.Adam` runs slowly on M1/M2 Macs, please use the legacy TF-Keras optimizer instead, located at `tf.keras.optimizers.legacy.Adam`.\n",
      "WARNING:absl:At this time, the v2.11+ optimizer `tf.keras.optimizers.Adam` runs slowly on M1/M2 Macs, please use the legacy TF-Keras optimizer instead, located at `tf.keras.optimizers.legacy.Adam`.\n",
      "WARNING:absl:At this time, the v2.11+ optimizer `tf.keras.optimizers.Adam` runs slowly on M1/M2 Macs, please use the legacy TF-Keras optimizer instead, located at `tf.keras.optimizers.legacy.Adam`.\n",
      "WARNING:absl:At this time, the v2.11+ optimizer `tf.keras.optimizers.Adam` runs slowly on M1/M2 Macs, please use the legacy TF-Keras optimizer instead, located at `tf.keras.optimizers.legacy.Adam`.\n",
      "WARNING:absl:At this time, the v2.11+ optimizer `tf.keras.optimizers.Adam` runs slowly on M1/M2 Macs, please use the legacy TF-Keras optimizer instead, located at `tf.keras.optimizers.legacy.Adam`.\n",
      "WARNING:absl:At this time, the v2.11+ optimizer `tf.keras.optimizers.Adam` runs slowly on M1/M2 Macs, please use the legacy TF-Keras optimizer instead, located at `tf.keras.optimizers.legacy.Adam`.\n",
      "WARNING:absl:At this time, the v2.11+ optimizer `tf.keras.optimizers.Adam` runs slowly on M1/M2 Macs, please use the legacy TF-Keras optimizer instead, located at `tf.keras.optimizers.legacy.Adam`.\n",
      "WARNING:absl:At this time, the v2.11+ optimizer `tf.keras.optimizers.Adam` runs slowly on M1/M2 Macs, please use the legacy TF-Keras optimizer instead, located at `tf.keras.optimizers.legacy.Adam`.\n",
      "WARNING:absl:At this time, the v2.11+ optimizer `tf.keras.optimizers.Adam` runs slowly on M1/M2 Macs, please use the legacy TF-Keras optimizer instead, located at `tf.keras.optimizers.legacy.Adam`.\n",
      "WARNING:absl:At this time, the v2.11+ optimizer `tf.keras.optimizers.Adam` runs slowly on M1/M2 Macs, please use the legacy TF-Keras optimizer instead, located at `tf.keras.optimizers.legacy.Adam`.\n",
      "WARNING:absl:At this time, the v2.11+ optimizer `tf.keras.optimizers.Adam` runs slowly on M1/M2 Macs, please use the legacy TF-Keras optimizer instead, located at `tf.keras.optimizers.legacy.Adam`.\n",
      "WARNING:absl:At this time, the v2.11+ optimizer `tf.keras.optimizers.Adam` runs slowly on M1/M2 Macs, please use the legacy TF-Keras optimizer instead, located at `tf.keras.optimizers.legacy.Adam`.\n",
      "WARNING:absl:At this time, the v2.11+ optimizer `tf.keras.optimizers.Adam` runs slowly on M1/M2 Macs, please use the legacy TF-Keras optimizer instead, located at `tf.keras.optimizers.legacy.Adam`.\n",
      "WARNING:absl:At this time, the v2.11+ optimizer `tf.keras.optimizers.Adam` runs slowly on M1/M2 Macs, please use the legacy TF-Keras optimizer instead, located at `tf.keras.optimizers.legacy.Adam`.\n",
      "WARNING:absl:At this time, the v2.11+ optimizer `tf.keras.optimizers.Adam` runs slowly on M1/M2 Macs, please use the legacy TF-Keras optimizer instead, located at `tf.keras.optimizers.legacy.Adam`.\n",
      "WARNING:absl:At this time, the v2.11+ optimizer `tf.keras.optimizers.Adam` runs slowly on M1/M2 Macs, please use the legacy TF-Keras optimizer instead, located at `tf.keras.optimizers.legacy.Adam`.\n",
      "WARNING:absl:At this time, the v2.11+ optimizer `tf.keras.optimizers.Adam` runs slowly on M1/M2 Macs, please use the legacy TF-Keras optimizer instead, located at `tf.keras.optimizers.legacy.Adam`.\n",
      "WARNING:absl:At this time, the v2.11+ optimizer `tf.keras.optimizers.Adam` runs slowly on M1/M2 Macs, please use the legacy TF-Keras optimizer instead, located at `tf.keras.optimizers.legacy.Adam`.\n",
      "WARNING:absl:At this time, the v2.11+ optimizer `tf.keras.optimizers.Adam` runs slowly on M1/M2 Macs, please use the legacy TF-Keras optimizer instead, located at `tf.keras.optimizers.legacy.Adam`.\n",
      "WARNING:absl:At this time, the v2.11+ optimizer `tf.keras.optimizers.Adam` runs slowly on M1/M2 Macs, please use the legacy TF-Keras optimizer instead, located at `tf.keras.optimizers.legacy.Adam`.\n",
      "WARNING:absl:At this time, the v2.11+ optimizer `tf.keras.optimizers.Adam` runs slowly on M1/M2 Macs, please use the legacy TF-Keras optimizer instead, located at `tf.keras.optimizers.legacy.Adam`.\n",
      "WARNING:absl:At this time, the v2.11+ optimizer `tf.keras.optimizers.Adam` runs slowly on M1/M2 Macs, please use the legacy TF-Keras optimizer instead, located at `tf.keras.optimizers.legacy.Adam`.\n",
      "WARNING:absl:At this time, the v2.11+ optimizer `tf.keras.optimizers.Adam` runs slowly on M1/M2 Macs, please use the legacy TF-Keras optimizer instead, located at `tf.keras.optimizers.legacy.Adam`.\n",
      "WARNING:absl:At this time, the v2.11+ optimizer `tf.keras.optimizers.Adam` runs slowly on M1/M2 Macs, please use the legacy TF-Keras optimizer instead, located at `tf.keras.optimizers.legacy.Adam`.\n"
     ]
    },
    {
     "name": "stdout",
     "output_type": "stream",
     "text": [
      "RMSE: 2.0541\n"
     ]
    }
   ],
   "source": [
    "data = df_q_EU[cols_to_standardize].dropna()\n",
    "rmse, y_preds, y_trues = evaluate_LSTM_forecaster(np.array(data), initial_window=54)    \n",
    "print(f\"RMSE: {rmse:.4f}\")"
   ]
  },
  {
   "cell_type": "markdown",
   "id": "4ef67beb",
   "metadata": {},
   "source": [
    "Deutschland"
   ]
  },
  {
   "cell_type": "code",
   "execution_count": 341,
   "id": "8644a365",
   "metadata": {},
   "outputs": [
    {
     "name": "stderr",
     "output_type": "stream",
     "text": [
      "WARNING:absl:At this time, the v2.11+ optimizer `tf.keras.optimizers.Adam` runs slowly on M1/M2 Macs, please use the legacy TF-Keras optimizer instead, located at `tf.keras.optimizers.legacy.Adam`.\n",
      "WARNING:absl:At this time, the v2.11+ optimizer `tf.keras.optimizers.Adam` runs slowly on M1/M2 Macs, please use the legacy TF-Keras optimizer instead, located at `tf.keras.optimizers.legacy.Adam`.\n",
      "WARNING:absl:At this time, the v2.11+ optimizer `tf.keras.optimizers.Adam` runs slowly on M1/M2 Macs, please use the legacy TF-Keras optimizer instead, located at `tf.keras.optimizers.legacy.Adam`.\n",
      "WARNING:absl:At this time, the v2.11+ optimizer `tf.keras.optimizers.Adam` runs slowly on M1/M2 Macs, please use the legacy TF-Keras optimizer instead, located at `tf.keras.optimizers.legacy.Adam`.\n",
      "WARNING:absl:At this time, the v2.11+ optimizer `tf.keras.optimizers.Adam` runs slowly on M1/M2 Macs, please use the legacy TF-Keras optimizer instead, located at `tf.keras.optimizers.legacy.Adam`.\n",
      "WARNING:absl:At this time, the v2.11+ optimizer `tf.keras.optimizers.Adam` runs slowly on M1/M2 Macs, please use the legacy TF-Keras optimizer instead, located at `tf.keras.optimizers.legacy.Adam`.\n",
      "WARNING:absl:At this time, the v2.11+ optimizer `tf.keras.optimizers.Adam` runs slowly on M1/M2 Macs, please use the legacy TF-Keras optimizer instead, located at `tf.keras.optimizers.legacy.Adam`.\n",
      "WARNING:absl:At this time, the v2.11+ optimizer `tf.keras.optimizers.Adam` runs slowly on M1/M2 Macs, please use the legacy TF-Keras optimizer instead, located at `tf.keras.optimizers.legacy.Adam`.\n",
      "WARNING:absl:At this time, the v2.11+ optimizer `tf.keras.optimizers.Adam` runs slowly on M1/M2 Macs, please use the legacy TF-Keras optimizer instead, located at `tf.keras.optimizers.legacy.Adam`.\n",
      "WARNING:absl:At this time, the v2.11+ optimizer `tf.keras.optimizers.Adam` runs slowly on M1/M2 Macs, please use the legacy TF-Keras optimizer instead, located at `tf.keras.optimizers.legacy.Adam`.\n",
      "WARNING:absl:At this time, the v2.11+ optimizer `tf.keras.optimizers.Adam` runs slowly on M1/M2 Macs, please use the legacy TF-Keras optimizer instead, located at `tf.keras.optimizers.legacy.Adam`.\n",
      "WARNING:absl:At this time, the v2.11+ optimizer `tf.keras.optimizers.Adam` runs slowly on M1/M2 Macs, please use the legacy TF-Keras optimizer instead, located at `tf.keras.optimizers.legacy.Adam`.\n",
      "WARNING:absl:At this time, the v2.11+ optimizer `tf.keras.optimizers.Adam` runs slowly on M1/M2 Macs, please use the legacy TF-Keras optimizer instead, located at `tf.keras.optimizers.legacy.Adam`.\n",
      "WARNING:absl:At this time, the v2.11+ optimizer `tf.keras.optimizers.Adam` runs slowly on M1/M2 Macs, please use the legacy TF-Keras optimizer instead, located at `tf.keras.optimizers.legacy.Adam`.\n",
      "WARNING:absl:At this time, the v2.11+ optimizer `tf.keras.optimizers.Adam` runs slowly on M1/M2 Macs, please use the legacy TF-Keras optimizer instead, located at `tf.keras.optimizers.legacy.Adam`.\n",
      "WARNING:absl:At this time, the v2.11+ optimizer `tf.keras.optimizers.Adam` runs slowly on M1/M2 Macs, please use the legacy TF-Keras optimizer instead, located at `tf.keras.optimizers.legacy.Adam`.\n",
      "WARNING:absl:At this time, the v2.11+ optimizer `tf.keras.optimizers.Adam` runs slowly on M1/M2 Macs, please use the legacy TF-Keras optimizer instead, located at `tf.keras.optimizers.legacy.Adam`.\n",
      "WARNING:absl:At this time, the v2.11+ optimizer `tf.keras.optimizers.Adam` runs slowly on M1/M2 Macs, please use the legacy TF-Keras optimizer instead, located at `tf.keras.optimizers.legacy.Adam`.\n",
      "WARNING:absl:At this time, the v2.11+ optimizer `tf.keras.optimizers.Adam` runs slowly on M1/M2 Macs, please use the legacy TF-Keras optimizer instead, located at `tf.keras.optimizers.legacy.Adam`.\n",
      "WARNING:absl:At this time, the v2.11+ optimizer `tf.keras.optimizers.Adam` runs slowly on M1/M2 Macs, please use the legacy TF-Keras optimizer instead, located at `tf.keras.optimizers.legacy.Adam`.\n",
      "WARNING:absl:At this time, the v2.11+ optimizer `tf.keras.optimizers.Adam` runs slowly on M1/M2 Macs, please use the legacy TF-Keras optimizer instead, located at `tf.keras.optimizers.legacy.Adam`.\n",
      "WARNING:absl:At this time, the v2.11+ optimizer `tf.keras.optimizers.Adam` runs slowly on M1/M2 Macs, please use the legacy TF-Keras optimizer instead, located at `tf.keras.optimizers.legacy.Adam`.\n",
      "WARNING:absl:At this time, the v2.11+ optimizer `tf.keras.optimizers.Adam` runs slowly on M1/M2 Macs, please use the legacy TF-Keras optimizer instead, located at `tf.keras.optimizers.legacy.Adam`.\n",
      "WARNING:absl:At this time, the v2.11+ optimizer `tf.keras.optimizers.Adam` runs slowly on M1/M2 Macs, please use the legacy TF-Keras optimizer instead, located at `tf.keras.optimizers.legacy.Adam`.\n",
      "WARNING:absl:At this time, the v2.11+ optimizer `tf.keras.optimizers.Adam` runs slowly on M1/M2 Macs, please use the legacy TF-Keras optimizer instead, located at `tf.keras.optimizers.legacy.Adam`.\n",
      "WARNING:absl:At this time, the v2.11+ optimizer `tf.keras.optimizers.Adam` runs slowly on M1/M2 Macs, please use the legacy TF-Keras optimizer instead, located at `tf.keras.optimizers.legacy.Adam`.\n",
      "WARNING:absl:At this time, the v2.11+ optimizer `tf.keras.optimizers.Adam` runs slowly on M1/M2 Macs, please use the legacy TF-Keras optimizer instead, located at `tf.keras.optimizers.legacy.Adam`.\n",
      "WARNING:absl:At this time, the v2.11+ optimizer `tf.keras.optimizers.Adam` runs slowly on M1/M2 Macs, please use the legacy TF-Keras optimizer instead, located at `tf.keras.optimizers.legacy.Adam`.\n",
      "WARNING:absl:At this time, the v2.11+ optimizer `tf.keras.optimizers.Adam` runs slowly on M1/M2 Macs, please use the legacy TF-Keras optimizer instead, located at `tf.keras.optimizers.legacy.Adam`.\n",
      "WARNING:absl:At this time, the v2.11+ optimizer `tf.keras.optimizers.Adam` runs slowly on M1/M2 Macs, please use the legacy TF-Keras optimizer instead, located at `tf.keras.optimizers.legacy.Adam`.\n",
      "WARNING:absl:At this time, the v2.11+ optimizer `tf.keras.optimizers.Adam` runs slowly on M1/M2 Macs, please use the legacy TF-Keras optimizer instead, located at `tf.keras.optimizers.legacy.Adam`.\n",
      "WARNING:absl:At this time, the v2.11+ optimizer `tf.keras.optimizers.Adam` runs slowly on M1/M2 Macs, please use the legacy TF-Keras optimizer instead, located at `tf.keras.optimizers.legacy.Adam`.\n",
      "WARNING:absl:At this time, the v2.11+ optimizer `tf.keras.optimizers.Adam` runs slowly on M1/M2 Macs, please use the legacy TF-Keras optimizer instead, located at `tf.keras.optimizers.legacy.Adam`.\n",
      "WARNING:absl:At this time, the v2.11+ optimizer `tf.keras.optimizers.Adam` runs slowly on M1/M2 Macs, please use the legacy TF-Keras optimizer instead, located at `tf.keras.optimizers.legacy.Adam`.\n",
      "WARNING:absl:At this time, the v2.11+ optimizer `tf.keras.optimizers.Adam` runs slowly on M1/M2 Macs, please use the legacy TF-Keras optimizer instead, located at `tf.keras.optimizers.legacy.Adam`.\n",
      "WARNING:absl:At this time, the v2.11+ optimizer `tf.keras.optimizers.Adam` runs slowly on M1/M2 Macs, please use the legacy TF-Keras optimizer instead, located at `tf.keras.optimizers.legacy.Adam`.\n",
      "WARNING:absl:At this time, the v2.11+ optimizer `tf.keras.optimizers.Adam` runs slowly on M1/M2 Macs, please use the legacy TF-Keras optimizer instead, located at `tf.keras.optimizers.legacy.Adam`.\n",
      "WARNING:absl:At this time, the v2.11+ optimizer `tf.keras.optimizers.Adam` runs slowly on M1/M2 Macs, please use the legacy TF-Keras optimizer instead, located at `tf.keras.optimizers.legacy.Adam`.\n",
      "WARNING:absl:At this time, the v2.11+ optimizer `tf.keras.optimizers.Adam` runs slowly on M1/M2 Macs, please use the legacy TF-Keras optimizer instead, located at `tf.keras.optimizers.legacy.Adam`.\n",
      "WARNING:absl:At this time, the v2.11+ optimizer `tf.keras.optimizers.Adam` runs slowly on M1/M2 Macs, please use the legacy TF-Keras optimizer instead, located at `tf.keras.optimizers.legacy.Adam`.\n",
      "WARNING:absl:At this time, the v2.11+ optimizer `tf.keras.optimizers.Adam` runs slowly on M1/M2 Macs, please use the legacy TF-Keras optimizer instead, located at `tf.keras.optimizers.legacy.Adam`.\n",
      "WARNING:absl:At this time, the v2.11+ optimizer `tf.keras.optimizers.Adam` runs slowly on M1/M2 Macs, please use the legacy TF-Keras optimizer instead, located at `tf.keras.optimizers.legacy.Adam`.\n",
      "WARNING:absl:At this time, the v2.11+ optimizer `tf.keras.optimizers.Adam` runs slowly on M1/M2 Macs, please use the legacy TF-Keras optimizer instead, located at `tf.keras.optimizers.legacy.Adam`.\n",
      "WARNING:absl:At this time, the v2.11+ optimizer `tf.keras.optimizers.Adam` runs slowly on M1/M2 Macs, please use the legacy TF-Keras optimizer instead, located at `tf.keras.optimizers.legacy.Adam`.\n"
     ]
    },
    {
     "name": "stdout",
     "output_type": "stream",
     "text": [
      "RMSE: 1.5809\n"
     ]
    }
   ],
   "source": [
    "data = df_q_DE[cols_to_standardize].dropna()\n",
    "rmse, y_preds, y_trues = evaluate_LSTM_forecaster(np.array(data), initial_window=54)    \n",
    "print(f\"RMSE: {rmse:.4f}\")"
   ]
  },
  {
   "cell_type": "markdown",
   "id": "aa3571dd",
   "metadata": {},
   "source": [
    "Frankreich"
   ]
  },
  {
   "cell_type": "code",
   "execution_count": 342,
   "id": "c9530386",
   "metadata": {},
   "outputs": [
    {
     "name": "stderr",
     "output_type": "stream",
     "text": [
      "WARNING:absl:At this time, the v2.11+ optimizer `tf.keras.optimizers.Adam` runs slowly on M1/M2 Macs, please use the legacy TF-Keras optimizer instead, located at `tf.keras.optimizers.legacy.Adam`.\n",
      "WARNING:absl:At this time, the v2.11+ optimizer `tf.keras.optimizers.Adam` runs slowly on M1/M2 Macs, please use the legacy TF-Keras optimizer instead, located at `tf.keras.optimizers.legacy.Adam`.\n",
      "WARNING:absl:At this time, the v2.11+ optimizer `tf.keras.optimizers.Adam` runs slowly on M1/M2 Macs, please use the legacy TF-Keras optimizer instead, located at `tf.keras.optimizers.legacy.Adam`.\n",
      "WARNING:absl:At this time, the v2.11+ optimizer `tf.keras.optimizers.Adam` runs slowly on M1/M2 Macs, please use the legacy TF-Keras optimizer instead, located at `tf.keras.optimizers.legacy.Adam`.\n",
      "WARNING:absl:At this time, the v2.11+ optimizer `tf.keras.optimizers.Adam` runs slowly on M1/M2 Macs, please use the legacy TF-Keras optimizer instead, located at `tf.keras.optimizers.legacy.Adam`.\n",
      "WARNING:absl:At this time, the v2.11+ optimizer `tf.keras.optimizers.Adam` runs slowly on M1/M2 Macs, please use the legacy TF-Keras optimizer instead, located at `tf.keras.optimizers.legacy.Adam`.\n",
      "WARNING:absl:At this time, the v2.11+ optimizer `tf.keras.optimizers.Adam` runs slowly on M1/M2 Macs, please use the legacy TF-Keras optimizer instead, located at `tf.keras.optimizers.legacy.Adam`.\n",
      "WARNING:absl:At this time, the v2.11+ optimizer `tf.keras.optimizers.Adam` runs slowly on M1/M2 Macs, please use the legacy TF-Keras optimizer instead, located at `tf.keras.optimizers.legacy.Adam`.\n",
      "WARNING:absl:At this time, the v2.11+ optimizer `tf.keras.optimizers.Adam` runs slowly on M1/M2 Macs, please use the legacy TF-Keras optimizer instead, located at `tf.keras.optimizers.legacy.Adam`.\n",
      "WARNING:absl:At this time, the v2.11+ optimizer `tf.keras.optimizers.Adam` runs slowly on M1/M2 Macs, please use the legacy TF-Keras optimizer instead, located at `tf.keras.optimizers.legacy.Adam`.\n",
      "WARNING:absl:At this time, the v2.11+ optimizer `tf.keras.optimizers.Adam` runs slowly on M1/M2 Macs, please use the legacy TF-Keras optimizer instead, located at `tf.keras.optimizers.legacy.Adam`.\n",
      "WARNING:absl:At this time, the v2.11+ optimizer `tf.keras.optimizers.Adam` runs slowly on M1/M2 Macs, please use the legacy TF-Keras optimizer instead, located at `tf.keras.optimizers.legacy.Adam`.\n",
      "WARNING:absl:At this time, the v2.11+ optimizer `tf.keras.optimizers.Adam` runs slowly on M1/M2 Macs, please use the legacy TF-Keras optimizer instead, located at `tf.keras.optimizers.legacy.Adam`.\n",
      "WARNING:absl:At this time, the v2.11+ optimizer `tf.keras.optimizers.Adam` runs slowly on M1/M2 Macs, please use the legacy TF-Keras optimizer instead, located at `tf.keras.optimizers.legacy.Adam`.\n",
      "WARNING:absl:At this time, the v2.11+ optimizer `tf.keras.optimizers.Adam` runs slowly on M1/M2 Macs, please use the legacy TF-Keras optimizer instead, located at `tf.keras.optimizers.legacy.Adam`.\n",
      "WARNING:absl:At this time, the v2.11+ optimizer `tf.keras.optimizers.Adam` runs slowly on M1/M2 Macs, please use the legacy TF-Keras optimizer instead, located at `tf.keras.optimizers.legacy.Adam`.\n",
      "WARNING:absl:At this time, the v2.11+ optimizer `tf.keras.optimizers.Adam` runs slowly on M1/M2 Macs, please use the legacy TF-Keras optimizer instead, located at `tf.keras.optimizers.legacy.Adam`.\n",
      "WARNING:absl:At this time, the v2.11+ optimizer `tf.keras.optimizers.Adam` runs slowly on M1/M2 Macs, please use the legacy TF-Keras optimizer instead, located at `tf.keras.optimizers.legacy.Adam`.\n",
      "WARNING:absl:At this time, the v2.11+ optimizer `tf.keras.optimizers.Adam` runs slowly on M1/M2 Macs, please use the legacy TF-Keras optimizer instead, located at `tf.keras.optimizers.legacy.Adam`.\n",
      "WARNING:absl:At this time, the v2.11+ optimizer `tf.keras.optimizers.Adam` runs slowly on M1/M2 Macs, please use the legacy TF-Keras optimizer instead, located at `tf.keras.optimizers.legacy.Adam`.\n",
      "WARNING:absl:At this time, the v2.11+ optimizer `tf.keras.optimizers.Adam` runs slowly on M1/M2 Macs, please use the legacy TF-Keras optimizer instead, located at `tf.keras.optimizers.legacy.Adam`.\n",
      "WARNING:absl:At this time, the v2.11+ optimizer `tf.keras.optimizers.Adam` runs slowly on M1/M2 Macs, please use the legacy TF-Keras optimizer instead, located at `tf.keras.optimizers.legacy.Adam`.\n",
      "WARNING:absl:At this time, the v2.11+ optimizer `tf.keras.optimizers.Adam` runs slowly on M1/M2 Macs, please use the legacy TF-Keras optimizer instead, located at `tf.keras.optimizers.legacy.Adam`.\n",
      "WARNING:absl:At this time, the v2.11+ optimizer `tf.keras.optimizers.Adam` runs slowly on M1/M2 Macs, please use the legacy TF-Keras optimizer instead, located at `tf.keras.optimizers.legacy.Adam`.\n",
      "WARNING:absl:At this time, the v2.11+ optimizer `tf.keras.optimizers.Adam` runs slowly on M1/M2 Macs, please use the legacy TF-Keras optimizer instead, located at `tf.keras.optimizers.legacy.Adam`.\n",
      "WARNING:absl:At this time, the v2.11+ optimizer `tf.keras.optimizers.Adam` runs slowly on M1/M2 Macs, please use the legacy TF-Keras optimizer instead, located at `tf.keras.optimizers.legacy.Adam`.\n",
      "WARNING:absl:At this time, the v2.11+ optimizer `tf.keras.optimizers.Adam` runs slowly on M1/M2 Macs, please use the legacy TF-Keras optimizer instead, located at `tf.keras.optimizers.legacy.Adam`.\n",
      "WARNING:absl:At this time, the v2.11+ optimizer `tf.keras.optimizers.Adam` runs slowly on M1/M2 Macs, please use the legacy TF-Keras optimizer instead, located at `tf.keras.optimizers.legacy.Adam`.\n",
      "WARNING:absl:At this time, the v2.11+ optimizer `tf.keras.optimizers.Adam` runs slowly on M1/M2 Macs, please use the legacy TF-Keras optimizer instead, located at `tf.keras.optimizers.legacy.Adam`.\n",
      "WARNING:absl:At this time, the v2.11+ optimizer `tf.keras.optimizers.Adam` runs slowly on M1/M2 Macs, please use the legacy TF-Keras optimizer instead, located at `tf.keras.optimizers.legacy.Adam`.\n",
      "WARNING:absl:At this time, the v2.11+ optimizer `tf.keras.optimizers.Adam` runs slowly on M1/M2 Macs, please use the legacy TF-Keras optimizer instead, located at `tf.keras.optimizers.legacy.Adam`.\n",
      "WARNING:absl:At this time, the v2.11+ optimizer `tf.keras.optimizers.Adam` runs slowly on M1/M2 Macs, please use the legacy TF-Keras optimizer instead, located at `tf.keras.optimizers.legacy.Adam`.\n",
      "WARNING:absl:At this time, the v2.11+ optimizer `tf.keras.optimizers.Adam` runs slowly on M1/M2 Macs, please use the legacy TF-Keras optimizer instead, located at `tf.keras.optimizers.legacy.Adam`.\n",
      "WARNING:absl:At this time, the v2.11+ optimizer `tf.keras.optimizers.Adam` runs slowly on M1/M2 Macs, please use the legacy TF-Keras optimizer instead, located at `tf.keras.optimizers.legacy.Adam`.\n",
      "WARNING:absl:At this time, the v2.11+ optimizer `tf.keras.optimizers.Adam` runs slowly on M1/M2 Macs, please use the legacy TF-Keras optimizer instead, located at `tf.keras.optimizers.legacy.Adam`.\n",
      "WARNING:absl:At this time, the v2.11+ optimizer `tf.keras.optimizers.Adam` runs slowly on M1/M2 Macs, please use the legacy TF-Keras optimizer instead, located at `tf.keras.optimizers.legacy.Adam`.\n",
      "WARNING:absl:At this time, the v2.11+ optimizer `tf.keras.optimizers.Adam` runs slowly on M1/M2 Macs, please use the legacy TF-Keras optimizer instead, located at `tf.keras.optimizers.legacy.Adam`.\n",
      "WARNING:absl:At this time, the v2.11+ optimizer `tf.keras.optimizers.Adam` runs slowly on M1/M2 Macs, please use the legacy TF-Keras optimizer instead, located at `tf.keras.optimizers.legacy.Adam`.\n",
      "WARNING:absl:At this time, the v2.11+ optimizer `tf.keras.optimizers.Adam` runs slowly on M1/M2 Macs, please use the legacy TF-Keras optimizer instead, located at `tf.keras.optimizers.legacy.Adam`.\n",
      "WARNING:absl:At this time, the v2.11+ optimizer `tf.keras.optimizers.Adam` runs slowly on M1/M2 Macs, please use the legacy TF-Keras optimizer instead, located at `tf.keras.optimizers.legacy.Adam`.\n",
      "WARNING:absl:At this time, the v2.11+ optimizer `tf.keras.optimizers.Adam` runs slowly on M1/M2 Macs, please use the legacy TF-Keras optimizer instead, located at `tf.keras.optimizers.legacy.Adam`.\n",
      "WARNING:absl:At this time, the v2.11+ optimizer `tf.keras.optimizers.Adam` runs slowly on M1/M2 Macs, please use the legacy TF-Keras optimizer instead, located at `tf.keras.optimizers.legacy.Adam`.\n",
      "WARNING:absl:At this time, the v2.11+ optimizer `tf.keras.optimizers.Adam` runs slowly on M1/M2 Macs, please use the legacy TF-Keras optimizer instead, located at `tf.keras.optimizers.legacy.Adam`.\n",
      "WARNING:absl:At this time, the v2.11+ optimizer `tf.keras.optimizers.Adam` runs slowly on M1/M2 Macs, please use the legacy TF-Keras optimizer instead, located at `tf.keras.optimizers.legacy.Adam`.\n"
     ]
    },
    {
     "name": "stdout",
     "output_type": "stream",
     "text": [
      "RMSE: 2.0722\n"
     ]
    }
   ],
   "source": [
    "data = df_q_FR[cols_to_standardize].dropna()\n",
    "rmse, y_preds, y_trues = evaluate_LSTM_forecaster(np.array(data), initial_window=54)    \n",
    "print(f\"RMSE: {rmse:.4f}\")   "
   ]
  },
  {
   "cell_type": "markdown",
   "id": "3715b9c6",
   "metadata": {},
   "source": [
    "Italien"
   ]
  },
  {
   "cell_type": "code",
   "execution_count": 343,
   "id": "860bd1d8",
   "metadata": {},
   "outputs": [
    {
     "name": "stderr",
     "output_type": "stream",
     "text": [
      "WARNING:absl:At this time, the v2.11+ optimizer `tf.keras.optimizers.Adam` runs slowly on M1/M2 Macs, please use the legacy TF-Keras optimizer instead, located at `tf.keras.optimizers.legacy.Adam`.\n",
      "WARNING:absl:At this time, the v2.11+ optimizer `tf.keras.optimizers.Adam` runs slowly on M1/M2 Macs, please use the legacy TF-Keras optimizer instead, located at `tf.keras.optimizers.legacy.Adam`.\n",
      "WARNING:absl:At this time, the v2.11+ optimizer `tf.keras.optimizers.Adam` runs slowly on M1/M2 Macs, please use the legacy TF-Keras optimizer instead, located at `tf.keras.optimizers.legacy.Adam`.\n",
      "WARNING:absl:At this time, the v2.11+ optimizer `tf.keras.optimizers.Adam` runs slowly on M1/M2 Macs, please use the legacy TF-Keras optimizer instead, located at `tf.keras.optimizers.legacy.Adam`.\n",
      "WARNING:absl:At this time, the v2.11+ optimizer `tf.keras.optimizers.Adam` runs slowly on M1/M2 Macs, please use the legacy TF-Keras optimizer instead, located at `tf.keras.optimizers.legacy.Adam`.\n",
      "WARNING:absl:At this time, the v2.11+ optimizer `tf.keras.optimizers.Adam` runs slowly on M1/M2 Macs, please use the legacy TF-Keras optimizer instead, located at `tf.keras.optimizers.legacy.Adam`.\n",
      "WARNING:absl:At this time, the v2.11+ optimizer `tf.keras.optimizers.Adam` runs slowly on M1/M2 Macs, please use the legacy TF-Keras optimizer instead, located at `tf.keras.optimizers.legacy.Adam`.\n",
      "WARNING:absl:At this time, the v2.11+ optimizer `tf.keras.optimizers.Adam` runs slowly on M1/M2 Macs, please use the legacy TF-Keras optimizer instead, located at `tf.keras.optimizers.legacy.Adam`.\n",
      "WARNING:absl:At this time, the v2.11+ optimizer `tf.keras.optimizers.Adam` runs slowly on M1/M2 Macs, please use the legacy TF-Keras optimizer instead, located at `tf.keras.optimizers.legacy.Adam`.\n",
      "WARNING:absl:At this time, the v2.11+ optimizer `tf.keras.optimizers.Adam` runs slowly on M1/M2 Macs, please use the legacy TF-Keras optimizer instead, located at `tf.keras.optimizers.legacy.Adam`.\n",
      "WARNING:absl:At this time, the v2.11+ optimizer `tf.keras.optimizers.Adam` runs slowly on M1/M2 Macs, please use the legacy TF-Keras optimizer instead, located at `tf.keras.optimizers.legacy.Adam`.\n",
      "WARNING:absl:At this time, the v2.11+ optimizer `tf.keras.optimizers.Adam` runs slowly on M1/M2 Macs, please use the legacy TF-Keras optimizer instead, located at `tf.keras.optimizers.legacy.Adam`.\n",
      "WARNING:absl:At this time, the v2.11+ optimizer `tf.keras.optimizers.Adam` runs slowly on M1/M2 Macs, please use the legacy TF-Keras optimizer instead, located at `tf.keras.optimizers.legacy.Adam`.\n",
      "WARNING:absl:At this time, the v2.11+ optimizer `tf.keras.optimizers.Adam` runs slowly on M1/M2 Macs, please use the legacy TF-Keras optimizer instead, located at `tf.keras.optimizers.legacy.Adam`.\n",
      "WARNING:absl:At this time, the v2.11+ optimizer `tf.keras.optimizers.Adam` runs slowly on M1/M2 Macs, please use the legacy TF-Keras optimizer instead, located at `tf.keras.optimizers.legacy.Adam`.\n",
      "WARNING:absl:At this time, the v2.11+ optimizer `tf.keras.optimizers.Adam` runs slowly on M1/M2 Macs, please use the legacy TF-Keras optimizer instead, located at `tf.keras.optimizers.legacy.Adam`.\n",
      "WARNING:absl:At this time, the v2.11+ optimizer `tf.keras.optimizers.Adam` runs slowly on M1/M2 Macs, please use the legacy TF-Keras optimizer instead, located at `tf.keras.optimizers.legacy.Adam`.\n",
      "WARNING:absl:At this time, the v2.11+ optimizer `tf.keras.optimizers.Adam` runs slowly on M1/M2 Macs, please use the legacy TF-Keras optimizer instead, located at `tf.keras.optimizers.legacy.Adam`.\n",
      "WARNING:absl:At this time, the v2.11+ optimizer `tf.keras.optimizers.Adam` runs slowly on M1/M2 Macs, please use the legacy TF-Keras optimizer instead, located at `tf.keras.optimizers.legacy.Adam`.\n",
      "WARNING:absl:At this time, the v2.11+ optimizer `tf.keras.optimizers.Adam` runs slowly on M1/M2 Macs, please use the legacy TF-Keras optimizer instead, located at `tf.keras.optimizers.legacy.Adam`.\n",
      "WARNING:absl:At this time, the v2.11+ optimizer `tf.keras.optimizers.Adam` runs slowly on M1/M2 Macs, please use the legacy TF-Keras optimizer instead, located at `tf.keras.optimizers.legacy.Adam`.\n",
      "WARNING:absl:At this time, the v2.11+ optimizer `tf.keras.optimizers.Adam` runs slowly on M1/M2 Macs, please use the legacy TF-Keras optimizer instead, located at `tf.keras.optimizers.legacy.Adam`.\n",
      "WARNING:absl:At this time, the v2.11+ optimizer `tf.keras.optimizers.Adam` runs slowly on M1/M2 Macs, please use the legacy TF-Keras optimizer instead, located at `tf.keras.optimizers.legacy.Adam`.\n",
      "WARNING:absl:At this time, the v2.11+ optimizer `tf.keras.optimizers.Adam` runs slowly on M1/M2 Macs, please use the legacy TF-Keras optimizer instead, located at `tf.keras.optimizers.legacy.Adam`.\n",
      "WARNING:absl:At this time, the v2.11+ optimizer `tf.keras.optimizers.Adam` runs slowly on M1/M2 Macs, please use the legacy TF-Keras optimizer instead, located at `tf.keras.optimizers.legacy.Adam`.\n",
      "WARNING:absl:At this time, the v2.11+ optimizer `tf.keras.optimizers.Adam` runs slowly on M1/M2 Macs, please use the legacy TF-Keras optimizer instead, located at `tf.keras.optimizers.legacy.Adam`.\n",
      "WARNING:absl:At this time, the v2.11+ optimizer `tf.keras.optimizers.Adam` runs slowly on M1/M2 Macs, please use the legacy TF-Keras optimizer instead, located at `tf.keras.optimizers.legacy.Adam`.\n",
      "WARNING:absl:At this time, the v2.11+ optimizer `tf.keras.optimizers.Adam` runs slowly on M1/M2 Macs, please use the legacy TF-Keras optimizer instead, located at `tf.keras.optimizers.legacy.Adam`.\n",
      "WARNING:absl:At this time, the v2.11+ optimizer `tf.keras.optimizers.Adam` runs slowly on M1/M2 Macs, please use the legacy TF-Keras optimizer instead, located at `tf.keras.optimizers.legacy.Adam`.\n",
      "WARNING:absl:At this time, the v2.11+ optimizer `tf.keras.optimizers.Adam` runs slowly on M1/M2 Macs, please use the legacy TF-Keras optimizer instead, located at `tf.keras.optimizers.legacy.Adam`.\n",
      "WARNING:absl:At this time, the v2.11+ optimizer `tf.keras.optimizers.Adam` runs slowly on M1/M2 Macs, please use the legacy TF-Keras optimizer instead, located at `tf.keras.optimizers.legacy.Adam`.\n",
      "WARNING:absl:At this time, the v2.11+ optimizer `tf.keras.optimizers.Adam` runs slowly on M1/M2 Macs, please use the legacy TF-Keras optimizer instead, located at `tf.keras.optimizers.legacy.Adam`.\n",
      "WARNING:absl:At this time, the v2.11+ optimizer `tf.keras.optimizers.Adam` runs slowly on M1/M2 Macs, please use the legacy TF-Keras optimizer instead, located at `tf.keras.optimizers.legacy.Adam`.\n",
      "WARNING:absl:At this time, the v2.11+ optimizer `tf.keras.optimizers.Adam` runs slowly on M1/M2 Macs, please use the legacy TF-Keras optimizer instead, located at `tf.keras.optimizers.legacy.Adam`.\n",
      "WARNING:absl:At this time, the v2.11+ optimizer `tf.keras.optimizers.Adam` runs slowly on M1/M2 Macs, please use the legacy TF-Keras optimizer instead, located at `tf.keras.optimizers.legacy.Adam`.\n",
      "WARNING:absl:At this time, the v2.11+ optimizer `tf.keras.optimizers.Adam` runs slowly on M1/M2 Macs, please use the legacy TF-Keras optimizer instead, located at `tf.keras.optimizers.legacy.Adam`.\n",
      "WARNING:absl:At this time, the v2.11+ optimizer `tf.keras.optimizers.Adam` runs slowly on M1/M2 Macs, please use the legacy TF-Keras optimizer instead, located at `tf.keras.optimizers.legacy.Adam`.\n",
      "WARNING:absl:At this time, the v2.11+ optimizer `tf.keras.optimizers.Adam` runs slowly on M1/M2 Macs, please use the legacy TF-Keras optimizer instead, located at `tf.keras.optimizers.legacy.Adam`.\n",
      "WARNING:absl:At this time, the v2.11+ optimizer `tf.keras.optimizers.Adam` runs slowly on M1/M2 Macs, please use the legacy TF-Keras optimizer instead, located at `tf.keras.optimizers.legacy.Adam`.\n",
      "WARNING:absl:At this time, the v2.11+ optimizer `tf.keras.optimizers.Adam` runs slowly on M1/M2 Macs, please use the legacy TF-Keras optimizer instead, located at `tf.keras.optimizers.legacy.Adam`.\n",
      "WARNING:absl:At this time, the v2.11+ optimizer `tf.keras.optimizers.Adam` runs slowly on M1/M2 Macs, please use the legacy TF-Keras optimizer instead, located at `tf.keras.optimizers.legacy.Adam`.\n",
      "WARNING:absl:At this time, the v2.11+ optimizer `tf.keras.optimizers.Adam` runs slowly on M1/M2 Macs, please use the legacy TF-Keras optimizer instead, located at `tf.keras.optimizers.legacy.Adam`.\n",
      "WARNING:absl:At this time, the v2.11+ optimizer `tf.keras.optimizers.Adam` runs slowly on M1/M2 Macs, please use the legacy TF-Keras optimizer instead, located at `tf.keras.optimizers.legacy.Adam`.\n",
      "WARNING:absl:At this time, the v2.11+ optimizer `tf.keras.optimizers.Adam` runs slowly on M1/M2 Macs, please use the legacy TF-Keras optimizer instead, located at `tf.keras.optimizers.legacy.Adam`.\n"
     ]
    },
    {
     "name": "stdout",
     "output_type": "stream",
     "text": [
      "RMSE: 2.0534\n"
     ]
    }
   ],
   "source": [
    "data = df_q_IT[cols_to_standardize].dropna()\n",
    "rmse, y_preds, y_trues = evaluate_LSTM_forecaster(np.array(data), initial_window=54)    \n",
    "print(f\"RMSE: {rmse:.4f}\")"
   ]
  },
  {
   "cell_type": "markdown",
   "id": "3838395c",
   "metadata": {},
   "source": [
    "### Baseline "
   ]
  },
  {
   "cell_type": "code",
   "execution_count": 367,
   "id": "73e974be",
   "metadata": {},
   "outputs": [],
   "source": [
    "def baseline_forecast(series,  initial_window=54):\n",
    "    \"\"\"\n",
    "    Naiver Forecast: prognostiziert y_{t+1} = y_t\n",
    "    Gibt Vorhersagen, wahre Werte und RMSE zurück.\n",
    "    \"\"\"\n",
    "    y_true = series[initial_window:]            # y_{t+1}\n",
    "    y_pred = series[initial_window-1:-1]           # y_t als Prognose für y_{t+1}\n",
    "\n",
    "    rmse = np.sqrt(mean_squared_error(y_true, y_pred))\n",
    "    return rmse, y_pred, y_true\n"
   ]
  },
  {
   "cell_type": "code",
   "execution_count": 368,
   "id": "84de7edb",
   "metadata": {},
   "outputs": [
    {
     "name": "stdout",
     "output_type": "stream",
     "text": [
      "RMSE: 2.2670\n"
     ]
    }
   ],
   "source": [
    "data = df_q_EU[cols_to_standardize].dropna()\n",
    "rmse, y_preds, y_trues = baseline_forecast(np.array(data.GDP), initial_window=54)\n",
    "print(f\"RMSE: {rmse:.4f}\")"
   ]
  },
  {
   "cell_type": "code",
   "execution_count": 369,
   "id": "c5eb4425",
   "metadata": {},
   "outputs": [
    {
     "name": "stdout",
     "output_type": "stream",
     "text": [
      "RMSE: 2.0837\n"
     ]
    }
   ],
   "source": [
    "data = df_q_DE[cols_to_standardize].dropna()\n",
    "rmse, y_preds, y_trues = baseline_forecast(np.array(data.GDP), initial_window=54)\n",
    "print(f\"RMSE: {rmse:.4f}\")"
   ]
  },
  {
   "cell_type": "code",
   "execution_count": 370,
   "id": "7b8cc295",
   "metadata": {},
   "outputs": [
    {
     "name": "stdout",
     "output_type": "stream",
     "text": [
      "RMSE: 2.3154\n"
     ]
    }
   ],
   "source": [
    "data = df_q_FR[cols_to_standardize].dropna()\n",
    "rmse, y_preds, y_trues = baseline_forecast(np.array(data.GDP), initial_window=54)\n",
    "print(f\"RMSE: {rmse:.4f}\")"
   ]
  },
  {
   "cell_type": "code",
   "execution_count": 371,
   "id": "a412d6c7",
   "metadata": {},
   "outputs": [
    {
     "name": "stdout",
     "output_type": "stream",
     "text": [
      "RMSE: 2.2107\n"
     ]
    }
   ],
   "source": [
    "data = df_q_IT[cols_to_standardize].dropna()\n",
    "rmse, y_preds, y_trues = baseline_forecast(np.array(data.GDP), initial_window=54)\n",
    "print(f\"RMSE: {rmse:.4f}\")"
   ]
  },
  {
   "cell_type": "code",
   "execution_count": null,
   "id": "b0469652",
   "metadata": {},
   "outputs": [],
   "source": []
  }
 ],
 "metadata": {
  "kernelspec": {
   "display_name": "g",
   "language": "python",
   "name": "python3"
  },
  "language_info": {
   "codemirror_mode": {
    "name": "ipython",
    "version": 3
   },
   "file_extension": ".py",
   "mimetype": "text/x-python",
   "name": "python",
   "nbconvert_exporter": "python",
   "pygments_lexer": "ipython3",
   "version": "3.11.13"
  }
 },
 "nbformat": 4,
 "nbformat_minor": 5
}
