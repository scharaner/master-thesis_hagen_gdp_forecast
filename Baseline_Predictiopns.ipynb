{
 "cells": [
  {
   "cell_type": "code",
   "execution_count": 1,
   "id": "363520b1",
   "metadata": {},
   "outputs": [],
   "source": [
    "import matplotlib.pyplot as plt\n",
    "import pandas as pd\n",
    "import numpy as np\n",
    "import seaborn as sns\n",
    "from sklearn.metrics import mean_squared_error\n",
    "from Forcasting_lib import load_fred_data, make_stationary, standardize_data"
   ]
  },
  {
   "cell_type": "code",
   "execution_count": null,
   "id": "a4204a0f",
   "metadata": {},
   "outputs": [
    {
     "name": "stdout",
     "output_type": "stream",
     "text": [
      "Datei 'current.csv' gefunden. Lade lokal...\n",
      "Daten erfolgreich vorbereitet.\n",
      "Standardisierung abgeschlossen.\n"
     ]
    }
   ],
   "source": [
    "### Get Baseline Prediciton (y_{t+1}=y_{t})\n",
    "## load and transform data\n",
    "df, transform_codes = load_fred_data()\n",
    "df_stationary = make_stationary(df, transform_codes)\n",
    "cols_to_standardize = [\n",
    "    'GDPC1',      # Reales BIP\n",
    "    'UNRATE',     # Arbeitslosenquote\n",
    "    'FEDFUNDS',   # Federal Funds Rate\n",
    "    'CPILFESL',   # Verbraucherpreisindex ohne Energie und Nahrungsmittel  #fehlt ein Wert \n",
    "    'PAYEMS',     # Beschäftigte außerhalb der Landwirtschaft\n",
    "    'GS10',       # Rendite 10-jähriger Staatsanleihen\n",
    "    'M2REAL',     # Reale Geldmenge M2\n",
    "    'S&P 500'       # S&P 500 Index\n",
    "]\n",
    "df_std, scaler = standardize_data(df_stationary, cols_to_standardize)\n",
    "GDPC1 = df_std['GDPC1']\n"
   ]
  },
  {
   "cell_type": "code",
   "execution_count": null,
   "id": "9b06b2da",
   "metadata": {},
   "outputs": [],
   "source": [
    "y_true = GDPC1[:-1]\n",
    "y_pred = GDPC1.shift(-1)[:-1]  # shift (wegen y_{t-1}) und dann kürzen\n",
    "dates = GDPC1.index[:-1]\n",
    "\n",
    "baseline_results = pd.DataFrame({\n",
    "    \"date\": dates,\n",
    "    \"y_true\": y_true,\n",
    "    \"y_pred\": y_pred,\n",
    "})\n",
    "\n",
    "baseline_results[150:].to_csv('./Data/results/Baseline_forecast_results.csv', index=True)"
   ]
  },
  {
   "cell_type": "code",
   "execution_count": null,
   "id": "6aee6a7f",
   "metadata": {},
   "outputs": [],
   "source": []
  }
 ],
 "metadata": {
  "kernelspec": {
   "display_name": "g",
   "language": "python",
   "name": "python3"
  },
  "language_info": {
   "codemirror_mode": {
    "name": "ipython",
    "version": 3
   },
   "file_extension": ".py",
   "mimetype": "text/x-python",
   "name": "python",
   "nbconvert_exporter": "python",
   "pygments_lexer": "ipython3",
   "version": "3.11.13"
  }
 },
 "nbformat": 4,
 "nbformat_minor": 5
}
